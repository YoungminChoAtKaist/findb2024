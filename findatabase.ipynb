{
 "cells": [
  {
   "cell_type": "markdown",
   "metadata": {},
   "source": [
    "# 금융데이터베이스 Group 7 기말프로젝트\n",
    "\n",
    "* 20249032\t곽기은\tklutzduck@kaist.ac.kr\n",
    "* 20249124\t김태훈\tthk24@kaist.ac.kr\n",
    "* 20249197\t서승건\tseanseo@kaist.ac.kr\n",
    "* 20249366\t장우석\texpressj@kaist.ac.kr\n",
    "* 20249402\t조영민\tyoungmin.cho@kaist.ac.kr\n",
    "* 20249459\t홍성수\tseongsu.hong@kaist.ac.kr"
   ]
  },
  {
   "cell_type": "code",
   "execution_count": 16,
   "metadata": {},
   "outputs": [],
   "source": [
    "import pandas as pd\n",
    "import numpy as np\n",
    "import requests\n",
    "import matplotlib.pyplot as plt\n",
    "import seaborn as sns\n",
    "import statsmodels.api as sm\n",
    "import wbgapi as wb\n",
    "\n",
    "from statsmodels.tsa.stattools import adfuller\n",
    "from pandas.tseries.offsets import MonthEnd, YearEnd\n",
    "from statsmodels.sandbox.regression.predstd import wls_prediction_std\n",
    "from pathlib import Path\n",
    "from PublicDataReader import Ecos\n",
    "from PublicDataReader import Fred\n",
    "\n",
    "# https://ecos.bok.or.kr/api/#/DevGuide/DevSpeciflcation\n",
    "# SSL 보안 장비 등으로 인해 SSL Verification Error가 발생할 경우에 대비해서 requests.get할 때 verify = False하고, warning을 무시하도록 설정한다.\n",
    "# SSL Verification을 끈다.\n",
    "import warnings\n",
    "warnings.filterwarnings(action = 'ignore')"
   ]
  },
  {
   "cell_type": "code",
   "execution_count": 13,
   "metadata": {},
   "outputs": [],
   "source": [
    "# 한국은행 API를 사용하기 위한 인증정보를 설정한다.\n",
    "BOK_API_URL = 'https://ecos.bok.or.kr/api'\n",
    "BOK_API_KEY = 'W2HQL3IHAD2LKU409JDH'\n",
    "\n",
    "FRED_API_KEY = 'c91b752313c5c426691c24ffbde0246e'\n",
    "\n",
    "apiEcos = Ecos(BOK_API_KEY)\n",
    "apiFred = Fred(FRED_API_KEY)"
   ]
  },
  {
   "cell_type": "markdown",
   "metadata": {},
   "source": [
    "## 환율 변화율을 예측하기"
   ]
  },
  {
   "cell_type": "markdown",
   "metadata": {},
   "source": [
    "### IMF 이전 환율정책:\n",
    "\n",
    "* IMF 외환위기 이전 한국은 '관리변동환율제'를 채택하고 있었습니다.\n",
    "* 이 제도 하에서 정부는 환율의 일일 변동폭을 제한하고, 외환시장에 직접 개입하여 환율을 관리했습니다.\n",
    "\n",
    "\n",
    "### IMF 이후 환율정책:\n",
    "\n",
    "* 1997년 12월 IMF 구제금융을 받으면서 한국은 '자유변동환율제'로 전환했습니다.\n",
    "* 이 제도에서는 원칙적으로 시장의 수요와 공급에 따라 환율이 결정됩니다.\n",
    "* 정부의 직접적인 시장 개입은 크게 줄어들었습니다\n",
    "\n",
    "### 아베노믹스 (2012년 ~ ) : 2012년 12월 26일\n",
    "\n",
    "* 영향력: 매우 큼\n",
    "* 지속기간: 장기적 (수년간 지속)\n",
    "* 직접성: 엔화 환율에 직접적인 영향\n",
    "* 의도성: 의도적인 엔화 약세 정책\n",
    "\n",
    "### 아베노믹스는 일본 경제 회복을 위해 의도적으로 엔화 가치를 낮추는 정책을 포함했습니다. \n",
    "### 이로 인해 엔화 가치가 급격히 하락했고, 원/엔 환율에 지속적이고 큰 영향을 미쳤습니다."
   ]
  },
  {
   "cell_type": "markdown",
   "metadata": {},
   "source": [
    "## Convert to monthly observations\n",
    "### End-of-month observation"
   ]
  },
  {
   "cell_type": "code",
   "execution_count": 15,
   "metadata": {},
   "outputs": [
    {
     "data": {
      "text/html": [
       "<div>\n",
       "<style scoped>\n",
       "    .dataframe tbody tr th:only-of-type {\n",
       "        vertical-align: middle;\n",
       "    }\n",
       "\n",
       "    .dataframe tbody tr th {\n",
       "        vertical-align: top;\n",
       "    }\n",
       "\n",
       "    .dataframe thead th {\n",
       "        text-align: right;\n",
       "    }\n",
       "</style>\n",
       "<table border=\"1\" class=\"dataframe\">\n",
       "  <thead>\n",
       "    <tr style=\"text-align: right;\">\n",
       "      <th></th>\n",
       "      <th>KRW/JPY</th>\n",
       "      <th>ret</th>\n",
       "    </tr>\n",
       "    <tr>\n",
       "      <th>date</th>\n",
       "      <th></th>\n",
       "      <th></th>\n",
       "    </tr>\n",
       "  </thead>\n",
       "  <tbody>\n",
       "    <tr>\n",
       "      <th>2013-01-31</th>\n",
       "      <td>1188.47</td>\n",
       "      <td>-4.731864</td>\n",
       "    </tr>\n",
       "    <tr>\n",
       "      <th>2013-02-28</th>\n",
       "      <td>1176.20</td>\n",
       "      <td>-1.032420</td>\n",
       "    </tr>\n",
       "    <tr>\n",
       "      <th>2013-03-31</th>\n",
       "      <td>1180.13</td>\n",
       "      <td>0.334127</td>\n",
       "    </tr>\n",
       "  </tbody>\n",
       "</table>\n",
       "</div>"
      ],
      "text/plain": [
       "            KRW/JPY       ret\n",
       "date                         \n",
       "2013-01-31  1188.47 -4.731864\n",
       "2013-02-28  1176.20 -1.032420\n",
       "2013-03-31  1180.13  0.334127"
      ]
     },
     "execution_count": 15,
     "metadata": {},
     "output_type": "execute_result"
    }
   ],
   "source": [
    "df_xr = apiEcos.get_statistic_search(통계표코드=\"731Y001\", 통계항목코드1=\"0000002\", 주기=\"D\", 검색시작일자=\"20121226\", 검색종료일자=\"20240809\")\n",
    "df_xr = df_xr[['시점','값']]\n",
    "df_xr.rename(columns = {'시점' : 'date', '값' : 'KRW/JPY'}, inplace=True)\n",
    "df_xr['date'] = pd.to_datetime(df_xr['date'])\n",
    "df_xr['KRW/JPY'] = df_xr['KRW/JPY'].astype(float)\n",
    "df_xr = df_xr.set_index('date')\n",
    "df_monthly = df_xr.resample('ME').last()\n",
    "df_monthly['ret'] = df_monthly['KRW/JPY'].pct_change() * 100\n",
    "df_monthly = df_monthly.dropna()\n",
    "df_monthly.head(3)"
   ]
  },
  {
   "cell_type": "code",
   "execution_count": 10,
   "metadata": {},
   "outputs": [
    {
     "data": {
      "text/html": [
       "<table class=\"simpletable\">\n",
       "<caption>OLS Regression Results</caption>\n",
       "<tr>\n",
       "  <th>Dep. Variable:</th>           <td>ret</td>       <th>  R-squared:         </th> <td>   0.000</td>\n",
       "</tr>\n",
       "<tr>\n",
       "  <th>Model:</th>                   <td>OLS</td>       <th>  Adj. R-squared:    </th> <td>  -0.007</td>\n",
       "</tr>\n",
       "<tr>\n",
       "  <th>Method:</th>             <td>Least Squares</td>  <th>  F-statistic:       </th> <td> 0.03353</td>\n",
       "</tr>\n",
       "<tr>\n",
       "  <th>Date:</th>             <td>Sun, 11 Aug 2024</td> <th>  Prob (F-statistic):</th>  <td> 0.855</td> \n",
       "</tr>\n",
       "<tr>\n",
       "  <th>Time:</th>                 <td>13:27:55</td>     <th>  Log-Likelihood:    </th> <td> -319.94</td>\n",
       "</tr>\n",
       "<tr>\n",
       "  <th>No. Observations:</th>      <td>   139</td>      <th>  AIC:               </th> <td>   643.9</td>\n",
       "</tr>\n",
       "<tr>\n",
       "  <th>Df Residuals:</th>          <td>   137</td>      <th>  BIC:               </th> <td>   649.7</td>\n",
       "</tr>\n",
       "<tr>\n",
       "  <th>Df Model:</th>              <td>     1</td>      <th>                     </th>     <td> </td>   \n",
       "</tr>\n",
       "<tr>\n",
       "  <th>Covariance Type:</th>      <td>nonrobust</td>    <th>                     </th>     <td> </td>   \n",
       "</tr>\n",
       "</table>\n",
       "<table class=\"simpletable\">\n",
       "<tr>\n",
       "    <td></td>       <th>coef</th>     <th>std err</th>      <th>t</th>      <th>P>|t|</th>  <th>[0.025</th>    <th>0.975]</th>  \n",
       "</tr>\n",
       "<tr>\n",
       "  <th>const</th> <td>   -0.1469</td> <td>    0.207</td> <td>   -0.709</td> <td> 0.480</td> <td>   -0.557</td> <td>    0.263</td>\n",
       "</tr>\n",
       "<tr>\n",
       "  <th>x1</th>    <td>   -0.0156</td> <td>    0.085</td> <td>   -0.183</td> <td> 0.855</td> <td>   -0.183</td> <td>    0.152</td>\n",
       "</tr>\n",
       "</table>\n",
       "<table class=\"simpletable\">\n",
       "<tr>\n",
       "  <th>Omnibus:</th>       <td> 0.974</td> <th>  Durbin-Watson:     </th> <td>   1.996</td>\n",
       "</tr>\n",
       "<tr>\n",
       "  <th>Prob(Omnibus):</th> <td> 0.614</td> <th>  Jarque-Bera (JB):  </th> <td>   0.908</td>\n",
       "</tr>\n",
       "<tr>\n",
       "  <th>Skew:</th>          <td> 0.196</td> <th>  Prob(JB):          </th> <td>   0.635</td>\n",
       "</tr>\n",
       "<tr>\n",
       "  <th>Kurtosis:</th>      <td> 2.940</td> <th>  Cond. No.          </th> <td>    2.45</td>\n",
       "</tr>\n",
       "</table><br/><br/>Notes:<br/>[1] Standard Errors assume that the covariance matrix of the errors is correctly specified."
      ],
      "text/latex": [
       "\\begin{center}\n",
       "\\begin{tabular}{lclc}\n",
       "\\toprule\n",
       "\\textbf{Dep. Variable:}    &       ret        & \\textbf{  R-squared:         } &     0.000   \\\\\n",
       "\\textbf{Model:}            &       OLS        & \\textbf{  Adj. R-squared:    } &    -0.007   \\\\\n",
       "\\textbf{Method:}           &  Least Squares   & \\textbf{  F-statistic:       } &   0.03353   \\\\\n",
       "\\textbf{Date:}             & Sun, 11 Aug 2024 & \\textbf{  Prob (F-statistic):} &    0.855    \\\\\n",
       "\\textbf{Time:}             &     13:27:55     & \\textbf{  Log-Likelihood:    } &   -319.94   \\\\\n",
       "\\textbf{No. Observations:} &         139      & \\textbf{  AIC:               } &     643.9   \\\\\n",
       "\\textbf{Df Residuals:}     &         137      & \\textbf{  BIC:               } &     649.7   \\\\\n",
       "\\textbf{Df Model:}         &           1      & \\textbf{                     } &             \\\\\n",
       "\\textbf{Covariance Type:}  &    nonrobust     & \\textbf{                     } &             \\\\\n",
       "\\bottomrule\n",
       "\\end{tabular}\n",
       "\\begin{tabular}{lcccccc}\n",
       "               & \\textbf{coef} & \\textbf{std err} & \\textbf{t} & \\textbf{P$> |$t$|$} & \\textbf{[0.025} & \\textbf{0.975]}  \\\\\n",
       "\\midrule\n",
       "\\textbf{const} &      -0.1469  &        0.207     &    -0.709  &         0.480        &       -0.557    &        0.263     \\\\\n",
       "\\textbf{x1}    &      -0.0156  &        0.085     &    -0.183  &         0.855        &       -0.183    &        0.152     \\\\\n",
       "\\bottomrule\n",
       "\\end{tabular}\n",
       "\\begin{tabular}{lclc}\n",
       "\\textbf{Omnibus:}       &  0.974 & \\textbf{  Durbin-Watson:     } &    1.996  \\\\\n",
       "\\textbf{Prob(Omnibus):} &  0.614 & \\textbf{  Jarque-Bera (JB):  } &    0.908  \\\\\n",
       "\\textbf{Skew:}          &  0.196 & \\textbf{  Prob(JB):          } &    0.635  \\\\\n",
       "\\textbf{Kurtosis:}      &  2.940 & \\textbf{  Cond. No.          } &     2.45  \\\\\n",
       "\\bottomrule\n",
       "\\end{tabular}\n",
       "%\\caption{OLS Regression Results}\n",
       "\\end{center}\n",
       "\n",
       "Notes: \\newline\n",
       " [1] Standard Errors assume that the covariance matrix of the errors is correctly specified."
      ],
      "text/plain": [
       "<class 'statsmodels.iolib.summary.Summary'>\n",
       "\"\"\"\n",
       "                            OLS Regression Results                            \n",
       "==============================================================================\n",
       "Dep. Variable:                    ret   R-squared:                       0.000\n",
       "Model:                            OLS   Adj. R-squared:                 -0.007\n",
       "Method:                 Least Squares   F-statistic:                   0.03353\n",
       "Date:                Sun, 11 Aug 2024   Prob (F-statistic):              0.855\n",
       "Time:                        13:27:55   Log-Likelihood:                -319.94\n",
       "No. Observations:                 139   AIC:                             643.9\n",
       "Df Residuals:                     137   BIC:                             649.7\n",
       "Df Model:                           1                                         \n",
       "Covariance Type:            nonrobust                                         \n",
       "==============================================================================\n",
       "                 coef    std err          t      P>|t|      [0.025      0.975]\n",
       "------------------------------------------------------------------------------\n",
       "const         -0.1469      0.207     -0.709      0.480      -0.557       0.263\n",
       "x1            -0.0156      0.085     -0.183      0.855      -0.183       0.152\n",
       "==============================================================================\n",
       "Omnibus:                        0.974   Durbin-Watson:                   1.996\n",
       "Prob(Omnibus):                  0.614   Jarque-Bera (JB):                0.908\n",
       "Skew:                           0.196   Prob(JB):                        0.635\n",
       "Kurtosis:                       2.940   Cond. No.                         2.45\n",
       "==============================================================================\n",
       "\n",
       "Notes:\n",
       "[1] Standard Errors assume that the covariance matrix of the errors is correctly specified.\n",
       "\"\"\""
      ]
     },
     "execution_count": 10,
     "metadata": {},
     "output_type": "execute_result"
    }
   ],
   "source": [
    "X = df_monthly.iloc[:-1]['ret']\n",
    "X = sm.add_constant(X)\n",
    "Y = df_monthly.iloc[1:]['ret']\n",
    "\n",
    "sm.OLS(Y, X.values).fit().summary()"
   ]
  },
  {
   "cell_type": "code",
   "execution_count": 11,
   "metadata": {},
   "outputs": [
    {
     "data": {
      "image/png": "[encoded data removed]",
      "text/plain": [
       "<Figure size 1000x400 with 1 Axes>"
      ]
     },
     "metadata": {},
     "output_type": "display_data"
    }
   ],
   "source": [
    "plt.rcParams['figure.figsize'] = (10, 4)\n",
    "plt.plot(df_monthly['KRW/JPY'])\n",
    "plt.show()"
   ]
  },
  {
   "cell_type": "code",
   "execution_count": 46,
   "metadata": {},
   "outputs": [
    {
     "data": {
      "text/html": [
       "<div>\n",
       "<style scoped>\n",
       "    .dataframe tbody tr th:only-of-type {\n",
       "        vertical-align: middle;\n",
       "    }\n",
       "\n",
       "    .dataframe tbody tr th {\n",
       "        vertical-align: top;\n",
       "    }\n",
       "\n",
       "    .dataframe thead th {\n",
       "        text-align: right;\n",
       "    }\n",
       "</style>\n",
       "<table border=\"1\" class=\"dataframe\">\n",
       "  <thead>\n",
       "    <tr style=\"text-align: right;\">\n",
       "      <th></th>\n",
       "      <th>KOR Real XR</th>\n",
       "    </tr>\n",
       "    <tr>\n",
       "      <th>date</th>\n",
       "      <th></th>\n",
       "    </tr>\n",
       "  </thead>\n",
       "  <tbody>\n",
       "    <tr>\n",
       "      <th>1990-12-31</th>\n",
       "      <td>0.791111</td>\n",
       "    </tr>\n",
       "    <tr>\n",
       "      <th>1991-12-31</th>\n",
       "      <td>0.806041</td>\n",
       "    </tr>\n",
       "    <tr>\n",
       "      <th>1992-12-31</th>\n",
       "      <td>0.797916</td>\n",
       "    </tr>\n",
       "  </tbody>\n",
       "</table>\n",
       "</div>"
      ],
      "text/plain": [
       "            KOR Real XR\n",
       "date                   \n",
       "1990-12-31     0.791111\n",
       "1991-12-31     0.806041\n",
       "1992-12-31     0.797916"
      ]
     },
     "execution_count": 46,
     "metadata": {},
     "output_type": "execute_result"
    }
   ],
   "source": [
    "df_real_xr = wb.data.DataFrame('PA.NUS.PPPC.RF', numericTimeKeys=True)\n",
    "df_real_xr_kor = df_real_xr.loc['KOR'].to_frame()\n",
    "df_real_xr_kor = df_real_xr_kor.dropna()\n",
    "df_real_xr_kor['KOR'] = df_real_xr_kor['KOR'].astype(float)\n",
    "df_real_xr_kor['date'] = pd.to_datetime(df_real_xr_kor.index.astype(str)) + YearEnd()\n",
    "df_real_xr_kor = df_real_xr_kor.set_index('date')\n",
    "df_real_xr_kor.columns = ['KOR Real XR']\n",
    "df_real_xr_kor.head(3)"
   ]
  },
  {
   "cell_type": "code",
   "execution_count": 49,
   "metadata": {},
   "outputs": [
    {
     "data": {
      "text/html": [
       "<div>\n",
       "<style scoped>\n",
       "    .dataframe tbody tr th:only-of-type {\n",
       "        vertical-align: middle;\n",
       "    }\n",
       "\n",
       "    .dataframe tbody tr th {\n",
       "        vertical-align: top;\n",
       "    }\n",
       "\n",
       "    .dataframe thead th {\n",
       "        text-align: right;\n",
       "    }\n",
       "</style>\n",
       "<table border=\"1\" class=\"dataframe\">\n",
       "  <thead>\n",
       "    <tr style=\"text-align: right;\">\n",
       "      <th></th>\n",
       "      <th>JPN Real XR</th>\n",
       "    </tr>\n",
       "    <tr>\n",
       "      <th>date</th>\n",
       "      <th></th>\n",
       "    </tr>\n",
       "  </thead>\n",
       "  <tbody>\n",
       "    <tr>\n",
       "      <th>1990-12-31</th>\n",
       "      <td>1.295738</td>\n",
       "    </tr>\n",
       "    <tr>\n",
       "      <th>1991-12-31</th>\n",
       "      <td>1.386324</td>\n",
       "    </tr>\n",
       "    <tr>\n",
       "      <th>1992-12-31</th>\n",
       "      <td>1.465824</td>\n",
       "    </tr>\n",
       "  </tbody>\n",
       "</table>\n",
       "</div>"
      ],
      "text/plain": [
       "            JPN Real XR\n",
       "date                   \n",
       "1990-12-31     1.295738\n",
       "1991-12-31     1.386324\n",
       "1992-12-31     1.465824"
      ]
     },
     "execution_count": 49,
     "metadata": {},
     "output_type": "execute_result"
    }
   ],
   "source": [
    "df_real_xr_jpn = df_real_xr.loc['JPN'].to_frame()\n",
    "df_real_xr_jpn = df_real_xr_jpn.iloc[3:]\n",
    "df_real_xr_jpn = df_real_xr_jpn.dropna()\n",
    "df_real_xr_jpn['JPN'] = df_real_xr_jpn['JPN'].astype(float)\n",
    "df_real_xr_jpn['date'] = pd.to_datetime(df_real_xr_jpn.index.astype(str)) + YearEnd()\n",
    "df_real_xr_jpn = df_real_xr_jpn.set_index('date')\n",
    "df_real_xr_jpn.columns = ['JPN Real XR']\n",
    "df_real_xr_jpn.head(3)"
   ]
  },
  {
   "cell_type": "code",
   "execution_count": null,
   "metadata": {},
   "outputs": [],
   "source": [
    "# 기존의 KOR와 JPN 데이터프레임을 합칩니다\n",
    "df_combined = pd.concat([df_real_xr_kor, df_real_xr_jpn], axis = 1)\n",
    "\n",
    "# KRW/JPY 실질환율 계산\n",
    "# KRW/USD를 JPY/USD로 나눈다.\n",
    "df_combined['KRW/JPY Real XR'] = df_combined['KOR Real XR'] / (df_combined['JPN Real XR'])\n",
    "\n",
    "# 결과 확인\n",
    "df_combined.tail(3)"
   ]
  },
  {
   "cell_type": "code",
   "execution_count": null,
   "metadata": {},
   "outputs": [],
   "source": [
    "df_real_xr = df_combined['KRW/JPY Real XR']"
   ]
  },
  {
   "cell_type": "code",
   "execution_count": null,
   "metadata": {},
   "outputs": [],
   "source": [
    "plt.plot(df_real_xr)\n",
    "plt.show()"
   ]
  },
  {
   "cell_type": "markdown",
   "metadata": {},
   "source": [
    "## Overlapping monthly forecasts"
   ]
  },
  {
   "cell_type": "code",
   "execution_count": null,
   "metadata": {},
   "outputs": [],
   "source": [
    "df_monthly = df_monthly.drop('ret', axis = 1)\n",
    "df_merged = df_monthly.join(df_real_xr)\n",
    "# ffill - forward fill\n",
    "# bfill - backward fill\n",
    "df_merged['KRW/JPY Real XR'] = df_merged['KRW/JPY Real XR'].ffill()\n",
    "\n",
    "df_merged['ann_ret'] = df_merged['KRW/JPY'].pct_change(periods = 12) * 100\n",
    "\n",
    "df_merged['F12.ann_ret'] = df_merged['ann_ret'].shift(-12)\n",
    "\n",
    "df_merged.head(15)\n"
   ]
  },
  {
   "cell_type": "markdown",
   "metadata": {},
   "source": [
    "### Use OLS to fit the forecast model"
   ]
  },
  {
   "cell_type": "code",
   "execution_count": null,
   "metadata": {},
   "outputs": [],
   "source": [
    "df = df_merged[['KRW/JPY Real XR', 'F12.ann_ret']]\n",
    "df = df.dropna()"
   ]
  },
  {
   "cell_type": "code",
   "execution_count": null,
   "metadata": {},
   "outputs": [],
   "source": [
    "X = df['KRW/JPY Real XR']\n",
    "X = sm.add_constant(X)\n",
    "Y = df['F12.ann_ret']\n",
    "\n",
    "sm.OLS(Y, X).fit().summary()"
   ]
  },
  {
   "cell_type": "markdown",
   "metadata": {},
   "source": [
    "## Real XR 대신 PPP XR 활용하기"
   ]
  },
  {
   "cell_type": "code",
   "execution_count": null,
   "metadata": {},
   "outputs": [],
   "source": [
    "def load_world_bank_data(filepath, country, column):\n",
    "    df = pd.read_excel(filepath, sheet_name = 'Data', skiprows = 3)\n",
    "\n",
    "    df = df.set_index('Country Code')\n",
    "    df = df.loc[country].to_frame()\n",
    "    df = df.iloc[3:]\n",
    "    df = df.dropna()\n",
    "    df = df.astype(float)\n",
    "    \n",
    "    df['date'] = pd.to_datetime(df.index) + YearEnd()\n",
    "    df = df.set_index('date')\n",
    "    df.columns = [column]\n",
    "    \n",
    "    return df"
   ]
  },
  {
   "cell_type": "code",
   "execution_count": null,
   "metadata": {},
   "outputs": [],
   "source": [
    "df_ppp_xr_kor = load_world_bank_data(Path('data/world_ppp_xr.xls'), 'KOR', 'PPP XR')\n",
    "df_ppp_xr_jpn = load_world_bank_data(Path('data/world_ppp_xr.xls'), 'JPN', 'PPP XR')"
   ]
  },
  {
   "cell_type": "code",
   "execution_count": null,
   "metadata": {},
   "outputs": [],
   "source": [
    "df_ppp_combined = pd.concat([df_ppp_xr_kor, df_ppp_xr_jpn], axis = 1)\n",
    "df_ppp_combined.columns = ['KOR PPP XR', 'JPN PPP XR']\n",
    "df_ppp_combined['KRW/JPY PPP XR'] = df_ppp_combined['KOR PPP XR'] / (df_ppp_combined['JPN PPP XR'])\n",
    "df_ppp_xr = df_ppp_combined.drop(['KOR PPP XR', 'JPN PPP XR'], axis = 1)"
   ]
  },
  {
   "cell_type": "code",
   "execution_count": null,
   "metadata": {},
   "outputs": [],
   "source": [
    "df_ppp_xr.head(3)"
   ]
  },
  {
   "cell_type": "markdown",
   "metadata": {},
   "source": [
    "### Merge with monthly observations"
   ]
  },
  {
   "cell_type": "code",
   "execution_count": null,
   "metadata": {},
   "outputs": [],
   "source": [
    "df_merged = df_monthly.join(df_real_xr)\n",
    "df_merged = df_merged.join(df_ppp_xr)\n",
    "df_merged.head(3)"
   ]
  },
  {
   "cell_type": "markdown",
   "metadata": {},
   "source": [
    "### Compute Real XR"
   ]
  },
  {
   "cell_type": "code",
   "execution_count": null,
   "metadata": {},
   "outputs": [],
   "source": [
    "df_merged['KRW/JPY PPP XR'] = df_merged['KRW/JPY PPP XR'].ffill()\n",
    "df_merged.head(3)"
   ]
  },
  {
   "cell_type": "code",
   "execution_count": null,
   "metadata": {},
   "outputs": [],
   "source": [
    "df_merged['New Real XR'] = df_merged['KRW/JPY PPP XR'] / df_merged['KRW/JPY'] * 100\n",
    "df_merged.tail(3)"
   ]
  },
  {
   "cell_type": "code",
   "execution_count": null,
   "metadata": {},
   "outputs": [],
   "source": [
    "df_merged['KRW/JPY Real XR'] = df_merged['KRW/JPY Real XR'].ffill()"
   ]
  },
  {
   "cell_type": "code",
   "execution_count": null,
   "metadata": {},
   "outputs": [],
   "source": [
    "plt.plot(df_merged['New Real XR'], label='New Real XR')\n",
    "plt.plot(df_merged['KRW/JPY Real XR'].shift(-12), label='World Bank')\n",
    "plt.legend()\n",
    "plt.show()"
   ]
  },
  {
   "cell_type": "markdown",
   "metadata": {},
   "source": [
    "## Compute annual XR return"
   ]
  },
  {
   "cell_type": "code",
   "execution_count": null,
   "metadata": {},
   "outputs": [],
   "source": [
    "df_merged['ann_ret'] = df_merged['KRW/JPY'].pct_change(periods = 12) * 100\n",
    "df_merged['F12.ann_ret'] = df_merged['ann_ret'].shift(-12)\n",
    "df_merged.head(5)"
   ]
  },
  {
   "cell_type": "markdown",
   "metadata": {},
   "source": [
    "### Use OLS to fit the forecast model"
   ]
  },
  {
   "cell_type": "code",
   "execution_count": null,
   "metadata": {},
   "outputs": [],
   "source": [
    "df = df_merged[['New Real XR', 'F12.ann_ret']]\n",
    "df = df.dropna()\n",
    "\n",
    "X = df['New Real XR']\n",
    "X = sm.add_constant(X)\n",
    "Y = df['F12.ann_ret']\n",
    "\n",
    "results = sm.OLS(Y,X).fit()\n",
    "results.summary()"
   ]
  },
  {
   "cell_type": "markdown",
   "metadata": {},
   "source": [
    "### Predict XR"
   ]
  },
  {
   "cell_type": "code",
   "execution_count": null,
   "metadata": {},
   "outputs": [],
   "source": [
    "last_obs = df_merged.iloc[-1]\n",
    "last_obs"
   ]
  },
  {
   "cell_type": "code",
   "execution_count": null,
   "metadata": {},
   "outputs": [],
   "source": [
    "last_xr = last_obs['KRW/JPY']\n",
    "last_real_xr = last_obs['New Real XR']"
   ]
  },
  {
   "cell_type": "code",
   "execution_count": null,
   "metadata": {},
   "outputs": [],
   "source": [
    "last_xr"
   ]
  },
  {
   "cell_type": "code",
   "execution_count": null,
   "metadata": {},
   "outputs": [],
   "source": [
    "last_real_xr"
   ]
  },
  {
   "cell_type": "markdown",
   "metadata": {},
   "source": [
    "### OLS 결과 그대로 사용하여 예측"
   ]
  },
  {
   "cell_type": "code",
   "execution_count": null,
   "metadata": {},
   "outputs": [],
   "source": [
    "#exogeneous variables\n",
    "exog = [1, last_real_xr]\n",
    "results.predict(exog = exog)"
   ]
  },
  {
   "cell_type": "markdown",
   "metadata": {},
   "source": [
    "### Confidence Interval"
   ]
  },
  {
   "cell_type": "code",
   "execution_count": null,
   "metadata": {},
   "outputs": [],
   "source": [
    "for alpha in [0.05, 0.25, 0.50]:\n",
    "    prstd, iv_l, iv_u = wls_prediction_std(results, exog = exog, alpha = alpha)\n",
    "    \n",
    "    print('Confidence interval at alpha = {:.2f}: {:.2f} ~ {:.2f}'.format(\n",
    "        alpha,\n",
    "        iv_l[0],\n",
    "        iv_u[0],\n",
    "    ))"
   ]
  },
  {
   "cell_type": "markdown",
   "metadata": {},
   "source": [
    "### 환율 예측하기"
   ]
  },
  {
   "cell_type": "code",
   "execution_count": null,
   "metadata": {},
   "outputs": [],
   "source": [
    "pred_ret = results.predict(exog = exog)\n",
    "last_xr * (1 + pred_ret[0] / 100)"
   ]
  },
  {
   "cell_type": "code",
   "execution_count": null,
   "metadata": {},
   "outputs": [],
   "source": [
    "for alpha in [0.05, 0.25, 0.50]:\n",
    "    prstd, iv_l, iv_u = wls_prediction_std(results, exog = exog, alpha = alpha)\n",
    "    \n",
    "    print('Confidence interval at alpha = {:.2f}: {:.2f} ~ {:.2f}'.format(\n",
    "        alpha,\n",
    "        last_xr * (1 + iv_l[0] / 100),\n",
    "        last_xr * (1 + iv_u[0] / 100),\n",
    "    ))"
   ]
  },
  {
   "cell_type": "markdown",
   "metadata": {},
   "source": [
    "## 추가 지표 획득"
   ]
  },
  {
   "cell_type": "code",
   "execution_count": null,
   "metadata": {},
   "outputs": [],
   "source": [
    "def fetch_bok_data(service_code, stat_code=None, item=None):\n",
    "    url = f\"{BOK_API_URL}/{service_code}/{BOK_API_KEY}/json/kr/1/100000\"\n",
    "    \n",
    "    if item is not None:\n",
    "        url += \"/{}/{}/{}/{}/{}\".format(item['STAT_CODE'], item['CYCLE'], item['START_TIME'], item['END_TIME'], item['ITEM_CODE'])\n",
    "        \n",
    "        if type(item['ITEM_CODE2']) is str:\n",
    "            url += f\"/{item['ITEM_CODE2']}\"\n",
    "        \n",
    "    elif stat_code is not None:\n",
    "        url += f\"/{stat_code}\"\n",
    "    \n",
    "    print(url)\n",
    "    \n",
    "    resp = requests.get(url, verify = False)\n",
    "    results = resp.json()\n",
    "    rows = results[service_code]['row']\n",
    "    df = pd.DataFrame(rows)\n",
    "    \n",
    "    return df"
   ]
  },
  {
   "cell_type": "code",
   "execution_count": null,
   "metadata": {},
   "outputs": [],
   "source": [
    "TARGET_STAT_CODES = [\n",
    "    '731Y001',  # 3.1.1.1. 주요국 통화의 대원화환율\n",
    "    '902Y008',  # 9.1.2.2. 국제 주요국 소비자물가지수\n",
    "    '902Y009',  # 9.1.3.1. 국제 주요국 경상수지\n",
    "    '902Y015',  # 9.1.4.1. 국제 주요국 경제성장률\n",
    "    '902Y016',  # 9.1.4.2. 국제 주요국 국내총생산(GDP)\n",
    "    '902Y023',  # 9.1.6.1. 주요국제금리\n",
    "    '817Y002',  # 1.3.2.1. 시장금리(일별)\n",
    "    '732Y001',  # 3.5. 외환보유액\n",
    "]"
   ]
  },
  {
   "cell_type": "code",
   "execution_count": null,
   "metadata": {},
   "outputs": [],
   "source": [
    "dfs = []\n",
    "\n",
    "for stat_code in TARGET_STAT_CODES:\n",
    "    df = fetch_bok_data('StatisticItemList', stat_code = stat_code)\n",
    "    \n",
    "    dfs.append(df)"
   ]
  },
  {
   "cell_type": "code",
   "execution_count": null,
   "metadata": {},
   "outputs": [],
   "source": [
    "df_item_codes = pd.concat(dfs, axis = 0)"
   ]
  },
  {
   "cell_type": "code",
   "execution_count": null,
   "metadata": {},
   "outputs": [],
   "source": [
    "df_item_codes.to_excel(Path('data/bok_item_codes.xlsx'), index = False)"
   ]
  },
  {
   "cell_type": "code",
   "execution_count": null,
   "metadata": {},
   "outputs": [],
   "source": [
    "df_item_codes = df_item_codes.set_index(['STAT_CODE', 'ITEM_CODE', 'CYCLE'])"
   ]
  },
  {
   "cell_type": "markdown",
   "metadata": {},
   "source": [
    "### Download data values"
   ]
  },
  {
   "cell_type": "code",
   "execution_count": null,
   "metadata": {},
   "outputs": [],
   "source": [
    "data_download_list = pd.read_excel(Path('data/bok_data_download_list_jpy.xlsx'))"
   ]
  },
  {
   "cell_type": "code",
   "execution_count": null,
   "metadata": {},
   "outputs": [],
   "source": [
    "data_download_list"
   ]
  },
  {
   "cell_type": "code",
   "execution_count": null,
   "metadata": {},
   "outputs": [],
   "source": [
    "#iterate over row\n",
    "for idx, row in data_download_list.iterrows():\n",
    "    name = row['name']\n",
    "    print(f\"Downloading {name}...\")\n",
    "    \n",
    "    idx = (row.STAT_CODE, row.ITEM_CODE, row.CYCLE)\n",
    "    item = df_item_codes.loc[idx]\n",
    "    item ={**item, **row}\n",
    "    \n",
    "    df = fetch_bok_data('StatisticSearch', item = item)\n",
    "    df = df[['TIME', 'DATA_VALUE']]\n",
    "    \n",
    "    if row['CYCLE'] == 'D':\n",
    "        df['date'] = pd.to_datetime(df['TIME'])\n",
    "    \n",
    "    elif row['CYCLE'] == 'M':\n",
    "        df['date'] = pd.to_datetime(df['TIME'], format = '%Y%m') + MonthEnd()\n",
    "    \n",
    "    elif row['CYCLE'] == 'Q':\n",
    "        df['year'] = df['TIME'].str[:4]\n",
    "        df['month'] = df['TIME'].str[-1].astype(int) * 3\n",
    "        df['day'] = 1\n",
    "        df['date'] = pd.to_datetime(df[['year', 'month', 'day']]) + MonthEnd()\n",
    "    \n",
    "    elif row['CYCLE'] == 'A':\n",
    "        df['date'] = pd.to_datetime(df['TIME']) + YearEnd()\n",
    "    \n",
    "    else:\n",
    "        raise RuntimeError()\n",
    "        \n",
    "    df = df[['date','DATA_VALUE']]\n",
    "    df = df.rename(columns={'DATA_VALUE': name, })\n",
    "    \n",
    "    df[name] = df[name].astype(float)\n",
    "    \n",
    "    df.to_excel(Path(f\"data/{name}.xlsx\"), index = False)\n",
    "    \n",
    "print('** Completed!! **')"
   ]
  },
  {
   "cell_type": "markdown",
   "metadata": {},
   "source": [
    "## BOK 파일 불러오기"
   ]
  },
  {
   "cell_type": "code",
   "execution_count": null,
   "metadata": {},
   "outputs": [],
   "source": [
    "filenames = [\n",
    "    'krw_jpy_xr',\n",
    "    'current_account_korea',\n",
    "    'current_account_us',\n",
    "    'current_account_jp',\n",
    "    'gdp_korea',\n",
    "    'gdp_us',\n",
    "    'gdp_jp',\n",
    "    'gdp_growth_korea',\n",
    "    'gdp_growth_jp',\n",
    "    'gdp_growth_us',\n",
    "    'cpi_korea',\n",
    "    'cpi_jp',\n",
    "    'cpi_us',\n",
    "    'int_rate_korea',\n",
    "    'int_rate_jp',\n",
    "    'int_rate_us',\n",
    "    'foreign_reserves',\n",
    "]"
   ]
  },
  {
   "cell_type": "code",
   "execution_count": null,
   "metadata": {},
   "outputs": [],
   "source": [
    "dfs = []\n",
    "\n",
    "for fname in filenames:\n",
    "    print(f\"Loding {fname}....\")\n",
    "    \n",
    "    df = pd.read_excel(Path(f\"data/{fname}.xlsx\"))\n",
    "    df = df.set_index('date')\n",
    "    \n",
    "    if fname in ['gdp_growth_korea',\n",
    "        'gdp_growth_jp',\n",
    "        'gdp_growth_us',\n",
    "        'current_account_us',\n",
    "        'current_account_jp',\n",
    "        'current_account_korea',\n",
    "                ]:\n",
    "        df[fname] = df[fname].rolling(4).sum()\n",
    "    \n",
    "    dfs.append(df)\n",
    "    \n",
    "print('** Completed **')"
   ]
  },
  {
   "cell_type": "markdown",
   "metadata": {},
   "source": [
    "### World Bank 데이터로 계산했었던 KOR/JPY PPP XR 불러오기"
   ]
  },
  {
   "cell_type": "code",
   "execution_count": null,
   "metadata": {},
   "outputs": [],
   "source": [
    "dfs.append(df_ppp_xr)"
   ]
  },
  {
   "cell_type": "markdown",
   "metadata": {},
   "source": [
    "## Merge the datasets"
   ]
  },
  {
   "cell_type": "code",
   "execution_count": null,
   "metadata": {},
   "outputs": [],
   "source": [
    "df_merged = pd.concat(dfs, axis = 1)\n",
    "df_merged = df_merged.resample('ME').last()\n",
    "df_merged = df_merged.ffill()\n",
    "df_merged.loc['2010-01-01':].head()"
   ]
  },
  {
   "cell_type": "code",
   "execution_count": null,
   "metadata": {},
   "outputs": [],
   "source": []
  },
  {
   "cell_type": "code",
   "execution_count": null,
   "metadata": {},
   "outputs": [],
   "source": []
  },
  {
   "cell_type": "markdown",
   "metadata": {},
   "source": [
    "# >>반영할 수 있는 지표들"
   ]
  },
  {
   "cell_type": "markdown",
   "metadata": {},
   "source": [
    "### 환율 수익률"
   ]
  },
  {
   "cell_type": "code",
   "execution_count": null,
   "metadata": {},
   "outputs": [],
   "source": [
    "df_merged['ann_ret'] = df_merged['KRW/JPY'].pct_change(periods = 12) * 100\n",
    "df_merged['F12.ann_ret'] = df_merged['ann_ret'].shift(-12)"
   ]
  },
  {
   "cell_type": "markdown",
   "metadata": {},
   "source": [
    "### Real XR"
   ]
  },
  {
   "cell_type": "code",
   "execution_count": null,
   "metadata": {},
   "outputs": [],
   "source": [
    "df_merged['real_xr'] = df_merged['KRW/JPY PPP XR'] / df_merged['KRW/JPY']"
   ]
  },
  {
   "cell_type": "markdown",
   "metadata": {},
   "source": [
    "### Current accounts(경상수지) relative to GDP"
   ]
  },
  {
   "cell_type": "code",
   "execution_count": null,
   "metadata": {},
   "outputs": [],
   "source": [
    "df_merged['ca_gdp_korea'] = df_merged['current_account_korea'] / df_merged['gdp_korea'] * 100\n",
    "df_merged['ca_gdp_jp'] = df_merged['current_account_jp'] / df_merged['gdp_jp'] * 100"
   ]
  },
  {
   "cell_type": "code",
   "execution_count": null,
   "metadata": {},
   "outputs": [],
   "source": [
    "#stationary process\n",
    "plt.plot(df_merged.loc['2012-12-26':]['ca_gdp_korea'], label = 'ca_gdp_korea')\n",
    "plt.plot(df_merged.loc['2012-12-26':]['ca_gdp_jp'], label = 'ca_gdp_jp')\n",
    "plt.legend()\n",
    "plt.show()"
   ]
  },
  {
   "cell_type": "markdown",
   "metadata": {},
   "source": [
    "### GDP Growth"
   ]
  },
  {
   "cell_type": "code",
   "execution_count": null,
   "metadata": {},
   "outputs": [],
   "source": [
    "df_merged['gdp_growth_korea2'] = df_merged['gdp_korea'].pct_change(periods = 12) * 100\n",
    "df_merged['gdp_growth_jp2'] = df_merged['gdp_jp'].pct_change(periods = 12) * 100"
   ]
  },
  {
   "cell_type": "markdown",
   "metadata": {},
   "source": [
    "### Inflation (YoY, Y/Y)"
   ]
  },
  {
   "cell_type": "code",
   "execution_count": null,
   "metadata": {},
   "outputs": [],
   "source": [
    "df_merged['infl_korea'] = df_merged['cpi_korea'].pct_change(periods = 12) * 100\n",
    "df_merged['infl_jp'] = df_merged['cpi_jp'].pct_change(periods = 12) * 100"
   ]
  },
  {
   "cell_type": "markdown",
   "metadata": {},
   "source": [
    "### 상대적 인플레이션 & 금리 차이"
   ]
  },
  {
   "cell_type": "code",
   "execution_count": null,
   "metadata": {},
   "outputs": [],
   "source": [
    "df_merged['infl_diff'] = df_merged['infl_korea'] - df_merged['infl_jp']\n",
    "df_merged['int_rate_diff'] = df_merged['int_rate_korea'] - df_merged['int_rate_jp']"
   ]
  },
  {
   "cell_type": "markdown",
   "metadata": {},
   "source": [
    "### GDP 대비 외환보유액 및 증가율"
   ]
  },
  {
   "cell_type": "code",
   "execution_count": null,
   "metadata": {},
   "outputs": [],
   "source": [
    "df_merged['reserves_to_gdp'] = df_merged['foreign_reserves'] / df_merged['gdp_korea'] / 1000 * 100\n",
    "df_merged['reserves_growth'] = df_merged['foreign_reserves'].pct_change(periods = 12) * 100"
   ]
  },
  {
   "cell_type": "markdown",
   "metadata": {},
   "source": [
    "### 필요한 컬럼만 남김"
   ]
  },
  {
   "cell_type": "code",
   "execution_count": null,
   "metadata": {},
   "outputs": [],
   "source": [
    "df_sample = df_merged[[\n",
    "    'F12.ann_ret', 'real_xr',\n",
    "    'ca_gdp_korea', 'ca_gdp_jp',\n",
    "    'gdp_growth_korea', 'gdp_growth_jp',\n",
    "    'infl_diff', 'int_rate_diff',\n",
    "    'reserves_to_gdp', 'reserves_growth'\n",
    "]]"
   ]
  },
  {
   "cell_type": "code",
   "execution_count": null,
   "metadata": {},
   "outputs": [],
   "source": [
    "df_sample = df_sample.dropna()\n",
    "df_sample = df_sample.loc['1998-12-31':]"
   ]
  },
  {
   "cell_type": "code",
   "execution_count": null,
   "metadata": {},
   "outputs": [],
   "source": [
    "df_sample.head(3)"
   ]
  },
  {
   "cell_type": "code",
   "execution_count": null,
   "metadata": {},
   "outputs": [],
   "source": [
    "corr = df_sample.corr()\n",
    "# triu = upper triangle\n",
    "mask = np.triu(np.ones_like(corr))\n",
    "cmap=sns.diverging_palette(230, 20, as_cmap = True)\n",
    "mask=np.triu(np.ones_like(corr, dtype=bool))\n",
    "sns.heatmap(corr, mask = mask, cmap = cmap, vmin = -1, vmax = 1)\n",
    "plt.show()"
   ]
  },
  {
   "cell_type": "code",
   "execution_count": null,
   "metadata": {},
   "outputs": [],
   "source": [
    "X = df_sample\n",
    "X = sm.add_constant(X)\n",
    "Y = df_sample['F12.ann_ret']\n",
    "\n",
    "sm.OLS(Y,X).fit().summary()"
   ]
  },
  {
   "cell_type": "code",
   "execution_count": null,
   "metadata": {},
   "outputs": [],
   "source": []
  },
  {
   "cell_type": "code",
   "execution_count": null,
   "metadata": {},
   "outputs": [],
   "source": []
  },
  {
   "cell_type": "markdown",
   "metadata": {},
   "source": [
    "## Fetch Additional Datasources"
   ]
  },
  {
   "cell_type": "code",
   "execution_count": null,
   "metadata": {},
   "outputs": [],
   "source": [
    "# Collect Item Codes\n",
    "stat_codes = fetch_bok_data('StatisticTableList')\n",
    "stat_codes"
   ]
  },
  {
   "cell_type": "code",
   "execution_count": null,
   "metadata": {},
   "outputs": [],
   "source": [
    "TARGET_STAT_CODES = {\n",
    "    '731Y001': 'krw_xr', # 3.1.1.1. 주요국 통화의 대원화환율 from 서울외국환중개 - Daily\n",
    "    '902Y006': 'policy_ir', # 9.1.1.3. 국제 주요국 중앙은행 정책금리 from BIS - Monthly\n",
    "    '902Y004': 'mon_base', # 9.1.1.1. 국제 주요국 본원통화 from IMF - Monthly\n",
    "    '902Y005': 'mon_broad', # 9.1.1.2. 국제 주요국 광의통화 from IMF - Monthly\n",
    "    '902Y012': 'export', # 9.1.3.4. 국제 주요국 수출(통관기준) from IMF - Monthly\n",
    "    '902Y013': 'import', # 9.1.3.5. 국제 주요국 수입(통관기준) from IMF - Monthly\n",
    "    '902Y014': 'foreign_reserve', # 9.1.3.6. 국제 주요국 외환보유액 from IMF - Monthly\n",
    "    '902Y002': 'stock', # 9.1.6.2. 국제 주요국 주가지수 from OECD - Monthly\n",
    "    '902Y020': 'ipi', # 9.1.5.1. 국제 주요국 산업생산지수(계절변동조정) from OECD\n",
    "    '902Y021': 'unemployment', # 9.1.5.2. 국제 주요국 실업률(계절변동조정) from OECD - Monthly\n",
    "    '902Y016': 'gdp', # 9.1.4.2. 국제 주요국 국내총생산(GDP) from OECD - Annual\n",
    "}"
   ]
  },
  {
   "cell_type": "code",
   "execution_count": null,
   "metadata": {},
   "outputs": [],
   "source": [
    "dfs = []\n",
    "\n",
    "for stat_code in TARGET_STAT_CODES.keys() :\n",
    "    df = fetch_bok_data('StatisticItemList', stat_code=stat_code) # 통계 세부항목 목록\n",
    "    dfs.append(df)"
   ]
  },
  {
   "cell_type": "code",
   "execution_count": null,
   "metadata": {},
   "outputs": [],
   "source": [
    "df_items = pd.concat(dfs, axis=0)\n",
    "#df_items = df_items.set_index(['STAT_CODE', 'ITEM_CODE', 'CYCLE'])"
   ]
  },
  {
   "cell_type": "code",
   "execution_count": null,
   "metadata": {},
   "outputs": [],
   "source": [
    "idx01 = df_items['STAT_CODE'] == '731Y001'\n",
    "idx02 = df_items['ITEM_CODE'] == '0000002'\n",
    "\n",
    "idx11 = df_items['ITEM_NAME'].str.find('한국') >= 0\n",
    "idx12 = df_items['ITEM_NAME'].str.find('일본') >= 0\n",
    "idx13 = df_items['CYCLE'] == 'M'\n",
    "\n",
    "idx21 = df_items['STAT_CODE'] == '902Y016'\n",
    "\n",
    "df_items = df_items.loc[(idx01 * idx02) + ((idx11 + idx12) * idx13) + ((idx11 + idx12) * idx21)]\n",
    "df_items"
   ]
  },
  {
   "cell_type": "code",
   "execution_count": null,
   "metadata": {},
   "outputs": [],
   "source": [
    "def fetch_bok_data(service_code, stat_code=None, item=None) :\n",
    "    url = f\"{BOK_API_URL}/{service_code}/{BOK_API_KEY}/json/kr/1/100000\"\n",
    "\n",
    "    if item is not None: \n",
    "        url += \"/{}/{}/{}/{}/{}\".format(item['STAT_CODE'], item['CYCLE'], item['START_TIME'], item['END_TIME'], item['ITEM_CODE'])\n",
    "                \n",
    "    elif stat_code : \n",
    "        url += f\"/{stat_code}\"\n",
    "        \n",
    "    print(url)\n",
    "    resp = requests.get(url)\n",
    "    results = resp.json()\n",
    "    rows = results[service_code]['row']\n",
    "    df = pd.DataFrame(rows)\n",
    "\n",
    "    return df"
   ]
  },
  {
   "cell_type": "code",
   "execution_count": null,
   "metadata": {},
   "outputs": [],
   "source": [
    "# iterate over rows\n",
    "for idx, row in df_items.iterrows():\n",
    "    name = TARGET_STAT_CODES.get(row['STAT_CODE']) + '_' + row['ITEM_CODE'].lower()\n",
    "    print(f\"Downloading {name}...\")\n",
    "\n",
    "    df = fetch_bok_data('StatisticSearch', item=row) # 통계 조회조건 설정\n",
    "    df = df[['TIME', 'DATA_VALUE']]\n",
    "\n",
    "    if row['CYCLE'] == 'D' :\n",
    "        df['date'] = pd.to_datetime(df['TIME'])\n",
    "        \n",
    "    elif row['CYCLE'] == 'M' :\n",
    "        df['date'] = pd.to_datetime(df['TIME'], format='%Y%m') + MonthEnd()\n",
    "        \n",
    "    elif row['CYCLE'] == 'Q' :\n",
    "        df['year'] = df['TIME'].str[:4]\n",
    "        df['month'] = df['TIME'].str[-1].astype(int) * 3\n",
    "        df['day'] = 1\n",
    "        df['date'] = pd.to_datetime(df[['year', 'month', 'day']]) + MonthEnd()\n",
    "        \n",
    "    elif row['CYCLE'] == 'A' :\n",
    "        df['date'] = pd.to_datetime(df['TIME']) + YearEnd()\n",
    "        \n",
    "    else :\n",
    "        raise RuntimeError()\n",
    "    \n",
    "    df = df[['date', 'DATA_VALUE']]\n",
    "    df = df.rename(columns={'DATA_VALUE': name})\n",
    "    df[name] = df[name].astype(float)\n",
    "\n",
    "    df.to_excel(f\"data/{name}.xlsx\", index=False)\n",
    "    print()\n",
    "\n",
    "print(\"** Completed!! **\")"
   ]
  },
  {
   "cell_type": "code",
   "execution_count": null,
   "metadata": {},
   "outputs": [],
   "source": [
    "filenames = [\n",
    "    'krw_xr_0000002',\n",
    "    'policy_ir_kr',\n",
    "    'policy_ir_jp',\n",
    "    'mon_base_kr',\n",
    "    'mon_base_jp',\n",
    "    'mon_broad_kr',\n",
    "    'mon_broad_jp',\n",
    "    'export_kr',\n",
    "    'export_jp',\n",
    "    'import_kr',\n",
    "    'import_jp',\n",
    "    'foreign_reserve_kr',\n",
    "    'foreign_reserve_jp',\n",
    "    'stock_kor',\n",
    "    'stock_jpn',\n",
    "    'ipi_kor',\n",
    "    'ipi_jpn',\n",
    "    'unemployment_kor',\n",
    "    'unemployment_jpn',\n",
    "    'gdp_kor',\n",
    "    'gdp_jpn',\n",
    "    'wui_kor',\n",
    "    'wui_jpn',\n",
    "]"
   ]
  },
  {
   "cell_type": "code",
   "execution_count": null,
   "metadata": {},
   "outputs": [],
   "source": [
    "dfs = []\n",
    "\n",
    "for fname in filenames :\n",
    "    print(f\"Loading {fname}...\")\n",
    "\n",
    "    df = pd.read_excel(f\"data/{fname}.xlsx\")\n",
    "    df = df.set_index('date')\n",
    "\n",
    "    dfs.append(df)\n",
    "\n",
    "print(\"** Completed! **\")\n",
    "dfs"
   ]
  },
  {
   "cell_type": "code",
   "execution_count": null,
   "metadata": {},
   "outputs": [],
   "source": [
    "df_merged = pd.concat(dfs, axis=1)\n",
    "df_merged.rename(columns={'krw_xr_0000002': 'krw_jpy_xr'}, inplace=True)\n",
    "df_merged = df_merged.sort_index()\n",
    "df_merged.head(3)"
   ]
  },
  {
   "cell_type": "code",
   "execution_count": null,
   "metadata": {},
   "outputs": [],
   "source": [
    "df_merged = df_merged['2012-12-31':]\n",
    "df_merged = df_merged.resample('ME').last()\n",
    "df_merged = df_merged.ffill()\n",
    "df_merged.head(3)"
   ]
  },
  {
   "cell_type": "code",
   "execution_count": null,
   "metadata": {},
   "outputs": [],
   "source": [
    "# Y. F12.ann_ret\n",
    "df_merged['ann_ret'] = df_merged['krw_jpy_xr'].pct_change(periods=12) * 100\n",
    "df_merged['F12.ann_ret'] = df_merged['ann_ret'].shift(-12)\n",
    "df_merged[['ann_ret', 'F12.ann_ret']]"
   ]
  },
  {
   "cell_type": "code",
   "execution_count": null,
   "metadata": {},
   "outputs": [],
   "source": [
    "# X1. 한일 정책금리 차이\n",
    "df_merged['policy_ir_diff'] = df_merged['policy_ir_kr'] - df_merged['policy_ir_jp']\n",
    "df_merged['policy_ir_diff_rt'] = df_merged['policy_ir_diff'].pct_change(periods=12) * 100\n",
    "\n",
    "plt.rcParams['figure.figsize'] = (10, 4)\n",
    "\n",
    "plt.plot(df_merged[['policy_ir_kr', 'policy_ir_jp', 'policy_ir_diff']], label = ['policy_ir_kr', 'policy_ir_jp', 'policy_ir_diff'])\n",
    "plt.legend()\n",
    "plt.show()"
   ]
  },
  {
   "cell_type": "code",
   "execution_count": null,
   "metadata": {},
   "outputs": [],
   "source": [
    "adf_result = adfuller(df_merged['policy_ir_diff'])\n",
    "adf_result[1] # adf_result[1] < 0.05이면 stationary"
   ]
  },
  {
   "cell_type": "code",
   "execution_count": null,
   "metadata": {},
   "outputs": [],
   "source": [
    "plt.plot(df_merged[['policy_ir_diff_rt']])\n",
    "plt.show()"
   ]
  },
  {
   "cell_type": "code",
   "execution_count": null,
   "metadata": {},
   "outputs": [],
   "source": [
    "adf_result = adfuller(df_merged['policy_ir_diff_rt'].dropna())\n",
    "adf_result[1] # adf_result[1] < 0.05이면 stationary"
   ]
  },
  {
   "cell_type": "code",
   "execution_count": null,
   "metadata": {},
   "outputs": [],
   "source": [
    "# X2. 한일 통화승수 차이\n",
    "df_merged['mon_multiplier_kr'] = df_merged['mon_broad_kr'] / df_merged['mon_base_kr']\n",
    "df_merged['mon_multiplier_jp'] = df_merged['mon_broad_jp'] / df_merged['mon_base_jp']\n",
    "df_merged['mon_multiplier_diff'] = df_merged['mon_multiplier_kr'] - df_merged['mon_multiplier_jp']\n",
    "df_merged['mon_multiplier_diff_rt'] = df_merged['mon_multiplier_diff'].pct_change(periods=12) * 100\n",
    "\n",
    "plt.plot(df_merged[['mon_multiplier_kr', 'mon_multiplier_jp', 'mon_multiplier_diff']], label = ['mon_multiplier_kr', 'mon_multiplier_jp', 'mon_multiplier_diff'])\n",
    "plt.legend()\n",
    "plt.show()"
   ]
  },
  {
   "cell_type": "code",
   "execution_count": null,
   "metadata": {},
   "outputs": [],
   "source": [
    "adf_result = adfuller(df_merged['mon_multiplier_diff'])\n",
    "adf_result[1] # adf_result[1] < 0.05이면 stationary"
   ]
  },
  {
   "cell_type": "code",
   "execution_count": null,
   "metadata": {},
   "outputs": [],
   "source": [
    "plt.plot(df_merged[['mon_multiplier_diff_rt']])\n",
    "plt.show()"
   ]
  },
  {
   "cell_type": "code",
   "execution_count": null,
   "metadata": {},
   "outputs": [],
   "source": [
    "adf_result = adfuller(df_merged['mon_multiplier_diff_rt'].dropna())\n",
    "adf_result[1] # adf_result[1] < 0.05이면 stationary"
   ]
  },
  {
   "cell_type": "code",
   "execution_count": null,
   "metadata": {},
   "outputs": [],
   "source": [
    "# X3. 한일 무역수지 차이\n",
    "df_merged['trade_balance_kr'] = df_merged['export_kr'] - df_merged['import_kr']\n",
    "df_merged['trade_balance_jp'] = df_merged['export_jp'] - df_merged['import_jp']\n",
    "df_merged['trade_balance_diff'] = df_merged['trade_balance_kr'] - df_merged['trade_balance_jp']\n",
    "plt.plot(df_merged[['trade_balance_kr', 'trade_balance_jp', 'trade_balance_diff']], label = ['trade_balance_kr', 'trade_balance_jp', 'trade_balance_diff'])\n",
    "plt.legend()\n",
    "plt.show()"
   ]
  },
  {
   "cell_type": "code",
   "execution_count": null,
   "metadata": {},
   "outputs": [],
   "source": [
    "adf_result = adfuller(df_merged['trade_balance_diff'])\n",
    "adf_result[1] # adf_result[1] < 0.05이면 stationary"
   ]
  },
  {
   "cell_type": "code",
   "execution_count": null,
   "metadata": {},
   "outputs": [],
   "source": [
    "# X4. 한일 GDP 대비 외환보유액 차이\n",
    "df_merged['foreign_reserve_to_gdp_kr'] = df_merged['foreign_reserve_kr'] / df_merged['gdp_kor'] * 100\n",
    "df_merged['foreign_reserve_to_gdp_jp'] = df_merged['foreign_reserve_jp'] / df_merged['gdp_jpn'] * 100\n",
    "df_merged['foreign_reserve_to_gdp_diff'] = df_merged['foreign_reserve_to_gdp_kr'] - df_merged['foreign_reserve_to_gdp_jp']\n",
    "df_merged['foreign_reserve_to_gdp_diff_rt'] = df_merged['foreign_reserve_to_gdp_diff'].pct_change(periods=12) * 100\n",
    "\n",
    "plt.plot(df_merged[['foreign_reserve_to_gdp_diff']])\n",
    "plt.show()"
   ]
  },
  {
   "cell_type": "code",
   "execution_count": null,
   "metadata": {},
   "outputs": [],
   "source": [
    "adf_result = adfuller(df_merged['foreign_reserve_to_gdp_diff'])\n",
    "adf_result[1] # adf_result[1] < 0.05이면 stationary"
   ]
  },
  {
   "cell_type": "code",
   "execution_count": null,
   "metadata": {},
   "outputs": [],
   "source": [
    "plt.plot(df_merged[['foreign_reserve_to_gdp_diff_rt']])\n",
    "plt.show()"
   ]
  },
  {
   "cell_type": "code",
   "execution_count": null,
   "metadata": {},
   "outputs": [],
   "source": [
    "adf_result = adfuller(df_merged['foreign_reserve_to_gdp_diff_rt'].dropna())\n",
    "adf_result[1] # adf_result[1] < 0.05이면 stationary"
   ]
  },
  {
   "cell_type": "code",
   "execution_count": null,
   "metadata": {},
   "outputs": [],
   "source": [
    "# X5. 한일 주가지수 비율\n",
    "df_merged['stock_ratio'] = df_merged['stock_kor'] / df_merged['stock_jpn']\n",
    "\n",
    "plt.plot(df_merged[['stock_ratio']])\n",
    "plt.show()"
   ]
  },
  {
   "cell_type": "code",
   "execution_count": null,
   "metadata": {},
   "outputs": [],
   "source": [
    "adf_result = adfuller(df_merged['stock_ratio'].dropna())\n",
    "adf_result[1] # adf_result[1] < 0.05이면 stationary"
   ]
  },
  {
   "cell_type": "code",
   "execution_count": null,
   "metadata": {},
   "outputs": [],
   "source": [
    "# X6. 한일 산업생산지수(IPI) 차이\n",
    "df_merged['ipi_diff'] = df_merged['ipi_kor'] - df_merged['ipi_jpn']\n",
    "df_merged['ipi_diff_rt'] = df_merged['ipi_diff'].pct_change(periods=12) * 100\n",
    "\n",
    "plt.plot(df_merged[['ipi_diff']])\n",
    "plt.show()"
   ]
  },
  {
   "cell_type": "code",
   "execution_count": null,
   "metadata": {},
   "outputs": [],
   "source": [
    "adf_result = adfuller(df_merged['ipi_diff'])\n",
    "adf_result[1] # adf_result[1] < 0.05이면 stationary"
   ]
  },
  {
   "cell_type": "code",
   "execution_count": null,
   "metadata": {},
   "outputs": [],
   "source": [
    "plt.plot(df_merged[['ipi_diff_rt']])\n",
    "plt.show()"
   ]
  },
  {
   "cell_type": "code",
   "execution_count": null,
   "metadata": {},
   "outputs": [],
   "source": [
    "adf_result = adfuller(df_merged['ipi_diff_rt'].dropna())\n",
    "adf_result[1] # adf_result[1] < 0.05이면 stationary"
   ]
  },
  {
   "cell_type": "code",
   "execution_count": null,
   "metadata": {},
   "outputs": [],
   "source": [
    "# X7. 한일 실업률 차이\n",
    "df_merged['unemployment_diff'] = df_merged['unemployment_kor'].diff(1) - df_merged['unemployment_jpn'].diff(1)\n",
    "\n",
    "plt.plot(df_merged[['unemployment_diff']])\n",
    "plt.show()"
   ]
  },
  {
   "cell_type": "code",
   "execution_count": null,
   "metadata": {},
   "outputs": [],
   "source": [
    "adf_result = adfuller(df_merged['unemployment_diff'].dropna())\n",
    "adf_result[1] # adf_result[1] < 0.05이면 stationary"
   ]
  },
  {
   "cell_type": "code",
   "execution_count": null,
   "metadata": {},
   "outputs": [],
   "source": [
    "# X8. 한일 World Uncertainty Index(IMF) 차이\n",
    "plt.plot(df_merged[['wui_kor', 'wui_jpn']], label = ['wui_kor','wui_jpn'])\n",
    "plt.legend()\n",
    "plt.show()"
   ]
  },
  {
   "cell_type": "code",
   "execution_count": null,
   "metadata": {},
   "outputs": [],
   "source": [
    "df_merged['wui_kor_ravg'] = df_merged['wui_kor'].rolling(4).mean()\n",
    "df_merged['wui_jpn_ravg'] = df_merged['wui_jpn'].rolling(4).mean()\n",
    "df_merged['wui_diff'] = df_merged['wui_kor_ravg'] - df_merged['wui_jpn_ravg']\n",
    "\n",
    "plt.plot(df_merged[['wui_kor_ravg', 'wui_jpn_ravg', 'wui_diff']], label = ['wui_kor_ravg', 'wui_jpn_ravg', 'wui_diff'])\n",
    "plt.legend()\n",
    "plt.show()"
   ]
  },
  {
   "cell_type": "code",
   "execution_count": null,
   "metadata": {},
   "outputs": [],
   "source": [
    "adf_result = adfuller(df_merged['wui_diff'].dropna())\n",
    "adf_result[1] # adf_result[1] < 0.05이면 statioanary"
   ]
  },
  {
   "cell_type": "code",
   "execution_count": null,
   "metadata": {},
   "outputs": [],
   "source": [
    "# Stationary로 변환된 변수들을 모아보자.\n",
    "df_added = df_merged[[\n",
    "    'policy_ir_diff_rt',               # X1. 한일 정책금리 차이\n",
    "    'mon_multiplier_diff_rt',          # X2. 한일 통화승수 차이\n",
    "    'trade_balance_diff',              # X3. 한일 무역수지 차이\n",
    "    'foreign_reserve_to_gdp_diff_rt',  # X4. 한일 GDP 대비 외환보유액 차이\n",
    "    'stock_ratio',                     # X5. 한일 주가지수 비율\n",
    "    'ipi_diff_rt',                     # X6. 한일 산업생산지수(IPI) 차이\n",
    "    'unemployment_diff',               # X7. 한일 실업률 차이\n",
    "    'wui_diff',                        # X8. 한일 World Uncertainty Index(IMF) 차이\n",
    "    'F12.ann_ret'                      # Y. 수익률(12개월 전)\n",
    "]]\n",
    "df_added = df_added.dropna()\n",
    "df_added.head(15), df_added.tail(15)"
   ]
  },
  {
   "cell_type": "code",
   "execution_count": null,
   "metadata": {},
   "outputs": [],
   "source": [
    "### Use OLS to fit the forecast model\n",
    "Y = df_added['F12.ann_ret']\n",
    "X = df_added.drop('F12.ann_ret', axis=1)\n",
    "X = sm.add_constant(X)\n",
    "\n",
    "sm.OLS(Y, X).fit().summary()"
   ]
  },
  {
   "cell_type": "code",
   "execution_count": null,
   "metadata": {},
   "outputs": [],
   "source": [
    "# p-value 낮은 변수 drop\n",
    "X = X.drop(\n",
    "    [\n",
    "        'mon_multiplier_diff_rt',\n",
    "        'trade_balance_diff',\n",
    "        'foreign_reserve_to_gdp_diff_rt',\n",
    "        'ipi_diff_rt',\n",
    "        'unemployment_diff'\n",
    "    ],\n",
    "    axis=1\n",
    ")\n",
    "\n",
    "sm.OLS(Y, X).fit().summary()"
   ]
  },
  {
   "cell_type": "code",
   "execution_count": null,
   "metadata": {},
   "outputs": [],
   "source": []
  }
 ],
 "metadata": {
  "kernelspec": {
   "display_name": "Python 3",
   "language": "python",
   "name": "python3"
  },
  "language_info": {
   "codemirror_mode": {
    "name": "ipython",
    "version": 3
   },
   "file_extension": ".py",
   "mimetype": "text/x-python",
   "name": "python",
   "nbconvert_exporter": "python",
   "pygments_lexer": "ipython3",
   "version": "3.10.14"
  }
 },
 "nbformat": 4,
 "nbformat_minor": 2
}
