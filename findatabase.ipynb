{
 "cells": [
  {
   "cell_type": "code",
   "execution_count": 86,
   "metadata": {},
   "outputs": [],
   "source": [
    "import pandas as pd\n",
    "import numpy as np\n",
    "import requests\n",
    "import matplotlib.pyplot as plt\n",
    "from pandas.tseries.offsets import MonthEnd, YearEnd\n",
    "import statsmodels.api as sm\n",
    "from statsmodels.sandbox.regression.predstd import wls_prediction_std\n",
    "import seaborn as sns\n",
    "from pathlib import Path\n",
    "\n",
    "# https://ecos.bok.or.kr/api/#/DevGuide/DevSpeciflcation\n",
    "# 회사 Network은 보안장비들 때문에 SSL Verification Error가 발생하므로, requests.get할 때 verify = False하고, warning을 무시하도록 설정한다.\n",
    "import warnings\n",
    "warnings.filterwarnings(action='ignore')"
   ]
  },
  {
   "cell_type": "code",
   "execution_count": 2,
   "metadata": {},
   "outputs": [],
   "source": [
    "# 한국은행 API를 사용하기 위한 인증정보를 설정한다.\n",
    "BOK_API_URL = 'https://ecos.bok.or.kr/api'\n",
    "BOK_API_KEY = 'W2HQL3IHAD2LKU409JDH'"
   ]
  },
  {
   "cell_type": "code",
   "execution_count": 3,
   "metadata": {},
   "outputs": [],
   "source": [
    "def fetch_bok_data(service_code, stat_code = None):\n",
    "    url = f'{BOK_API_URL}/{service_code}/{BOK_API_KEY}/json/kr/1/100000'\n",
    "    \n",
    "    if stat_code:\n",
    "        url += f'/{stat_code}'\n",
    "    \n",
    "    print(url)\n",
    "    \n",
    "    resp = requests.get(url, verify = False)\n",
    "    results = resp.json()\n",
    "    rows = results[service_code]['row']\n",
    "    df = pd.DataFrame(rows)\n",
    "    \n",
    "    return df"
   ]
  },
  {
   "cell_type": "markdown",
   "metadata": {},
   "source": [
    "# 한국은행 ECOS API 서비스 통계 목록을 불러온다."
   ]
  },
  {
   "cell_type": "code",
   "execution_count": 4,
   "metadata": {},
   "outputs": [
    {
     "name": "stdout",
     "output_type": "stream",
     "text": [
      "https://ecos.bok.or.kr/api/StatisticItemList/W2HQL3IHAD2LKU409JDH/json/kr/1/100000/731Y001\n"
     ]
    }
   ],
   "source": [
    "df = fetch_bok_data('StatisticItemList', stat_code='731Y001')"
   ]
  },
  {
   "cell_type": "code",
   "execution_count": 5,
   "metadata": {},
   "outputs": [
    {
     "data": {
      "text/html": [
       "<div>\n",
       "<style scoped>\n",
       "    .dataframe tbody tr th:only-of-type {\n",
       "        vertical-align: middle;\n",
       "    }\n",
       "\n",
       "    .dataframe tbody tr th {\n",
       "        vertical-align: top;\n",
       "    }\n",
       "\n",
       "    .dataframe thead th {\n",
       "        text-align: right;\n",
       "    }\n",
       "</style>\n",
       "<table border=\"1\" class=\"dataframe\">\n",
       "  <thead>\n",
       "    <tr style=\"text-align: right;\">\n",
       "      <th></th>\n",
       "      <th>STAT_CODE</th>\n",
       "      <th>STAT_NAME</th>\n",
       "      <th>GRP_CODE</th>\n",
       "      <th>GRP_NAME</th>\n",
       "      <th>ITEM_CODE</th>\n",
       "      <th>ITEM_NAME</th>\n",
       "      <th>P_ITEM_CODE</th>\n",
       "      <th>P_ITEM_NAME</th>\n",
       "      <th>CYCLE</th>\n",
       "      <th>START_TIME</th>\n",
       "      <th>END_TIME</th>\n",
       "      <th>DATA_CNT</th>\n",
       "      <th>UNIT_NAME</th>\n",
       "      <th>WEIGHT</th>\n",
       "    </tr>\n",
       "  </thead>\n",
       "  <tbody>\n",
       "    <tr>\n",
       "      <th>0</th>\n",
       "      <td>731Y001</td>\n",
       "      <td>3.1.1.1. 주요국 통화의 대원화환율</td>\n",
       "      <td>Group1</td>\n",
       "      <td>계정항목</td>\n",
       "      <td>0000001</td>\n",
       "      <td>원/미국달러(매매기준율)</td>\n",
       "      <td>None</td>\n",
       "      <td>None</td>\n",
       "      <td>D</td>\n",
       "      <td>19640504</td>\n",
       "      <td>20240809</td>\n",
       "      <td>16998</td>\n",
       "      <td>원</td>\n",
       "      <td>None</td>\n",
       "    </tr>\n",
       "    <tr>\n",
       "      <th>1</th>\n",
       "      <td>731Y001</td>\n",
       "      <td>3.1.1.1. 주요국 통화의 대원화환율</td>\n",
       "      <td>Group1</td>\n",
       "      <td>계정항목</td>\n",
       "      <td>0000053</td>\n",
       "      <td>원/위안(매매기준율)</td>\n",
       "      <td>None</td>\n",
       "      <td>None</td>\n",
       "      <td>D</td>\n",
       "      <td>20160104</td>\n",
       "      <td>20240809</td>\n",
       "      <td>2125</td>\n",
       "      <td>원</td>\n",
       "      <td>None</td>\n",
       "    </tr>\n",
       "    <tr>\n",
       "      <th>2</th>\n",
       "      <td>731Y001</td>\n",
       "      <td>3.1.1.1. 주요국 통화의 대원화환율</td>\n",
       "      <td>Group1</td>\n",
       "      <td>계정항목</td>\n",
       "      <td>0000002</td>\n",
       "      <td>원/일본엔(100엔)</td>\n",
       "      <td>None</td>\n",
       "      <td>None</td>\n",
       "      <td>D</td>\n",
       "      <td>19770401</td>\n",
       "      <td>20240809</td>\n",
       "      <td>13150</td>\n",
       "      <td>원</td>\n",
       "      <td>None</td>\n",
       "    </tr>\n",
       "  </tbody>\n",
       "</table>\n",
       "</div>"
      ],
      "text/plain": [
       "  STAT_CODE               STAT_NAME GRP_CODE GRP_NAME ITEM_CODE  \\\n",
       "0   731Y001  3.1.1.1. 주요국 통화의 대원화환율   Group1     계정항목   0000001   \n",
       "1   731Y001  3.1.1.1. 주요국 통화의 대원화환율   Group1     계정항목   0000053   \n",
       "2   731Y001  3.1.1.1. 주요국 통화의 대원화환율   Group1     계정항목   0000002   \n",
       "\n",
       "       ITEM_NAME P_ITEM_CODE P_ITEM_NAME CYCLE START_TIME  END_TIME  DATA_CNT  \\\n",
       "0  원/미국달러(매매기준율)        None        None     D   19640504  20240809     16998   \n",
       "1    원/위안(매매기준율)        None        None     D   20160104  20240809      2125   \n",
       "2    원/일본엔(100엔)        None        None     D   19770401  20240809     13150   \n",
       "\n",
       "  UNIT_NAME WEIGHT  \n",
       "0        원    None  \n",
       "1        원    None  \n",
       "2        원    None  "
      ]
     },
     "execution_count": 5,
     "metadata": {},
     "output_type": "execute_result"
    }
   ],
   "source": [
    "df.head(3)"
   ]
  },
  {
   "cell_type": "code",
   "execution_count": 6,
   "metadata": {},
   "outputs": [],
   "source": [
    "# WON/YEN 환율을 불러와서 item에 저장한다.\n",
    "item = df.loc[2]"
   ]
  },
  {
   "cell_type": "code",
   "execution_count": 7,
   "metadata": {},
   "outputs": [
    {
     "data": {
      "text/html": [
       "<div>\n",
       "<style scoped>\n",
       "    .dataframe tbody tr th:only-of-type {\n",
       "        vertical-align: middle;\n",
       "    }\n",
       "\n",
       "    .dataframe tbody tr th {\n",
       "        vertical-align: top;\n",
       "    }\n",
       "\n",
       "    .dataframe thead th {\n",
       "        text-align: right;\n",
       "    }\n",
       "</style>\n",
       "<table border=\"1\" class=\"dataframe\">\n",
       "  <thead>\n",
       "    <tr style=\"text-align: right;\">\n",
       "      <th></th>\n",
       "      <th>2</th>\n",
       "    </tr>\n",
       "  </thead>\n",
       "  <tbody>\n",
       "    <tr>\n",
       "      <th>STAT_CODE</th>\n",
       "      <td>731Y001</td>\n",
       "    </tr>\n",
       "    <tr>\n",
       "      <th>STAT_NAME</th>\n",
       "      <td>3.1.1.1. 주요국 통화의 대원화환율</td>\n",
       "    </tr>\n",
       "    <tr>\n",
       "      <th>GRP_CODE</th>\n",
       "      <td>Group1</td>\n",
       "    </tr>\n",
       "    <tr>\n",
       "      <th>GRP_NAME</th>\n",
       "      <td>계정항목</td>\n",
       "    </tr>\n",
       "    <tr>\n",
       "      <th>ITEM_CODE</th>\n",
       "      <td>0000002</td>\n",
       "    </tr>\n",
       "    <tr>\n",
       "      <th>ITEM_NAME</th>\n",
       "      <td>원/일본엔(100엔)</td>\n",
       "    </tr>\n",
       "    <tr>\n",
       "      <th>P_ITEM_CODE</th>\n",
       "      <td>None</td>\n",
       "    </tr>\n",
       "    <tr>\n",
       "      <th>P_ITEM_NAME</th>\n",
       "      <td>None</td>\n",
       "    </tr>\n",
       "    <tr>\n",
       "      <th>CYCLE</th>\n",
       "      <td>D</td>\n",
       "    </tr>\n",
       "    <tr>\n",
       "      <th>START_TIME</th>\n",
       "      <td>19770401</td>\n",
       "    </tr>\n",
       "    <tr>\n",
       "      <th>END_TIME</th>\n",
       "      <td>20240809</td>\n",
       "    </tr>\n",
       "    <tr>\n",
       "      <th>DATA_CNT</th>\n",
       "      <td>13150</td>\n",
       "    </tr>\n",
       "    <tr>\n",
       "      <th>UNIT_NAME</th>\n",
       "      <td>원</td>\n",
       "    </tr>\n",
       "    <tr>\n",
       "      <th>WEIGHT</th>\n",
       "      <td>None</td>\n",
       "    </tr>\n",
       "  </tbody>\n",
       "</table>\n",
       "</div>"
      ],
      "text/plain": [
       "                                  2\n",
       "STAT_CODE                   731Y001\n",
       "STAT_NAME    3.1.1.1. 주요국 통화의 대원화환율\n",
       "GRP_CODE                     Group1\n",
       "GRP_NAME                       계정항목\n",
       "ITEM_CODE                   0000002\n",
       "ITEM_NAME               원/일본엔(100엔)\n",
       "P_ITEM_CODE                    None\n",
       "P_ITEM_NAME                    None\n",
       "CYCLE                             D\n",
       "START_TIME                 19770401\n",
       "END_TIME                   20240809\n",
       "DATA_CNT                      13150\n",
       "UNIT_NAME                        원 \n",
       "WEIGHT                         None"
      ]
     },
     "execution_count": 7,
     "metadata": {},
     "output_type": "execute_result"
    }
   ],
   "source": [
    "pd.DataFrame(item)"
   ]
  },
  {
   "cell_type": "code",
   "execution_count": 8,
   "metadata": {},
   "outputs": [],
   "source": [
    "def fetch_bok_data(service_code, stat_code = None, item = None):\n",
    "    url = f'{BOK_API_URL}/{service_code}/{BOK_API_KEY}/json/kr/1/100000'\n",
    "    \n",
    "    if item is not None:\n",
    "        url += '/{}/{}/{}/{}/{}'.format(item['STAT_CODE'], item['CYCLE'], item['START_TIME'], item['END_TIME'], item['ITEM_CODE'])\n",
    "\n",
    "    elif stat_code is not None:\n",
    "        url += f\"/{stat_code}\"\n",
    "    \n",
    "    print(url)\n",
    "    \n",
    "    resp = requests.get(url, verify = False)\n",
    "    results = resp.json()\n",
    "    rows = results[service_code]['row']\n",
    "    df = pd.DataFrame(rows)\n",
    "    \n",
    "    return df"
   ]
  },
  {
   "cell_type": "code",
   "execution_count": 9,
   "metadata": {},
   "outputs": [
    {
     "name": "stdout",
     "output_type": "stream",
     "text": [
      "https://ecos.bok.or.kr/api/StatisticSearch/W2HQL3IHAD2LKU409JDH/json/kr/1/100000/731Y001/D/19770401/20240809/0000002\n"
     ]
    }
   ],
   "source": [
    "df_xr = fetch_bok_data('StatisticSearch', item = item)"
   ]
  },
  {
   "cell_type": "code",
   "execution_count": 10,
   "metadata": {},
   "outputs": [
    {
     "data": {
      "text/html": [
       "<div>\n",
       "<style scoped>\n",
       "    .dataframe tbody tr th:only-of-type {\n",
       "        vertical-align: middle;\n",
       "    }\n",
       "\n",
       "    .dataframe tbody tr th {\n",
       "        vertical-align: top;\n",
       "    }\n",
       "\n",
       "    .dataframe thead th {\n",
       "        text-align: right;\n",
       "    }\n",
       "</style>\n",
       "<table border=\"1\" class=\"dataframe\">\n",
       "  <thead>\n",
       "    <tr style=\"text-align: right;\">\n",
       "      <th></th>\n",
       "      <th>STAT_CODE</th>\n",
       "      <th>STAT_NAME</th>\n",
       "      <th>ITEM_CODE1</th>\n",
       "      <th>ITEM_NAME1</th>\n",
       "      <th>ITEM_CODE2</th>\n",
       "      <th>ITEM_NAME2</th>\n",
       "      <th>ITEM_CODE3</th>\n",
       "      <th>ITEM_NAME3</th>\n",
       "      <th>ITEM_CODE4</th>\n",
       "      <th>ITEM_NAME4</th>\n",
       "      <th>UNIT_NAME</th>\n",
       "      <th>WGT</th>\n",
       "      <th>TIME</th>\n",
       "      <th>DATA_VALUE</th>\n",
       "    </tr>\n",
       "  </thead>\n",
       "  <tbody>\n",
       "    <tr>\n",
       "      <th>0</th>\n",
       "      <td>731Y001</td>\n",
       "      <td>3.1.1.1. 주요국 통화의 대원화환율</td>\n",
       "      <td>0000002</td>\n",
       "      <td>원/일본엔(100엔)</td>\n",
       "      <td>None</td>\n",
       "      <td>None</td>\n",
       "      <td>None</td>\n",
       "      <td>None</td>\n",
       "      <td>None</td>\n",
       "      <td>None</td>\n",
       "      <td>원</td>\n",
       "      <td>None</td>\n",
       "      <td>19770401</td>\n",
       "      <td>174.5</td>\n",
       "    </tr>\n",
       "    <tr>\n",
       "      <th>1</th>\n",
       "      <td>731Y001</td>\n",
       "      <td>3.1.1.1. 주요국 통화의 대원화환율</td>\n",
       "      <td>0000002</td>\n",
       "      <td>원/일본엔(100엔)</td>\n",
       "      <td>None</td>\n",
       "      <td>None</td>\n",
       "      <td>None</td>\n",
       "      <td>None</td>\n",
       "      <td>None</td>\n",
       "      <td>None</td>\n",
       "      <td>원</td>\n",
       "      <td>None</td>\n",
       "      <td>19770402</td>\n",
       "      <td>174.5</td>\n",
       "    </tr>\n",
       "    <tr>\n",
       "      <th>2</th>\n",
       "      <td>731Y001</td>\n",
       "      <td>3.1.1.1. 주요국 통화의 대원화환율</td>\n",
       "      <td>0000002</td>\n",
       "      <td>원/일본엔(100엔)</td>\n",
       "      <td>None</td>\n",
       "      <td>None</td>\n",
       "      <td>None</td>\n",
       "      <td>None</td>\n",
       "      <td>None</td>\n",
       "      <td>None</td>\n",
       "      <td>원</td>\n",
       "      <td>None</td>\n",
       "      <td>19770404</td>\n",
       "      <td>174.5</td>\n",
       "    </tr>\n",
       "  </tbody>\n",
       "</table>\n",
       "</div>"
      ],
      "text/plain": [
       "  STAT_CODE               STAT_NAME ITEM_CODE1   ITEM_NAME1 ITEM_CODE2  \\\n",
       "0   731Y001  3.1.1.1. 주요국 통화의 대원화환율    0000002  원/일본엔(100엔)       None   \n",
       "1   731Y001  3.1.1.1. 주요국 통화의 대원화환율    0000002  원/일본엔(100엔)       None   \n",
       "2   731Y001  3.1.1.1. 주요국 통화의 대원화환율    0000002  원/일본엔(100엔)       None   \n",
       "\n",
       "  ITEM_NAME2 ITEM_CODE3 ITEM_NAME3 ITEM_CODE4 ITEM_NAME4 UNIT_NAME   WGT  \\\n",
       "0       None       None       None       None       None        원   None   \n",
       "1       None       None       None       None       None        원   None   \n",
       "2       None       None       None       None       None        원   None   \n",
       "\n",
       "       TIME DATA_VALUE  \n",
       "0  19770401      174.5  \n",
       "1  19770402      174.5  \n",
       "2  19770404      174.5  "
      ]
     },
     "execution_count": 10,
     "metadata": {},
     "output_type": "execute_result"
    }
   ],
   "source": [
    "df_xr.head(3)"
   ]
  },
  {
   "cell_type": "code",
   "execution_count": 11,
   "metadata": {},
   "outputs": [],
   "source": [
    "df_xr = df_xr[['TIME', 'DATA_VALUE']]\n",
    "df_xr['date'] = pd.to_datetime(df_xr['TIME'])\n",
    "df_xr = df_xr.set_index('date')\n",
    "del df_xr['TIME']\n",
    "df_xr.columns = ['KRW/JPY']\n",
    "df_xr['KRW/JPY'] = df_xr['KRW/JPY'].astype(float)\n",
    "df_xr.to_excel(Path('data/file_krw_jpy_xr.xls'))"
   ]
  },
  {
   "cell_type": "code",
   "execution_count": 12,
   "metadata": {},
   "outputs": [
    {
     "data": {
      "text/html": [
       "<div>\n",
       "<style scoped>\n",
       "    .dataframe tbody tr th:only-of-type {\n",
       "        vertical-align: middle;\n",
       "    }\n",
       "\n",
       "    .dataframe tbody tr th {\n",
       "        vertical-align: top;\n",
       "    }\n",
       "\n",
       "    .dataframe thead th {\n",
       "        text-align: right;\n",
       "    }\n",
       "</style>\n",
       "<table border=\"1\" class=\"dataframe\">\n",
       "  <thead>\n",
       "    <tr style=\"text-align: right;\">\n",
       "      <th></th>\n",
       "      <th>KRW/JPY</th>\n",
       "    </tr>\n",
       "    <tr>\n",
       "      <th>date</th>\n",
       "      <th></th>\n",
       "    </tr>\n",
       "  </thead>\n",
       "  <tbody>\n",
       "    <tr>\n",
       "      <th>1977-04-01</th>\n",
       "      <td>174.5</td>\n",
       "    </tr>\n",
       "    <tr>\n",
       "      <th>1977-04-02</th>\n",
       "      <td>174.5</td>\n",
       "    </tr>\n",
       "    <tr>\n",
       "      <th>1977-04-04</th>\n",
       "      <td>174.5</td>\n",
       "    </tr>\n",
       "  </tbody>\n",
       "</table>\n",
       "</div>"
      ],
      "text/plain": [
       "            KRW/JPY\n",
       "date               \n",
       "1977-04-01    174.5\n",
       "1977-04-02    174.5\n",
       "1977-04-04    174.5"
      ]
     },
     "execution_count": 12,
     "metadata": {},
     "output_type": "execute_result"
    }
   ],
   "source": [
    "df_xr.head(3)"
   ]
  },
  {
   "cell_type": "code",
   "execution_count": 13,
   "metadata": {},
   "outputs": [
    {
     "data": {
      "image/png": "[encoded data removed]",
      "text/plain": [
       "<Figure size 1000x400 with 1 Axes>"
      ]
     },
     "metadata": {},
     "output_type": "display_data"
    }
   ],
   "source": [
    "plt.rcParams['figure.figsize'] = (10, 4)\n",
    "plt.plot(df_xr['KRW/JPY'])\n",
    "plt.show()"
   ]
  },
  {
   "cell_type": "markdown",
   "metadata": {},
   "source": [
    "### Convert to monthly observations\n",
    "#### End-of-month observation"
   ]
  },
  {
   "cell_type": "code",
   "execution_count": 14,
   "metadata": {},
   "outputs": [],
   "source": [
    "df_monthly = df_xr.resample('ME').last()\n",
    "df_monthly['ret'] = df_monthly['KRW/JPY'].pct_change() * 100"
   ]
  },
  {
   "cell_type": "code",
   "execution_count": 15,
   "metadata": {},
   "outputs": [
    {
     "data": {
      "text/html": [
       "<div>\n",
       "<style scoped>\n",
       "    .dataframe tbody tr th:only-of-type {\n",
       "        vertical-align: middle;\n",
       "    }\n",
       "\n",
       "    .dataframe tbody tr th {\n",
       "        vertical-align: top;\n",
       "    }\n",
       "\n",
       "    .dataframe thead th {\n",
       "        text-align: right;\n",
       "    }\n",
       "</style>\n",
       "<table border=\"1\" class=\"dataframe\">\n",
       "  <thead>\n",
       "    <tr style=\"text-align: right;\">\n",
       "      <th></th>\n",
       "      <th>KRW/JPY</th>\n",
       "      <th>ret</th>\n",
       "    </tr>\n",
       "    <tr>\n",
       "      <th>date</th>\n",
       "      <th></th>\n",
       "      <th></th>\n",
       "    </tr>\n",
       "  </thead>\n",
       "  <tbody>\n",
       "    <tr>\n",
       "      <th>1977-04-30</th>\n",
       "      <td>174.28</td>\n",
       "      <td>NaN</td>\n",
       "    </tr>\n",
       "    <tr>\n",
       "      <th>1977-05-31</th>\n",
       "      <td>174.67</td>\n",
       "      <td>0.223778</td>\n",
       "    </tr>\n",
       "    <tr>\n",
       "      <th>1977-06-30</th>\n",
       "      <td>180.11</td>\n",
       "      <td>3.114444</td>\n",
       "    </tr>\n",
       "  </tbody>\n",
       "</table>\n",
       "</div>"
      ],
      "text/plain": [
       "            KRW/JPY       ret\n",
       "date                         \n",
       "1977-04-30   174.28       NaN\n",
       "1977-05-31   174.67  0.223778\n",
       "1977-06-30   180.11  3.114444"
      ]
     },
     "execution_count": 15,
     "metadata": {},
     "output_type": "execute_result"
    }
   ],
   "source": [
    "df_monthly.head(3)"
   ]
  },
  {
   "cell_type": "markdown",
   "metadata": {},
   "source": [
    "### 환율 변화율을 예측하기"
   ]
  },
  {
   "cell_type": "code",
   "execution_count": 16,
   "metadata": {},
   "outputs": [],
   "source": [
    "df_monthly = df_monthly.dropna()"
   ]
  },
  {
   "cell_type": "markdown",
   "metadata": {},
   "source": [
    "* IMF 이전 환율정책:\n",
    "\n",
    "IMF 외환위기 이전 한국은 '관리변동환율제'를 채택하고 있었습니다.\n",
    "이 제도 하에서 정부는 환율의 일일 변동폭을 제한하고, 외환시장에 직접 개입하여 환율을 관리했습니다.\n",
    "\n",
    "\n",
    "* IMF 이후 환율정책:\n",
    "\n",
    "1997년 12월 IMF 구제금융을 받으면서 한국은 '자유변동환율제'로 전환했습니다.\n",
    "이 제도에서는 원칙적으로 시장의 수요와 공급에 따라 환율이 결정됩니다.\n",
    "정부의 직접적인 시장 개입은 크게 줄어들었습니다\n",
    "\n",
    "* 아베노믹스 (2012년~): 2012년 12월 26일\n",
    "\n",
    "영향력: 매우 큼\n",
    "지속기간: 장기적 (수년간 지속)\n",
    "직접성: 엔화 환율에 직접적인 영향\n",
    "의도성: 의도적인 엔화 약세 정책\n",
    "\n",
    "아베노믹스는 일본 경제 회복을 위해 의도적으로 엔화 가치를 낮추는 정책을 포함했습니다. 이로 인해 엔화 가치가 급격히 하락했고, 원/엔 환율에 지속적이고 큰 영향을 미쳤습니다."
   ]
  },
  {
   "cell_type": "code",
   "execution_count": 17,
   "metadata": {},
   "outputs": [],
   "source": [
    "df_post_abe = df_monthly.loc['2012-12-26':]"
   ]
  },
  {
   "cell_type": "code",
   "execution_count": 18,
   "metadata": {},
   "outputs": [],
   "source": [
    "X = df_post_abe.iloc[:-1]['ret']\n",
    "X = sm.add_constant(X)\n",
    "Y = df_post_abe.iloc[1:]['ret']"
   ]
  },
  {
   "cell_type": "code",
   "execution_count": 19,
   "metadata": {},
   "outputs": [
    {
     "data": {
      "text/html": [
       "<table class=\"simpletable\">\n",
       "<caption>OLS Regression Results</caption>\n",
       "<tr>\n",
       "  <th>Dep. Variable:</th>           <td>ret</td>       <th>  R-squared:         </th> <td>   0.000</td>\n",
       "</tr>\n",
       "<tr>\n",
       "  <th>Model:</th>                   <td>OLS</td>       <th>  Adj. R-squared:    </th> <td>  -0.007</td>\n",
       "</tr>\n",
       "<tr>\n",
       "  <th>Method:</th>             <td>Least Squares</td>  <th>  F-statistic:       </th> <td> 0.02576</td>\n",
       "</tr>\n",
       "<tr>\n",
       "  <th>Date:</th>             <td>Sat, 10 Aug 2024</td> <th>  Prob (F-statistic):</th>  <td> 0.873</td> \n",
       "</tr>\n",
       "<tr>\n",
       "  <th>Time:</th>                 <td>14:32:46</td>     <th>  Log-Likelihood:    </th> <td> -323.52</td>\n",
       "</tr>\n",
       "<tr>\n",
       "  <th>No. Observations:</th>      <td>   140</td>      <th>  AIC:               </th> <td>   651.0</td>\n",
       "</tr>\n",
       "<tr>\n",
       "  <th>Df Residuals:</th>          <td>   138</td>      <th>  BIC:               </th> <td>   656.9</td>\n",
       "</tr>\n",
       "<tr>\n",
       "  <th>Df Model:</th>              <td>     1</td>      <th>                     </th>     <td> </td>   \n",
       "</tr>\n",
       "<tr>\n",
       "  <th>Covariance Type:</th>      <td>nonrobust</td>    <th>                     </th>     <td> </td>   \n",
       "</tr>\n",
       "</table>\n",
       "<table class=\"simpletable\">\n",
       "<tr>\n",
       "    <td></td>       <th>coef</th>     <th>std err</th>      <th>t</th>      <th>P>|t|</th>  <th>[0.025</th>    <th>0.975]</th>  \n",
       "</tr>\n",
       "<tr>\n",
       "  <th>const</th> <td>   -0.1733</td> <td>    0.209</td> <td>   -0.830</td> <td> 0.408</td> <td>   -0.586</td> <td>    0.239</td>\n",
       "</tr>\n",
       "<tr>\n",
       "  <th>x1</th>    <td>    0.0135</td> <td>    0.084</td> <td>    0.160</td> <td> 0.873</td> <td>   -0.153</td> <td>    0.180</td>\n",
       "</tr>\n",
       "</table>\n",
       "<table class=\"simpletable\">\n",
       "<tr>\n",
       "  <th>Omnibus:</th>       <td> 0.600</td> <th>  Durbin-Watson:     </th> <td>   2.020</td>\n",
       "</tr>\n",
       "<tr>\n",
       "  <th>Prob(Omnibus):</th> <td> 0.741</td> <th>  Jarque-Bera (JB):  </th> <td>   0.595</td>\n",
       "</tr>\n",
       "<tr>\n",
       "  <th>Skew:</th>          <td> 0.154</td> <th>  Prob(JB):          </th> <td>   0.743</td>\n",
       "</tr>\n",
       "<tr>\n",
       "  <th>Kurtosis:</th>      <td> 2.913</td> <th>  Cond. No.          </th> <td>    2.49</td>\n",
       "</tr>\n",
       "</table><br/><br/>Notes:<br/>[1] Standard Errors assume that the covariance matrix of the errors is correctly specified."
      ],
      "text/latex": [
       "\\begin{center}\n",
       "\\begin{tabular}{lclc}\n",
       "\\toprule\n",
       "\\textbf{Dep. Variable:}    &       ret        & \\textbf{  R-squared:         } &     0.000   \\\\\n",
       "\\textbf{Model:}            &       OLS        & \\textbf{  Adj. R-squared:    } &    -0.007   \\\\\n",
       "\\textbf{Method:}           &  Least Squares   & \\textbf{  F-statistic:       } &   0.02576   \\\\\n",
       "\\textbf{Date:}             & Sat, 10 Aug 2024 & \\textbf{  Prob (F-statistic):} &    0.873    \\\\\n",
       "\\textbf{Time:}             &     14:32:46     & \\textbf{  Log-Likelihood:    } &   -323.52   \\\\\n",
       "\\textbf{No. Observations:} &         140      & \\textbf{  AIC:               } &     651.0   \\\\\n",
       "\\textbf{Df Residuals:}     &         138      & \\textbf{  BIC:               } &     656.9   \\\\\n",
       "\\textbf{Df Model:}         &           1      & \\textbf{                     } &             \\\\\n",
       "\\textbf{Covariance Type:}  &    nonrobust     & \\textbf{                     } &             \\\\\n",
       "\\bottomrule\n",
       "\\end{tabular}\n",
       "\\begin{tabular}{lcccccc}\n",
       "               & \\textbf{coef} & \\textbf{std err} & \\textbf{t} & \\textbf{P$> |$t$|$} & \\textbf{[0.025} & \\textbf{0.975]}  \\\\\n",
       "\\midrule\n",
       "\\textbf{const} &      -0.1733  &        0.209     &    -0.830  &         0.408        &       -0.586    &        0.239     \\\\\n",
       "\\textbf{x1}    &       0.0135  &        0.084     &     0.160  &         0.873        &       -0.153    &        0.180     \\\\\n",
       "\\bottomrule\n",
       "\\end{tabular}\n",
       "\\begin{tabular}{lclc}\n",
       "\\textbf{Omnibus:}       &  0.600 & \\textbf{  Durbin-Watson:     } &    2.020  \\\\\n",
       "\\textbf{Prob(Omnibus):} &  0.741 & \\textbf{  Jarque-Bera (JB):  } &    0.595  \\\\\n",
       "\\textbf{Skew:}          &  0.154 & \\textbf{  Prob(JB):          } &    0.743  \\\\\n",
       "\\textbf{Kurtosis:}      &  2.913 & \\textbf{  Cond. No.          } &     2.49  \\\\\n",
       "\\bottomrule\n",
       "\\end{tabular}\n",
       "%\\caption{OLS Regression Results}\n",
       "\\end{center}\n",
       "\n",
       "Notes: \\newline\n",
       " [1] Standard Errors assume that the covariance matrix of the errors is correctly specified."
      ],
      "text/plain": [
       "<class 'statsmodels.iolib.summary.Summary'>\n",
       "\"\"\"\n",
       "                            OLS Regression Results                            \n",
       "==============================================================================\n",
       "Dep. Variable:                    ret   R-squared:                       0.000\n",
       "Model:                            OLS   Adj. R-squared:                 -0.007\n",
       "Method:                 Least Squares   F-statistic:                   0.02576\n",
       "Date:                Sat, 10 Aug 2024   Prob (F-statistic):              0.873\n",
       "Time:                        14:32:46   Log-Likelihood:                -323.52\n",
       "No. Observations:                 140   AIC:                             651.0\n",
       "Df Residuals:                     138   BIC:                             656.9\n",
       "Df Model:                           1                                         \n",
       "Covariance Type:            nonrobust                                         \n",
       "==============================================================================\n",
       "                 coef    std err          t      P>|t|      [0.025      0.975]\n",
       "------------------------------------------------------------------------------\n",
       "const         -0.1733      0.209     -0.830      0.408      -0.586       0.239\n",
       "x1             0.0135      0.084      0.160      0.873      -0.153       0.180\n",
       "==============================================================================\n",
       "Omnibus:                        0.600   Durbin-Watson:                   2.020\n",
       "Prob(Omnibus):                  0.741   Jarque-Bera (JB):                0.595\n",
       "Skew:                           0.154   Prob(JB):                        0.743\n",
       "Kurtosis:                       2.913   Cond. No.                         2.49\n",
       "==============================================================================\n",
       "\n",
       "Notes:\n",
       "[1] Standard Errors assume that the covariance matrix of the errors is correctly specified.\n",
       "\"\"\""
      ]
     },
     "execution_count": 19,
     "metadata": {},
     "output_type": "execute_result"
    }
   ],
   "source": [
    "model = sm.OLS(Y, X.values)\n",
    "results = model.fit()\n",
    "results.summary()"
   ]
  },
  {
   "cell_type": "code",
   "execution_count": 20,
   "metadata": {},
   "outputs": [
    {
     "data": {
      "image/png": "[encoded data removed]",
      "text/plain": [
       "<Figure size 1000x400 with 1 Axes>"
      ]
     },
     "metadata": {},
     "output_type": "display_data"
    }
   ],
   "source": [
    "plt.rcParams['figure.figsize'] = (10, 4)\n",
    "plt.plot(df_post_abe['KRW/JPY'])\n",
    "plt.show()"
   ]
  },
  {
   "cell_type": "code",
   "execution_count": 22,
   "metadata": {},
   "outputs": [],
   "source": [
    "df_real_xr = pd.read_excel(Path('data/world_real_xr.xls'), sheet_name='Data', skiprows=3)"
   ]
  },
  {
   "cell_type": "code",
   "execution_count": 23,
   "metadata": {},
   "outputs": [
    {
     "data": {
      "text/html": [
       "<div>\n",
       "<style scoped>\n",
       "    .dataframe tbody tr th:only-of-type {\n",
       "        vertical-align: middle;\n",
       "    }\n",
       "\n",
       "    .dataframe tbody tr th {\n",
       "        vertical-align: top;\n",
       "    }\n",
       "\n",
       "    .dataframe thead th {\n",
       "        text-align: right;\n",
       "    }\n",
       "</style>\n",
       "<table border=\"1\" class=\"dataframe\">\n",
       "  <thead>\n",
       "    <tr style=\"text-align: right;\">\n",
       "      <th></th>\n",
       "      <th>KOR Real XR</th>\n",
       "    </tr>\n",
       "    <tr>\n",
       "      <th>date</th>\n",
       "      <th></th>\n",
       "    </tr>\n",
       "  </thead>\n",
       "  <tbody>\n",
       "    <tr>\n",
       "      <th>1990-12-31</th>\n",
       "      <td>0.791111</td>\n",
       "    </tr>\n",
       "    <tr>\n",
       "      <th>1991-12-31</th>\n",
       "      <td>0.806041</td>\n",
       "    </tr>\n",
       "    <tr>\n",
       "      <th>1992-12-31</th>\n",
       "      <td>0.797916</td>\n",
       "    </tr>\n",
       "  </tbody>\n",
       "</table>\n",
       "</div>"
      ],
      "text/plain": [
       "            KOR Real XR\n",
       "date                   \n",
       "1990-12-31     0.791111\n",
       "1991-12-31     0.806041\n",
       "1992-12-31     0.797916"
      ]
     },
     "execution_count": 23,
     "metadata": {},
     "output_type": "execute_result"
    }
   ],
   "source": [
    "df_real_xr = df_real_xr.set_index('Country Code')\n",
    "\n",
    "df_real_xr_kor = df_real_xr.loc['KOR'].to_frame()\n",
    "df_real_xr_kor = df_real_xr_kor.iloc[3:]\n",
    "df_real_xr_kor = df_real_xr_kor.dropna()\n",
    "df_real_xr_kor['KOR'] = df_real_xr_kor['KOR'].astype(float)\n",
    "df_real_xr_kor['date'] = pd.to_datetime(df_real_xr_kor.index) + YearEnd()\n",
    "df_real_xr_kor = df_real_xr_kor.set_index('date')\n",
    "df_real_xr_kor.columns = ['KOR Real XR']\n",
    "df_real_xr_kor.head(3)"
   ]
  },
  {
   "cell_type": "code",
   "execution_count": 24,
   "metadata": {},
   "outputs": [
    {
     "data": {
      "text/html": [
       "<div>\n",
       "<style scoped>\n",
       "    .dataframe tbody tr th:only-of-type {\n",
       "        vertical-align: middle;\n",
       "    }\n",
       "\n",
       "    .dataframe tbody tr th {\n",
       "        vertical-align: top;\n",
       "    }\n",
       "\n",
       "    .dataframe thead th {\n",
       "        text-align: right;\n",
       "    }\n",
       "</style>\n",
       "<table border=\"1\" class=\"dataframe\">\n",
       "  <thead>\n",
       "    <tr style=\"text-align: right;\">\n",
       "      <th></th>\n",
       "      <th>JPN Real XR</th>\n",
       "    </tr>\n",
       "    <tr>\n",
       "      <th>date</th>\n",
       "      <th></th>\n",
       "    </tr>\n",
       "  </thead>\n",
       "  <tbody>\n",
       "    <tr>\n",
       "      <th>1990-12-31</th>\n",
       "      <td>1.295738</td>\n",
       "    </tr>\n",
       "    <tr>\n",
       "      <th>1991-12-31</th>\n",
       "      <td>1.386324</td>\n",
       "    </tr>\n",
       "    <tr>\n",
       "      <th>1992-12-31</th>\n",
       "      <td>1.465824</td>\n",
       "    </tr>\n",
       "  </tbody>\n",
       "</table>\n",
       "</div>"
      ],
      "text/plain": [
       "            JPN Real XR\n",
       "date                   \n",
       "1990-12-31     1.295738\n",
       "1991-12-31     1.386324\n",
       "1992-12-31     1.465824"
      ]
     },
     "execution_count": 24,
     "metadata": {},
     "output_type": "execute_result"
    }
   ],
   "source": [
    "df_real_xr_jpn = df_real_xr.loc['JPN'].to_frame()\n",
    "df_real_xr_jpn = df_real_xr_jpn.iloc[3:]\n",
    "df_real_xr_jpn = df_real_xr_jpn.dropna()\n",
    "df_real_xr_jpn['JPN'] = df_real_xr_jpn['JPN'].astype(float)\n",
    "df_real_xr_jpn['date'] = pd.to_datetime(df_real_xr_jpn.index) + YearEnd()\n",
    "df_real_xr_jpn = df_real_xr_jpn.set_index('date')\n",
    "df_real_xr_jpn.columns = ['JPN Real XR']\n",
    "df_real_xr_jpn.head(3)"
   ]
  },
  {
   "cell_type": "code",
   "execution_count": 25,
   "metadata": {},
   "outputs": [
    {
     "data": {
      "text/html": [
       "<div>\n",
       "<style scoped>\n",
       "    .dataframe tbody tr th:only-of-type {\n",
       "        vertical-align: middle;\n",
       "    }\n",
       "\n",
       "    .dataframe tbody tr th {\n",
       "        vertical-align: top;\n",
       "    }\n",
       "\n",
       "    .dataframe thead th {\n",
       "        text-align: right;\n",
       "    }\n",
       "</style>\n",
       "<table border=\"1\" class=\"dataframe\">\n",
       "  <thead>\n",
       "    <tr style=\"text-align: right;\">\n",
       "      <th></th>\n",
       "      <th>KOR Real XR</th>\n",
       "      <th>JPN Real XR</th>\n",
       "      <th>KRW/100JPY Real XR</th>\n",
       "    </tr>\n",
       "    <tr>\n",
       "      <th>date</th>\n",
       "      <th></th>\n",
       "      <th></th>\n",
       "      <th></th>\n",
       "    </tr>\n",
       "  </thead>\n",
       "  <tbody>\n",
       "    <tr>\n",
       "      <th>2021-12-31</th>\n",
       "      <td>0.723172</td>\n",
       "      <td>0.899195</td>\n",
       "      <td>0.008042</td>\n",
       "    </tr>\n",
       "    <tr>\n",
       "      <th>2022-12-31</th>\n",
       "      <td>0.627537</td>\n",
       "      <td>0.721953</td>\n",
       "      <td>0.008692</td>\n",
       "    </tr>\n",
       "    <tr>\n",
       "      <th>2023-12-31</th>\n",
       "      <td>0.612982</td>\n",
       "      <td>0.673903</td>\n",
       "      <td>0.009096</td>\n",
       "    </tr>\n",
       "  </tbody>\n",
       "</table>\n",
       "</div>"
      ],
      "text/plain": [
       "            KOR Real XR  JPN Real XR  KRW/100JPY Real XR\n",
       "date                                                    \n",
       "2021-12-31     0.723172     0.899195            0.008042\n",
       "2022-12-31     0.627537     0.721953            0.008692\n",
       "2023-12-31     0.612982     0.673903            0.009096"
      ]
     },
     "execution_count": 25,
     "metadata": {},
     "output_type": "execute_result"
    }
   ],
   "source": [
    "# 기존의 KOR와 JPN 데이터프레임을 합칩니다\n",
    "df_combined = pd.concat([df_real_xr_kor, df_real_xr_jpn], axis = 1)\n",
    "\n",
    "# KRW/100JPY 실질환율 계산\n",
    "# KRW/USD를 JPY/USD로 나누고 100을 곱합니다 (100엔 기준으로 변환)\n",
    "df_combined['KRW/100JPY Real XR'] = df_combined['KOR Real XR'] / (df_combined['JPN Real XR'] * 100)\n",
    "\n",
    "# 결과 확인\n",
    "df_combined.tail(3)"
   ]
  },
  {
   "cell_type": "code",
   "execution_count": 26,
   "metadata": {},
   "outputs": [],
   "source": [
    "df_real_xr = df_combined['KRW/100JPY Real XR']"
   ]
  },
  {
   "cell_type": "code",
   "execution_count": 27,
   "metadata": {},
   "outputs": [
    {
     "data": {
      "image/png": "[encoded data removed]",
      "text/plain": [
       "<Figure size 1000x400 with 1 Axes>"
      ]
     },
     "metadata": {},
     "output_type": "display_data"
    }
   ],
   "source": [
    "plt.plot(df_real_xr)\n",
    "plt.show()"
   ]
  },
  {
   "cell_type": "markdown",
   "metadata": {},
   "source": [
    "## Overlapping monthly forecasts"
   ]
  },
  {
   "cell_type": "code",
   "execution_count": 28,
   "metadata": {},
   "outputs": [
    {
     "data": {
      "text/html": [
       "<div>\n",
       "<style scoped>\n",
       "    .dataframe tbody tr th:only-of-type {\n",
       "        vertical-align: middle;\n",
       "    }\n",
       "\n",
       "    .dataframe tbody tr th {\n",
       "        vertical-align: top;\n",
       "    }\n",
       "\n",
       "    .dataframe thead th {\n",
       "        text-align: right;\n",
       "    }\n",
       "</style>\n",
       "<table border=\"1\" class=\"dataframe\">\n",
       "  <thead>\n",
       "    <tr style=\"text-align: right;\">\n",
       "      <th></th>\n",
       "      <th>KRW/JPY</th>\n",
       "      <th>KRW/100JPY Real XR</th>\n",
       "      <th>ann_ret</th>\n",
       "      <th>F12.ann_ret</th>\n",
       "    </tr>\n",
       "    <tr>\n",
       "      <th>date</th>\n",
       "      <th></th>\n",
       "      <th></th>\n",
       "      <th></th>\n",
       "      <th></th>\n",
       "    </tr>\n",
       "  </thead>\n",
       "  <tbody>\n",
       "    <tr>\n",
       "      <th>1977-05-31</th>\n",
       "      <td>174.67</td>\n",
       "      <td>NaN</td>\n",
       "      <td>NaN</td>\n",
       "      <td>23.346883</td>\n",
       "    </tr>\n",
       "    <tr>\n",
       "      <th>1977-06-30</th>\n",
       "      <td>180.11</td>\n",
       "      <td>NaN</td>\n",
       "      <td>NaN</td>\n",
       "      <td>30.525790</td>\n",
       "    </tr>\n",
       "    <tr>\n",
       "      <th>1977-07-31</th>\n",
       "      <td>181.95</td>\n",
       "      <td>NaN</td>\n",
       "      <td>NaN</td>\n",
       "      <td>38.186315</td>\n",
       "    </tr>\n",
       "    <tr>\n",
       "      <th>1977-08-31</th>\n",
       "      <td>181.12</td>\n",
       "      <td>NaN</td>\n",
       "      <td>NaN</td>\n",
       "      <td>40.569788</td>\n",
       "    </tr>\n",
       "    <tr>\n",
       "      <th>1977-09-30</th>\n",
       "      <td>181.51</td>\n",
       "      <td>NaN</td>\n",
       "      <td>NaN</td>\n",
       "      <td>40.890309</td>\n",
       "    </tr>\n",
       "    <tr>\n",
       "      <th>1977-10-31</th>\n",
       "      <td>193.58</td>\n",
       "      <td>NaN</td>\n",
       "      <td>NaN</td>\n",
       "      <td>39.787168</td>\n",
       "    </tr>\n",
       "    <tr>\n",
       "      <th>1977-11-30</th>\n",
       "      <td>200.15</td>\n",
       "      <td>NaN</td>\n",
       "      <td>NaN</td>\n",
       "      <td>22.348239</td>\n",
       "    </tr>\n",
       "    <tr>\n",
       "      <th>1977-12-31</th>\n",
       "      <td>201.65</td>\n",
       "      <td>NaN</td>\n",
       "      <td>NaN</td>\n",
       "      <td>24.329283</td>\n",
       "    </tr>\n",
       "    <tr>\n",
       "      <th>1978-01-31</th>\n",
       "      <td>200.05</td>\n",
       "      <td>NaN</td>\n",
       "      <td>NaN</td>\n",
       "      <td>20.774806</td>\n",
       "    </tr>\n",
       "    <tr>\n",
       "      <th>1978-02-28</th>\n",
       "      <td>202.55</td>\n",
       "      <td>NaN</td>\n",
       "      <td>NaN</td>\n",
       "      <td>18.276969</td>\n",
       "    </tr>\n",
       "    <tr>\n",
       "      <th>1978-03-31</th>\n",
       "      <td>217.38</td>\n",
       "      <td>NaN</td>\n",
       "      <td>NaN</td>\n",
       "      <td>6.389732</td>\n",
       "    </tr>\n",
       "    <tr>\n",
       "      <th>1978-04-30</th>\n",
       "      <td>217.75</td>\n",
       "      <td>NaN</td>\n",
       "      <td>NaN</td>\n",
       "      <td>1.423651</td>\n",
       "    </tr>\n",
       "    <tr>\n",
       "      <th>1978-05-31</th>\n",
       "      <td>215.45</td>\n",
       "      <td>NaN</td>\n",
       "      <td>23.346883</td>\n",
       "      <td>1.225342</td>\n",
       "    </tr>\n",
       "    <tr>\n",
       "      <th>1978-06-30</th>\n",
       "      <td>235.09</td>\n",
       "      <td>NaN</td>\n",
       "      <td>30.525790</td>\n",
       "      <td>-5.125697</td>\n",
       "    </tr>\n",
       "    <tr>\n",
       "      <th>1978-07-31</th>\n",
       "      <td>251.43</td>\n",
       "      <td>NaN</td>\n",
       "      <td>38.186315</td>\n",
       "      <td>-10.973233</td>\n",
       "    </tr>\n",
       "  </tbody>\n",
       "</table>\n",
       "</div>"
      ],
      "text/plain": [
       "            KRW/JPY  KRW/100JPY Real XR    ann_ret  F12.ann_ret\n",
       "date                                                           \n",
       "1977-05-31   174.67                 NaN        NaN    23.346883\n",
       "1977-06-30   180.11                 NaN        NaN    30.525790\n",
       "1977-07-31   181.95                 NaN        NaN    38.186315\n",
       "1977-08-31   181.12                 NaN        NaN    40.569788\n",
       "1977-09-30   181.51                 NaN        NaN    40.890309\n",
       "1977-10-31   193.58                 NaN        NaN    39.787168\n",
       "1977-11-30   200.15                 NaN        NaN    22.348239\n",
       "1977-12-31   201.65                 NaN        NaN    24.329283\n",
       "1978-01-31   200.05                 NaN        NaN    20.774806\n",
       "1978-02-28   202.55                 NaN        NaN    18.276969\n",
       "1978-03-31   217.38                 NaN        NaN     6.389732\n",
       "1978-04-30   217.75                 NaN        NaN     1.423651\n",
       "1978-05-31   215.45                 NaN  23.346883     1.225342\n",
       "1978-06-30   235.09                 NaN  30.525790    -5.125697\n",
       "1978-07-31   251.43                 NaN  38.186315   -10.973233"
      ]
     },
     "execution_count": 28,
     "metadata": {},
     "output_type": "execute_result"
    }
   ],
   "source": [
    "df_monthly = df_monthly.drop('ret', axis = 1)\n",
    "df_merged = df_monthly.join(df_real_xr)\n",
    "# ffill - forward fill\n",
    "# bfill - backward fill\n",
    "df_merged['KRW/100JPY Real XR'] = df_merged['KRW/100JPY Real XR'].fillna(method='ffill')\n",
    "\n",
    "df_merged['ann_ret'] = df_merged['KRW/JPY'].pct_change(periods=12) * 100\n",
    "\n",
    "df_merged['F12.ann_ret'] = df_merged['ann_ret'].shift(-12)\n",
    "\n",
    "df_merged.head(15)\n"
   ]
  },
  {
   "cell_type": "markdown",
   "metadata": {},
   "source": [
    "### Use OLS to fit the forecast model"
   ]
  },
  {
   "cell_type": "code",
   "execution_count": 29,
   "metadata": {},
   "outputs": [],
   "source": [
    "df = df_merged[['KRW/100JPY Real XR', 'F12.ann_ret']]\n",
    "df = df.dropna()"
   ]
  },
  {
   "cell_type": "code",
   "execution_count": 30,
   "metadata": {},
   "outputs": [],
   "source": [
    "X = df['KRW/100JPY Real XR']\n",
    "X = sm.add_constant(X)\n",
    "Y = df['F12.ann_ret']"
   ]
  },
  {
   "cell_type": "code",
   "execution_count": 31,
   "metadata": {},
   "outputs": [
    {
     "data": {
      "text/html": [
       "<table class=\"simpletable\">\n",
       "<caption>OLS Regression Results</caption>\n",
       "<tr>\n",
       "  <th>Dep. Variable:</th>       <td>F12.ann_ret</td>   <th>  R-squared:         </th> <td>   0.016</td>\n",
       "</tr>\n",
       "<tr>\n",
       "  <th>Model:</th>                   <td>OLS</td>       <th>  Adj. R-squared:    </th> <td>   0.014</td>\n",
       "</tr>\n",
       "<tr>\n",
       "  <th>Method:</th>             <td>Least Squares</td>  <th>  F-statistic:       </th> <td>   6.386</td>\n",
       "</tr>\n",
       "<tr>\n",
       "  <th>Date:</th>             <td>Sat, 10 Aug 2024</td> <th>  Prob (F-statistic):</th>  <td>0.0119</td> \n",
       "</tr>\n",
       "<tr>\n",
       "  <th>Time:</th>                 <td>14:33:11</td>     <th>  Log-Likelihood:    </th> <td> -1640.3</td>\n",
       "</tr>\n",
       "<tr>\n",
       "  <th>No. Observations:</th>      <td>   393</td>      <th>  AIC:               </th> <td>   3285.</td>\n",
       "</tr>\n",
       "<tr>\n",
       "  <th>Df Residuals:</th>          <td>   391</td>      <th>  BIC:               </th> <td>   3293.</td>\n",
       "</tr>\n",
       "<tr>\n",
       "  <th>Df Model:</th>              <td>     1</td>      <th>                     </th>     <td> </td>   \n",
       "</tr>\n",
       "<tr>\n",
       "  <th>Covariance Type:</th>      <td>nonrobust</td>    <th>                     </th>     <td> </td>   \n",
       "</tr>\n",
       "</table>\n",
       "<table class=\"simpletable\">\n",
       "<tr>\n",
       "           <td></td>             <th>coef</th>     <th>std err</th>      <th>t</th>      <th>P>|t|</th>  <th>[0.025</th>    <th>0.975]</th>  \n",
       "</tr>\n",
       "<tr>\n",
       "  <th>const</th>              <td>   -6.7069</td> <td>    3.770</td> <td>   -1.779</td> <td> 0.076</td> <td>  -14.119</td> <td>    0.705</td>\n",
       "</tr>\n",
       "<tr>\n",
       "  <th>KRW/100JPY Real XR</th> <td> 1465.1655</td> <td>  579.777</td> <td>    2.527</td> <td> 0.012</td> <td>  325.295</td> <td> 2605.036</td>\n",
       "</tr>\n",
       "</table>\n",
       "<table class=\"simpletable\">\n",
       "<tr>\n",
       "  <th>Omnibus:</th>       <td>177.090</td> <th>  Durbin-Watson:     </th> <td>   0.152</td> \n",
       "</tr>\n",
       "<tr>\n",
       "  <th>Prob(Omnibus):</th> <td> 0.000</td>  <th>  Jarque-Bera (JB):  </th> <td> 844.783</td> \n",
       "</tr>\n",
       "<tr>\n",
       "  <th>Skew:</th>          <td> 1.935</td>  <th>  Prob(JB):          </th> <td>3.61e-184</td>\n",
       "</tr>\n",
       "<tr>\n",
       "  <th>Kurtosis:</th>      <td> 9.051</td>  <th>  Cond. No.          </th> <td>    729.</td> \n",
       "</tr>\n",
       "</table><br/><br/>Notes:<br/>[1] Standard Errors assume that the covariance matrix of the errors is correctly specified."
      ],
      "text/latex": [
       "\\begin{center}\n",
       "\\begin{tabular}{lclc}\n",
       "\\toprule\n",
       "\\textbf{Dep. Variable:}     &   F12.ann\\_ret   & \\textbf{  R-squared:         } &     0.016   \\\\\n",
       "\\textbf{Model:}             &       OLS        & \\textbf{  Adj. R-squared:    } &     0.014   \\\\\n",
       "\\textbf{Method:}            &  Least Squares   & \\textbf{  F-statistic:       } &     6.386   \\\\\n",
       "\\textbf{Date:}              & Sat, 10 Aug 2024 & \\textbf{  Prob (F-statistic):} &   0.0119    \\\\\n",
       "\\textbf{Time:}              &     14:33:11     & \\textbf{  Log-Likelihood:    } &   -1640.3   \\\\\n",
       "\\textbf{No. Observations:}  &         393      & \\textbf{  AIC:               } &     3285.   \\\\\n",
       "\\textbf{Df Residuals:}      &         391      & \\textbf{  BIC:               } &     3293.   \\\\\n",
       "\\textbf{Df Model:}          &           1      & \\textbf{                     } &             \\\\\n",
       "\\textbf{Covariance Type:}   &    nonrobust     & \\textbf{                     } &             \\\\\n",
       "\\bottomrule\n",
       "\\end{tabular}\n",
       "\\begin{tabular}{lcccccc}\n",
       "                            & \\textbf{coef} & \\textbf{std err} & \\textbf{t} & \\textbf{P$> |$t$|$} & \\textbf{[0.025} & \\textbf{0.975]}  \\\\\n",
       "\\midrule\n",
       "\\textbf{const}              &      -6.7069  &        3.770     &    -1.779  &         0.076        &      -14.119    &        0.705     \\\\\n",
       "\\textbf{KRW/100JPY Real XR} &    1465.1655  &      579.777     &     2.527  &         0.012        &      325.295    &     2605.036     \\\\\n",
       "\\bottomrule\n",
       "\\end{tabular}\n",
       "\\begin{tabular}{lclc}\n",
       "\\textbf{Omnibus:}       & 177.090 & \\textbf{  Durbin-Watson:     } &     0.152  \\\\\n",
       "\\textbf{Prob(Omnibus):} &   0.000 & \\textbf{  Jarque-Bera (JB):  } &   844.783  \\\\\n",
       "\\textbf{Skew:}          &   1.935 & \\textbf{  Prob(JB):          } & 3.61e-184  \\\\\n",
       "\\textbf{Kurtosis:}      &   9.051 & \\textbf{  Cond. No.          } &      729.  \\\\\n",
       "\\bottomrule\n",
       "\\end{tabular}\n",
       "%\\caption{OLS Regression Results}\n",
       "\\end{center}\n",
       "\n",
       "Notes: \\newline\n",
       " [1] Standard Errors assume that the covariance matrix of the errors is correctly specified."
      ],
      "text/plain": [
       "<class 'statsmodels.iolib.summary.Summary'>\n",
       "\"\"\"\n",
       "                            OLS Regression Results                            \n",
       "==============================================================================\n",
       "Dep. Variable:            F12.ann_ret   R-squared:                       0.016\n",
       "Model:                            OLS   Adj. R-squared:                  0.014\n",
       "Method:                 Least Squares   F-statistic:                     6.386\n",
       "Date:                Sat, 10 Aug 2024   Prob (F-statistic):             0.0119\n",
       "Time:                        14:33:11   Log-Likelihood:                -1640.3\n",
       "No. Observations:                 393   AIC:                             3285.\n",
       "Df Residuals:                     391   BIC:                             3293.\n",
       "Df Model:                           1                                         \n",
       "Covariance Type:            nonrobust                                         \n",
       "======================================================================================\n",
       "                         coef    std err          t      P>|t|      [0.025      0.975]\n",
       "--------------------------------------------------------------------------------------\n",
       "const                 -6.7069      3.770     -1.779      0.076     -14.119       0.705\n",
       "KRW/100JPY Real XR  1465.1655    579.777      2.527      0.012     325.295    2605.036\n",
       "==============================================================================\n",
       "Omnibus:                      177.090   Durbin-Watson:                   0.152\n",
       "Prob(Omnibus):                  0.000   Jarque-Bera (JB):              844.783\n",
       "Skew:                           1.935   Prob(JB):                    3.61e-184\n",
       "Kurtosis:                       9.051   Cond. No.                         729.\n",
       "==============================================================================\n",
       "\n",
       "Notes:\n",
       "[1] Standard Errors assume that the covariance matrix of the errors is correctly specified.\n",
       "\"\"\""
      ]
     },
     "execution_count": 31,
     "metadata": {},
     "output_type": "execute_result"
    }
   ],
   "source": [
    "model = sm.OLS(Y, X)\n",
    "results = model.fit()\n",
    "results.summary()"
   ]
  },
  {
   "cell_type": "markdown",
   "metadata": {},
   "source": [
    "## Real XR 대신 PPP XR 활용하기"
   ]
  },
  {
   "cell_type": "code",
   "execution_count": 32,
   "metadata": {},
   "outputs": [],
   "source": [
    "def load_world_bank_data(filepath, country, column):\n",
    "    df = pd.read_excel(filepath, sheet_name='Data', skiprows = 3)\n",
    "\n",
    "    df = df.set_index('Country Code')\n",
    "    df = df.loc[country].to_frame()\n",
    "    df = df.iloc[3:]\n",
    "    df = df.dropna()\n",
    "    df = df.astype(float)\n",
    "    \n",
    "    df['date'] = pd.to_datetime(df.index) + YearEnd()\n",
    "    df = df.set_index('date')\n",
    "    df.columns = [column]\n",
    "    \n",
    "    return df"
   ]
  },
  {
   "cell_type": "code",
   "execution_count": 35,
   "metadata": {},
   "outputs": [],
   "source": [
    "df_ppp_xr_kor = load_world_bank_data(Path('data/world_ppp_xr.xls'), 'KOR', 'PPP XR')\n",
    "df_ppp_xr_jpn = load_world_bank_data(Path('data/world_ppp_xr.xls'), 'JPN', 'PPP XR')"
   ]
  },
  {
   "cell_type": "code",
   "execution_count": 36,
   "metadata": {},
   "outputs": [],
   "source": [
    "df_ppp_combined = pd.concat([df_ppp_xr_kor, df_ppp_xr_jpn], axis = 1)\n",
    "df_ppp_combined.columns = ['KOR PPP XR', 'JPN PPP XR']\n",
    "df_ppp_combined['KRW/100JPY PPP XR'] = df_ppp_combined['KOR PPP XR'] / (df_ppp_combined['JPN PPP XR'] * 100)\n",
    "df_ppp_xr = df_ppp_combined.drop(['KOR PPP XR', 'JPN PPP XR'], axis = 1)"
   ]
  },
  {
   "cell_type": "code",
   "execution_count": 37,
   "metadata": {},
   "outputs": [
    {
     "data": {
      "text/html": [
       "<div>\n",
       "<style scoped>\n",
       "    .dataframe tbody tr th:only-of-type {\n",
       "        vertical-align: middle;\n",
       "    }\n",
       "\n",
       "    .dataframe tbody tr th {\n",
       "        vertical-align: top;\n",
       "    }\n",
       "\n",
       "    .dataframe thead th {\n",
       "        text-align: right;\n",
       "    }\n",
       "</style>\n",
       "<table border=\"1\" class=\"dataframe\">\n",
       "  <thead>\n",
       "    <tr style=\"text-align: right;\">\n",
       "      <th></th>\n",
       "      <th>KRW/100JPY PPP XR</th>\n",
       "    </tr>\n",
       "    <tr>\n",
       "      <th>date</th>\n",
       "      <th></th>\n",
       "    </tr>\n",
       "  </thead>\n",
       "  <tbody>\n",
       "    <tr>\n",
       "      <th>1990-12-31</th>\n",
       "      <td>0.029844</td>\n",
       "    </tr>\n",
       "    <tr>\n",
       "      <th>1991-12-31</th>\n",
       "      <td>0.031653</td>\n",
       "    </tr>\n",
       "    <tr>\n",
       "      <th>1992-12-31</th>\n",
       "      <td>0.033552</td>\n",
       "    </tr>\n",
       "  </tbody>\n",
       "</table>\n",
       "</div>"
      ],
      "text/plain": [
       "            KRW/100JPY PPP XR\n",
       "date                         \n",
       "1990-12-31           0.029844\n",
       "1991-12-31           0.031653\n",
       "1992-12-31           0.033552"
      ]
     },
     "execution_count": 37,
     "metadata": {},
     "output_type": "execute_result"
    }
   ],
   "source": [
    "df_ppp_xr.head(3)"
   ]
  },
  {
   "cell_type": "markdown",
   "metadata": {},
   "source": [
    "### Merge with monthly observations"
   ]
  },
  {
   "cell_type": "code",
   "execution_count": 38,
   "metadata": {},
   "outputs": [
    {
     "data": {
      "text/html": [
       "<div>\n",
       "<style scoped>\n",
       "    .dataframe tbody tr th:only-of-type {\n",
       "        vertical-align: middle;\n",
       "    }\n",
       "\n",
       "    .dataframe tbody tr th {\n",
       "        vertical-align: top;\n",
       "    }\n",
       "\n",
       "    .dataframe thead th {\n",
       "        text-align: right;\n",
       "    }\n",
       "</style>\n",
       "<table border=\"1\" class=\"dataframe\">\n",
       "  <thead>\n",
       "    <tr style=\"text-align: right;\">\n",
       "      <th></th>\n",
       "      <th>KRW/JPY</th>\n",
       "      <th>KRW/100JPY Real XR</th>\n",
       "      <th>KRW/100JPY PPP XR</th>\n",
       "    </tr>\n",
       "    <tr>\n",
       "      <th>date</th>\n",
       "      <th></th>\n",
       "      <th></th>\n",
       "      <th></th>\n",
       "    </tr>\n",
       "  </thead>\n",
       "  <tbody>\n",
       "    <tr>\n",
       "      <th>1977-05-31</th>\n",
       "      <td>174.67</td>\n",
       "      <td>NaN</td>\n",
       "      <td>NaN</td>\n",
       "    </tr>\n",
       "    <tr>\n",
       "      <th>1977-06-30</th>\n",
       "      <td>180.11</td>\n",
       "      <td>NaN</td>\n",
       "      <td>NaN</td>\n",
       "    </tr>\n",
       "    <tr>\n",
       "      <th>1977-07-31</th>\n",
       "      <td>181.95</td>\n",
       "      <td>NaN</td>\n",
       "      <td>NaN</td>\n",
       "    </tr>\n",
       "  </tbody>\n",
       "</table>\n",
       "</div>"
      ],
      "text/plain": [
       "            KRW/JPY  KRW/100JPY Real XR  KRW/100JPY PPP XR\n",
       "date                                                      \n",
       "1977-05-31   174.67                 NaN                NaN\n",
       "1977-06-30   180.11                 NaN                NaN\n",
       "1977-07-31   181.95                 NaN                NaN"
      ]
     },
     "execution_count": 38,
     "metadata": {},
     "output_type": "execute_result"
    }
   ],
   "source": [
    "df_merged = df_monthly.join(df_real_xr)\n",
    "df_merged = df_merged.join(df_ppp_xr)\n",
    "df_merged.head(3)"
   ]
  },
  {
   "cell_type": "markdown",
   "metadata": {},
   "source": [
    "### Compute Real XR"
   ]
  },
  {
   "cell_type": "code",
   "execution_count": 39,
   "metadata": {},
   "outputs": [
    {
     "data": {
      "text/html": [
       "<div>\n",
       "<style scoped>\n",
       "    .dataframe tbody tr th:only-of-type {\n",
       "        vertical-align: middle;\n",
       "    }\n",
       "\n",
       "    .dataframe tbody tr th {\n",
       "        vertical-align: top;\n",
       "    }\n",
       "\n",
       "    .dataframe thead th {\n",
       "        text-align: right;\n",
       "    }\n",
       "</style>\n",
       "<table border=\"1\" class=\"dataframe\">\n",
       "  <thead>\n",
       "    <tr style=\"text-align: right;\">\n",
       "      <th></th>\n",
       "      <th>KRW/JPY</th>\n",
       "      <th>KRW/100JPY Real XR</th>\n",
       "      <th>KRW/100JPY PPP XR</th>\n",
       "    </tr>\n",
       "    <tr>\n",
       "      <th>date</th>\n",
       "      <th></th>\n",
       "      <th></th>\n",
       "      <th></th>\n",
       "    </tr>\n",
       "  </thead>\n",
       "  <tbody>\n",
       "    <tr>\n",
       "      <th>1977-05-31</th>\n",
       "      <td>174.67</td>\n",
       "      <td>NaN</td>\n",
       "      <td>NaN</td>\n",
       "    </tr>\n",
       "    <tr>\n",
       "      <th>1977-06-30</th>\n",
       "      <td>180.11</td>\n",
       "      <td>NaN</td>\n",
       "      <td>NaN</td>\n",
       "    </tr>\n",
       "    <tr>\n",
       "      <th>1977-07-31</th>\n",
       "      <td>181.95</td>\n",
       "      <td>NaN</td>\n",
       "      <td>NaN</td>\n",
       "    </tr>\n",
       "  </tbody>\n",
       "</table>\n",
       "</div>"
      ],
      "text/plain": [
       "            KRW/JPY  KRW/100JPY Real XR  KRW/100JPY PPP XR\n",
       "date                                                      \n",
       "1977-05-31   174.67                 NaN                NaN\n",
       "1977-06-30   180.11                 NaN                NaN\n",
       "1977-07-31   181.95                 NaN                NaN"
      ]
     },
     "execution_count": 39,
     "metadata": {},
     "output_type": "execute_result"
    }
   ],
   "source": [
    "df_merged['KRW/100JPY PPP XR'] = df_merged['KRW/100JPY PPP XR'].ffill()\n",
    "df_merged.head(3)"
   ]
  },
  {
   "cell_type": "code",
   "execution_count": 40,
   "metadata": {},
   "outputs": [
    {
     "data": {
      "text/html": [
       "<div>\n",
       "<style scoped>\n",
       "    .dataframe tbody tr th:only-of-type {\n",
       "        vertical-align: middle;\n",
       "    }\n",
       "\n",
       "    .dataframe tbody tr th {\n",
       "        vertical-align: top;\n",
       "    }\n",
       "\n",
       "    .dataframe thead th {\n",
       "        text-align: right;\n",
       "    }\n",
       "</style>\n",
       "<table border=\"1\" class=\"dataframe\">\n",
       "  <thead>\n",
       "    <tr style=\"text-align: right;\">\n",
       "      <th></th>\n",
       "      <th>KRW/JPY</th>\n",
       "      <th>KRW/100JPY Real XR</th>\n",
       "      <th>KRW/100JPY PPP XR</th>\n",
       "      <th>New Real XR</th>\n",
       "    </tr>\n",
       "    <tr>\n",
       "      <th>date</th>\n",
       "      <th></th>\n",
       "      <th></th>\n",
       "      <th></th>\n",
       "      <th></th>\n",
       "    </tr>\n",
       "  </thead>\n",
       "  <tbody>\n",
       "    <tr>\n",
       "      <th>2024-06-30</th>\n",
       "      <td>864.31</td>\n",
       "      <td>NaN</td>\n",
       "      <td>0.084534</td>\n",
       "      <td>0.009781</td>\n",
       "    </tr>\n",
       "    <tr>\n",
       "      <th>2024-07-31</th>\n",
       "      <td>905.44</td>\n",
       "      <td>NaN</td>\n",
       "      <td>0.084534</td>\n",
       "      <td>0.009336</td>\n",
       "    </tr>\n",
       "    <tr>\n",
       "      <th>2024-08-31</th>\n",
       "      <td>934.32</td>\n",
       "      <td>NaN</td>\n",
       "      <td>0.084534</td>\n",
       "      <td>0.009048</td>\n",
       "    </tr>\n",
       "  </tbody>\n",
       "</table>\n",
       "</div>"
      ],
      "text/plain": [
       "            KRW/JPY  KRW/100JPY Real XR  KRW/100JPY PPP XR  New Real XR\n",
       "date                                                                   \n",
       "2024-06-30   864.31                 NaN           0.084534     0.009781\n",
       "2024-07-31   905.44                 NaN           0.084534     0.009336\n",
       "2024-08-31   934.32                 NaN           0.084534     0.009048"
      ]
     },
     "execution_count": 40,
     "metadata": {},
     "output_type": "execute_result"
    }
   ],
   "source": [
    "df_merged['New Real XR'] = df_merged['KRW/100JPY PPP XR'] / df_merged['KRW/JPY'] * 100\n",
    "df_merged.tail(3)"
   ]
  },
  {
   "cell_type": "code",
   "execution_count": 41,
   "metadata": {},
   "outputs": [],
   "source": [
    "df_merged['KRW/100JPY Real XR'] = df_merged['KRW/100JPY Real XR'].ffill()"
   ]
  },
  {
   "cell_type": "code",
   "execution_count": 42,
   "metadata": {},
   "outputs": [
    {
     "data": {
      "image/png": "[encoded data removed]",
      "text/plain": [
       "<Figure size 1000x400 with 1 Axes>"
      ]
     },
     "metadata": {},
     "output_type": "display_data"
    }
   ],
   "source": [
    "plt.plot(df_merged['New Real XR'], label='New Real XR')\n",
    "plt.plot(df_merged['KRW/100JPY Real XR'].shift(-12), label='World Bank')\n",
    "plt.legend()\n",
    "plt.show()"
   ]
  },
  {
   "cell_type": "markdown",
   "metadata": {},
   "source": [
    "## Compute annual XR return"
   ]
  },
  {
   "cell_type": "code",
   "execution_count": 43,
   "metadata": {},
   "outputs": [
    {
     "data": {
      "text/html": [
       "<div>\n",
       "<style scoped>\n",
       "    .dataframe tbody tr th:only-of-type {\n",
       "        vertical-align: middle;\n",
       "    }\n",
       "\n",
       "    .dataframe tbody tr th {\n",
       "        vertical-align: top;\n",
       "    }\n",
       "\n",
       "    .dataframe thead th {\n",
       "        text-align: right;\n",
       "    }\n",
       "</style>\n",
       "<table border=\"1\" class=\"dataframe\">\n",
       "  <thead>\n",
       "    <tr style=\"text-align: right;\">\n",
       "      <th></th>\n",
       "      <th>KRW/JPY</th>\n",
       "      <th>KRW/100JPY Real XR</th>\n",
       "      <th>KRW/100JPY PPP XR</th>\n",
       "      <th>New Real XR</th>\n",
       "      <th>ann_ret</th>\n",
       "      <th>F12.ann_ret</th>\n",
       "    </tr>\n",
       "    <tr>\n",
       "      <th>date</th>\n",
       "      <th></th>\n",
       "      <th></th>\n",
       "      <th></th>\n",
       "      <th></th>\n",
       "      <th></th>\n",
       "      <th></th>\n",
       "    </tr>\n",
       "  </thead>\n",
       "  <tbody>\n",
       "    <tr>\n",
       "      <th>1977-05-31</th>\n",
       "      <td>174.67</td>\n",
       "      <td>NaN</td>\n",
       "      <td>NaN</td>\n",
       "      <td>NaN</td>\n",
       "      <td>NaN</td>\n",
       "      <td>23.346883</td>\n",
       "    </tr>\n",
       "    <tr>\n",
       "      <th>1977-06-30</th>\n",
       "      <td>180.11</td>\n",
       "      <td>NaN</td>\n",
       "      <td>NaN</td>\n",
       "      <td>NaN</td>\n",
       "      <td>NaN</td>\n",
       "      <td>30.525790</td>\n",
       "    </tr>\n",
       "    <tr>\n",
       "      <th>1977-07-31</th>\n",
       "      <td>181.95</td>\n",
       "      <td>NaN</td>\n",
       "      <td>NaN</td>\n",
       "      <td>NaN</td>\n",
       "      <td>NaN</td>\n",
       "      <td>38.186315</td>\n",
       "    </tr>\n",
       "    <tr>\n",
       "      <th>1977-08-31</th>\n",
       "      <td>181.12</td>\n",
       "      <td>NaN</td>\n",
       "      <td>NaN</td>\n",
       "      <td>NaN</td>\n",
       "      <td>NaN</td>\n",
       "      <td>40.569788</td>\n",
       "    </tr>\n",
       "    <tr>\n",
       "      <th>1977-09-30</th>\n",
       "      <td>181.51</td>\n",
       "      <td>NaN</td>\n",
       "      <td>NaN</td>\n",
       "      <td>NaN</td>\n",
       "      <td>NaN</td>\n",
       "      <td>40.890309</td>\n",
       "    </tr>\n",
       "  </tbody>\n",
       "</table>\n",
       "</div>"
      ],
      "text/plain": [
       "            KRW/JPY  KRW/100JPY Real XR  KRW/100JPY PPP XR  New Real XR  \\\n",
       "date                                                                      \n",
       "1977-05-31   174.67                 NaN                NaN          NaN   \n",
       "1977-06-30   180.11                 NaN                NaN          NaN   \n",
       "1977-07-31   181.95                 NaN                NaN          NaN   \n",
       "1977-08-31   181.12                 NaN                NaN          NaN   \n",
       "1977-09-30   181.51                 NaN                NaN          NaN   \n",
       "\n",
       "            ann_ret  F12.ann_ret  \n",
       "date                              \n",
       "1977-05-31      NaN    23.346883  \n",
       "1977-06-30      NaN    30.525790  \n",
       "1977-07-31      NaN    38.186315  \n",
       "1977-08-31      NaN    40.569788  \n",
       "1977-09-30      NaN    40.890309  "
      ]
     },
     "execution_count": 43,
     "metadata": {},
     "output_type": "execute_result"
    }
   ],
   "source": [
    "df_merged['ann_ret'] = df_merged['KRW/JPY'].pct_change(periods = 12) * 100\n",
    "df_merged['F12.ann_ret'] = df_merged['ann_ret'].shift(-12)\n",
    "df_merged.head(5)"
   ]
  },
  {
   "cell_type": "markdown",
   "metadata": {},
   "source": [
    "### Use OLS to fit the forecast model"
   ]
  },
  {
   "cell_type": "code",
   "execution_count": 44,
   "metadata": {},
   "outputs": [],
   "source": [
    "df = df_merged[['New Real XR', 'F12.ann_ret']]\n",
    "df = df.dropna()"
   ]
  },
  {
   "cell_type": "code",
   "execution_count": 45,
   "metadata": {},
   "outputs": [],
   "source": [
    "X = df['New Real XR']\n",
    "X = sm.add_constant(X)\n",
    "Y = df['F12.ann_ret']"
   ]
  },
  {
   "cell_type": "code",
   "execution_count": 46,
   "metadata": {},
   "outputs": [
    {
     "data": {
      "text/html": [
       "<table class=\"simpletable\">\n",
       "<caption>OLS Regression Results</caption>\n",
       "<tr>\n",
       "  <th>Dep. Variable:</th>       <td>F12.ann_ret</td>   <th>  R-squared:         </th> <td>   0.003</td>\n",
       "</tr>\n",
       "<tr>\n",
       "  <th>Model:</th>                   <td>OLS</td>       <th>  Adj. R-squared:    </th> <td>   0.000</td>\n",
       "</tr>\n",
       "<tr>\n",
       "  <th>Method:</th>             <td>Least Squares</td>  <th>  F-statistic:       </th> <td>   1.088</td>\n",
       "</tr>\n",
       "<tr>\n",
       "  <th>Date:</th>             <td>Sat, 10 Aug 2024</td> <th>  Prob (F-statistic):</th>  <td> 0.297</td> \n",
       "</tr>\n",
       "<tr>\n",
       "  <th>Time:</th>                 <td>14:34:00</td>     <th>  Log-Likelihood:    </th> <td> -1642.9</td>\n",
       "</tr>\n",
       "<tr>\n",
       "  <th>No. Observations:</th>      <td>   393</td>      <th>  AIC:               </th> <td>   3290.</td>\n",
       "</tr>\n",
       "<tr>\n",
       "  <th>Df Residuals:</th>          <td>   391</td>      <th>  BIC:               </th> <td>   3298.</td>\n",
       "</tr>\n",
       "<tr>\n",
       "  <th>Df Model:</th>              <td>     1</td>      <th>                     </th>     <td> </td>   \n",
       "</tr>\n",
       "<tr>\n",
       "  <th>Covariance Type:</th>      <td>nonrobust</td>    <th>                     </th>     <td> </td>   \n",
       "</tr>\n",
       "</table>\n",
       "<table class=\"simpletable\">\n",
       "<tr>\n",
       "       <td></td>          <th>coef</th>     <th>std err</th>      <th>t</th>      <th>P>|t|</th>  <th>[0.025</th>    <th>0.975]</th>  \n",
       "</tr>\n",
       "<tr>\n",
       "  <th>const</th>       <td>   -0.7687</td> <td>    3.333</td> <td>   -0.231</td> <td> 0.818</td> <td>   -7.321</td> <td>    5.784</td>\n",
       "</tr>\n",
       "<tr>\n",
       "  <th>New Real XR</th> <td>  536.8330</td> <td>  514.582</td> <td>    1.043</td> <td> 0.297</td> <td> -474.860</td> <td> 1548.526</td>\n",
       "</tr>\n",
       "</table>\n",
       "<table class=\"simpletable\">\n",
       "<tr>\n",
       "  <th>Omnibus:</th>       <td>181.401</td> <th>  Durbin-Watson:     </th> <td>   0.147</td> \n",
       "</tr>\n",
       "<tr>\n",
       "  <th>Prob(Omnibus):</th> <td> 0.000</td>  <th>  Jarque-Bera (JB):  </th> <td> 889.800</td> \n",
       "</tr>\n",
       "<tr>\n",
       "  <th>Skew:</th>          <td> 1.980</td>  <th>  Prob(JB):          </th> <td>6.06e-194</td>\n",
       "</tr>\n",
       "<tr>\n",
       "  <th>Kurtosis:</th>      <td> 9.218</td>  <th>  Cond. No.          </th> <td>    643.</td> \n",
       "</tr>\n",
       "</table><br/><br/>Notes:<br/>[1] Standard Errors assume that the covariance matrix of the errors is correctly specified."
      ],
      "text/latex": [
       "\\begin{center}\n",
       "\\begin{tabular}{lclc}\n",
       "\\toprule\n",
       "\\textbf{Dep. Variable:}    &   F12.ann\\_ret   & \\textbf{  R-squared:         } &     0.003   \\\\\n",
       "\\textbf{Model:}            &       OLS        & \\textbf{  Adj. R-squared:    } &     0.000   \\\\\n",
       "\\textbf{Method:}           &  Least Squares   & \\textbf{  F-statistic:       } &     1.088   \\\\\n",
       "\\textbf{Date:}             & Sat, 10 Aug 2024 & \\textbf{  Prob (F-statistic):} &    0.297    \\\\\n",
       "\\textbf{Time:}             &     14:34:00     & \\textbf{  Log-Likelihood:    } &   -1642.9   \\\\\n",
       "\\textbf{No. Observations:} &         393      & \\textbf{  AIC:               } &     3290.   \\\\\n",
       "\\textbf{Df Residuals:}     &         391      & \\textbf{  BIC:               } &     3298.   \\\\\n",
       "\\textbf{Df Model:}         &           1      & \\textbf{                     } &             \\\\\n",
       "\\textbf{Covariance Type:}  &    nonrobust     & \\textbf{                     } &             \\\\\n",
       "\\bottomrule\n",
       "\\end{tabular}\n",
       "\\begin{tabular}{lcccccc}\n",
       "                     & \\textbf{coef} & \\textbf{std err} & \\textbf{t} & \\textbf{P$> |$t$|$} & \\textbf{[0.025} & \\textbf{0.975]}  \\\\\n",
       "\\midrule\n",
       "\\textbf{const}       &      -0.7687  &        3.333     &    -0.231  &         0.818        &       -7.321    &        5.784     \\\\\n",
       "\\textbf{New Real XR} &     536.8330  &      514.582     &     1.043  &         0.297        &     -474.860    &     1548.526     \\\\\n",
       "\\bottomrule\n",
       "\\end{tabular}\n",
       "\\begin{tabular}{lclc}\n",
       "\\textbf{Omnibus:}       & 181.401 & \\textbf{  Durbin-Watson:     } &     0.147  \\\\\n",
       "\\textbf{Prob(Omnibus):} &   0.000 & \\textbf{  Jarque-Bera (JB):  } &   889.800  \\\\\n",
       "\\textbf{Skew:}          &   1.980 & \\textbf{  Prob(JB):          } & 6.06e-194  \\\\\n",
       "\\textbf{Kurtosis:}      &   9.218 & \\textbf{  Cond. No.          } &      643.  \\\\\n",
       "\\bottomrule\n",
       "\\end{tabular}\n",
       "%\\caption{OLS Regression Results}\n",
       "\\end{center}\n",
       "\n",
       "Notes: \\newline\n",
       " [1] Standard Errors assume that the covariance matrix of the errors is correctly specified."
      ],
      "text/plain": [
       "<class 'statsmodels.iolib.summary.Summary'>\n",
       "\"\"\"\n",
       "                            OLS Regression Results                            \n",
       "==============================================================================\n",
       "Dep. Variable:            F12.ann_ret   R-squared:                       0.003\n",
       "Model:                            OLS   Adj. R-squared:                  0.000\n",
       "Method:                 Least Squares   F-statistic:                     1.088\n",
       "Date:                Sat, 10 Aug 2024   Prob (F-statistic):              0.297\n",
       "Time:                        14:34:00   Log-Likelihood:                -1642.9\n",
       "No. Observations:                 393   AIC:                             3290.\n",
       "Df Residuals:                     391   BIC:                             3298.\n",
       "Df Model:                           1                                         \n",
       "Covariance Type:            nonrobust                                         \n",
       "===============================================================================\n",
       "                  coef    std err          t      P>|t|      [0.025      0.975]\n",
       "-------------------------------------------------------------------------------\n",
       "const          -0.7687      3.333     -0.231      0.818      -7.321       5.784\n",
       "New Real XR   536.8330    514.582      1.043      0.297    -474.860    1548.526\n",
       "==============================================================================\n",
       "Omnibus:                      181.401   Durbin-Watson:                   0.147\n",
       "Prob(Omnibus):                  0.000   Jarque-Bera (JB):              889.800\n",
       "Skew:                           1.980   Prob(JB):                    6.06e-194\n",
       "Kurtosis:                       9.218   Cond. No.                         643.\n",
       "==============================================================================\n",
       "\n",
       "Notes:\n",
       "[1] Standard Errors assume that the covariance matrix of the errors is correctly specified.\n",
       "\"\"\""
      ]
     },
     "execution_count": 46,
     "metadata": {},
     "output_type": "execute_result"
    }
   ],
   "source": [
    "model = sm.OLS(Y,X)\n",
    "results = model.fit()\n",
    "results.summary()"
   ]
  },
  {
   "cell_type": "markdown",
   "metadata": {},
   "source": [
    "### Predict XR"
   ]
  },
  {
   "cell_type": "code",
   "execution_count": 47,
   "metadata": {},
   "outputs": [
    {
     "data": {
      "text/plain": [
       "KRW/JPY               934.320000\n",
       "KRW/100JPY Real XR      0.009096\n",
       "KRW/100JPY PPP XR       0.084534\n",
       "New Real XR             0.009048\n",
       "ann_ret                 3.231794\n",
       "F12.ann_ret                  NaN\n",
       "Name: 2024-08-31 00:00:00, dtype: float64"
      ]
     },
     "execution_count": 47,
     "metadata": {},
     "output_type": "execute_result"
    }
   ],
   "source": [
    "last_obs = df_merged.iloc[-1]\n",
    "last_obs"
   ]
  },
  {
   "cell_type": "code",
   "execution_count": 48,
   "metadata": {},
   "outputs": [],
   "source": [
    "last_xr = last_obs['KRW/JPY']\n",
    "last_real_xr = last_obs['New Real XR']"
   ]
  },
  {
   "cell_type": "code",
   "execution_count": 49,
   "metadata": {},
   "outputs": [
    {
     "data": {
      "text/plain": [
       "np.float64(934.32)"
      ]
     },
     "execution_count": 49,
     "metadata": {},
     "output_type": "execute_result"
    }
   ],
   "source": [
    "last_xr"
   ]
  },
  {
   "cell_type": "code",
   "execution_count": 50,
   "metadata": {},
   "outputs": [
    {
     "data": {
      "text/plain": [
       "np.float64(0.009047673662483777)"
      ]
     },
     "execution_count": 50,
     "metadata": {},
     "output_type": "execute_result"
    }
   ],
   "source": [
    "last_real_xr"
   ]
  },
  {
   "cell_type": "markdown",
   "metadata": {},
   "source": [
    "### OLS 결과 그대로 사용하여 예측"
   ]
  },
  {
   "cell_type": "code",
   "execution_count": 51,
   "metadata": {},
   "outputs": [
    {
     "data": {
      "text/plain": [
       "array([4.08843257])"
      ]
     },
     "execution_count": 51,
     "metadata": {},
     "output_type": "execute_result"
    }
   ],
   "source": [
    "#exogeneous variables\n",
    "exog = [1, last_real_xr]\n",
    "results.predict(exog = exog)"
   ]
  },
  {
   "cell_type": "markdown",
   "metadata": {},
   "source": [
    "### Confidence Interval"
   ]
  },
  {
   "cell_type": "code",
   "execution_count": 52,
   "metadata": {},
   "outputs": [
    {
     "name": "stdout",
     "output_type": "stream",
     "text": [
      "Confidence interval at alpha = 0.05: -27.27 ~ 35.44\n",
      "Confidence interval at alpha = 0.25: -14.28 ~ 22.46\n",
      "Confidence interval at alpha = 0.50: -6.68 ~ 14.86\n"
     ]
    }
   ],
   "source": [
    "for alpha in [0.05, 0.25, 0.50]:\n",
    "    prstd, iv_l, iv_u = wls_prediction_std(results, exog = exog, alpha = alpha)\n",
    "    \n",
    "    print('Confidence interval at alpha = {:.2f}: {:.2f} ~ {:.2f}'.format(\n",
    "        alpha,\n",
    "        iv_l[0],\n",
    "        iv_u[0],\n",
    "    ))"
   ]
  },
  {
   "cell_type": "markdown",
   "metadata": {},
   "source": [
    "### 환율 예측하기"
   ]
  },
  {
   "cell_type": "code",
   "execution_count": 53,
   "metadata": {},
   "outputs": [
    {
     "data": {
      "text/plain": [
       "np.float64(972.5190431444418)"
      ]
     },
     "execution_count": 53,
     "metadata": {},
     "output_type": "execute_result"
    }
   ],
   "source": [
    "pred_ret = results.predict(exog = exog)\n",
    "last_xr * (1 + pred_ret[0] / 100)"
   ]
  },
  {
   "cell_type": "code",
   "execution_count": 54,
   "metadata": {},
   "outputs": [
    {
     "name": "stdout",
     "output_type": "stream",
     "text": [
      "Confidence interval at alpha = 0.05: 679.57 ~ 1265.47\n",
      "Confidence interval at alpha = 0.25: 800.86 ~ 1144.18\n",
      "Confidence interval at alpha = 0.50: 871.92 ~ 1073.12\n"
     ]
    }
   ],
   "source": [
    "for alpha in [0.05, 0.25, 0.50]:\n",
    "    prstd, iv_l, iv_u = wls_prediction_std(results, exog = exog, alpha = alpha)\n",
    "    \n",
    "    print('Confidence interval at alpha = {:.2f}: {:.2f} ~ {:.2f}'.format(\n",
    "        alpha,\n",
    "        last_xr * (1 + iv_l[0] / 100),\n",
    "        last_xr * (1 + iv_u[0] / 100),\n",
    "    ))"
   ]
  },
  {
   "cell_type": "markdown",
   "metadata": {},
   "source": [
    "## 추가 지표 획득"
   ]
  },
  {
   "cell_type": "code",
   "execution_count": 55,
   "metadata": {},
   "outputs": [],
   "source": [
    "def fetch_bok_data(service_code, stat_code=None, item=None):\n",
    "    url = f\"{BOK_API_URL}/{service_code}/{BOK_API_KEY}/json/kr/1/100000\"\n",
    "    \n",
    "    if item is not None:\n",
    "        url += \"/{}/{}/{}/{}/{}\".format(item['STAT_CODE'], item['CYCLE'], item['START_TIME'], item['END_TIME'], item['ITEM_CODE'])\n",
    "        \n",
    "        if type(item['ITEM_CODE2']) is str:\n",
    "            url += f\"/{item['ITEM_CODE2']}\"\n",
    "        \n",
    "    elif stat_code is not None:\n",
    "        url += f\"/{stat_code}\"\n",
    "    \n",
    "    print(url)\n",
    "    \n",
    "    resp = requests.get(url, verify = False)\n",
    "    results = resp.json()\n",
    "    rows = results[service_code]['row']\n",
    "    df = pd.DataFrame(rows)\n",
    "    \n",
    "    return df"
   ]
  },
  {
   "cell_type": "code",
   "execution_count": 56,
   "metadata": {},
   "outputs": [],
   "source": [
    "TARGET_STAT_CODES = [\n",
    "    '731Y001',  # 3.1.1.1. 주요국 통화의 대원화환율\n",
    "    '902Y008',  # 9.1.2.2. 국제 주요국 소비자물가지수\n",
    "    '902Y009',  # 9.1.3.1. 국제 주요국 경상수지\n",
    "    '902Y015',  # 9.1.4.1. 국제 주요국 경제성장률\n",
    "    '902Y016',  # 9.1.4.2. 국제 주요국 국내총생산(GDP)\n",
    "    '902Y023',  # 9.1.6.1. 주요국제금리\n",
    "    '817Y002',  # 1.3.2.1. 시장금리(일별)\n",
    "    '732Y001',  # 3.5. 외환보유액\n",
    "]"
   ]
  },
  {
   "cell_type": "code",
   "execution_count": 57,
   "metadata": {},
   "outputs": [
    {
     "name": "stdout",
     "output_type": "stream",
     "text": [
      "https://ecos.bok.or.kr/api/StatisticItemList/W2HQL3IHAD2LKU409JDH/json/kr/1/100000/731Y001\n",
      "https://ecos.bok.or.kr/api/StatisticItemList/W2HQL3IHAD2LKU409JDH/json/kr/1/100000/902Y008\n",
      "https://ecos.bok.or.kr/api/StatisticItemList/W2HQL3IHAD2LKU409JDH/json/kr/1/100000/902Y009\n",
      "https://ecos.bok.or.kr/api/StatisticItemList/W2HQL3IHAD2LKU409JDH/json/kr/1/100000/902Y015\n",
      "https://ecos.bok.or.kr/api/StatisticItemList/W2HQL3IHAD2LKU409JDH/json/kr/1/100000/902Y016\n",
      "https://ecos.bok.or.kr/api/StatisticItemList/W2HQL3IHAD2LKU409JDH/json/kr/1/100000/902Y023\n",
      "https://ecos.bok.or.kr/api/StatisticItemList/W2HQL3IHAD2LKU409JDH/json/kr/1/100000/817Y002\n",
      "https://ecos.bok.or.kr/api/StatisticItemList/W2HQL3IHAD2LKU409JDH/json/kr/1/100000/732Y001\n"
     ]
    }
   ],
   "source": [
    "dfs = []\n",
    "\n",
    "for stat_code in TARGET_STAT_CODES:\n",
    "    df = fetch_bok_data('StatisticItemList', stat_code = stat_code)\n",
    "    \n",
    "    dfs.append(df)"
   ]
  },
  {
   "cell_type": "code",
   "execution_count": 58,
   "metadata": {},
   "outputs": [],
   "source": [
    "df_item_codes = pd.concat(dfs, axis = 0)"
   ]
  },
  {
   "cell_type": "code",
   "execution_count": 59,
   "metadata": {},
   "outputs": [],
   "source": [
    "df_item_codes.to_excel(Path('data/bok_item_codes.xlsx'), index = False)"
   ]
  },
  {
   "cell_type": "code",
   "execution_count": 60,
   "metadata": {},
   "outputs": [],
   "source": [
    "df_item_codes = df_item_codes.set_index(['STAT_CODE', 'ITEM_CODE', 'CYCLE'])"
   ]
  },
  {
   "cell_type": "markdown",
   "metadata": {},
   "source": [
    "### Download data values"
   ]
  },
  {
   "cell_type": "code",
   "execution_count": 61,
   "metadata": {},
   "outputs": [],
   "source": [
    "data_download_list = pd.read_excel(Path('data/bok_data_download_list_jpy.xlsx'))"
   ]
  },
  {
   "cell_type": "code",
   "execution_count": 62,
   "metadata": {},
   "outputs": [
    {
     "data": {
      "text/html": [
       "<div>\n",
       "<style scoped>\n",
       "    .dataframe tbody tr th:only-of-type {\n",
       "        vertical-align: middle;\n",
       "    }\n",
       "\n",
       "    .dataframe tbody tr th {\n",
       "        vertical-align: top;\n",
       "    }\n",
       "\n",
       "    .dataframe thead th {\n",
       "        text-align: right;\n",
       "    }\n",
       "</style>\n",
       "<table border=\"1\" class=\"dataframe\">\n",
       "  <thead>\n",
       "    <tr style=\"text-align: right;\">\n",
       "      <th></th>\n",
       "      <th>name</th>\n",
       "      <th>STAT_CODE</th>\n",
       "      <th>STAT_NAME</th>\n",
       "      <th>ITEM_CODE</th>\n",
       "      <th>ITEM_CODE2</th>\n",
       "      <th>ITEM_NAME</th>\n",
       "      <th>CYCLE</th>\n",
       "      <th>UNIT_NAME</th>\n",
       "    </tr>\n",
       "  </thead>\n",
       "  <tbody>\n",
       "    <tr>\n",
       "      <th>0</th>\n",
       "      <td>krw_100jpy_xr</td>\n",
       "      <td>731Y001</td>\n",
       "      <td>3.1.1.1. 주요국 통화의 대원화환율</td>\n",
       "      <td>0000002</td>\n",
       "      <td>NaN</td>\n",
       "      <td>원/일본엔(100엔)</td>\n",
       "      <td>D</td>\n",
       "      <td>원</td>\n",
       "    </tr>\n",
       "    <tr>\n",
       "      <th>1</th>\n",
       "      <td>cpi_korea</td>\n",
       "      <td>902Y008</td>\n",
       "      <td>9.1.2.2. 국제 주요국 소비자물가지수</td>\n",
       "      <td>KR</td>\n",
       "      <td>NaN</td>\n",
       "      <td>한국</td>\n",
       "      <td>M</td>\n",
       "      <td>2010=100</td>\n",
       "    </tr>\n",
       "    <tr>\n",
       "      <th>2</th>\n",
       "      <td>cpi_jp</td>\n",
       "      <td>902Y008</td>\n",
       "      <td>9.1.2.2. 국제 주요국 소비자물가지수</td>\n",
       "      <td>JP</td>\n",
       "      <td>NaN</td>\n",
       "      <td>일본</td>\n",
       "      <td>M</td>\n",
       "      <td>2010=100</td>\n",
       "    </tr>\n",
       "    <tr>\n",
       "      <th>3</th>\n",
       "      <td>cpi_us</td>\n",
       "      <td>902Y008</td>\n",
       "      <td>9.1.2.2. 국제 주요국 소비자물가지수</td>\n",
       "      <td>US</td>\n",
       "      <td>NaN</td>\n",
       "      <td>미국</td>\n",
       "      <td>M</td>\n",
       "      <td>2010=100</td>\n",
       "    </tr>\n",
       "    <tr>\n",
       "      <th>4</th>\n",
       "      <td>current_account_korea</td>\n",
       "      <td>902Y009</td>\n",
       "      <td>9.1.3.1. 국제 주요국 경상수지</td>\n",
       "      <td>KR</td>\n",
       "      <td>NaN</td>\n",
       "      <td>한국</td>\n",
       "      <td>Q</td>\n",
       "      <td>백만달러</td>\n",
       "    </tr>\n",
       "    <tr>\n",
       "      <th>5</th>\n",
       "      <td>current_account_jp</td>\n",
       "      <td>902Y009</td>\n",
       "      <td>9.1.3.1. 국제 주요국 경상수지</td>\n",
       "      <td>JP</td>\n",
       "      <td>NaN</td>\n",
       "      <td>일본</td>\n",
       "      <td>Q</td>\n",
       "      <td>백만달러</td>\n",
       "    </tr>\n",
       "    <tr>\n",
       "      <th>6</th>\n",
       "      <td>current_account_us</td>\n",
       "      <td>902Y009</td>\n",
       "      <td>9.1.3.1. 국제 주요국 경상수지</td>\n",
       "      <td>US</td>\n",
       "      <td>NaN</td>\n",
       "      <td>미국</td>\n",
       "      <td>Q</td>\n",
       "      <td>백만달러</td>\n",
       "    </tr>\n",
       "    <tr>\n",
       "      <th>7</th>\n",
       "      <td>gdp_growth_korea</td>\n",
       "      <td>902Y015</td>\n",
       "      <td>9.1.4.1. 국제 주요국 경제성장률</td>\n",
       "      <td>KOR</td>\n",
       "      <td>NaN</td>\n",
       "      <td>한국</td>\n",
       "      <td>Q</td>\n",
       "      <td>%</td>\n",
       "    </tr>\n",
       "    <tr>\n",
       "      <th>8</th>\n",
       "      <td>gdp_growth_jp</td>\n",
       "      <td>902Y015</td>\n",
       "      <td>9.1.4.1. 국제 주요국 경제성장률</td>\n",
       "      <td>JPN</td>\n",
       "      <td>NaN</td>\n",
       "      <td>일본</td>\n",
       "      <td>Q</td>\n",
       "      <td>%</td>\n",
       "    </tr>\n",
       "    <tr>\n",
       "      <th>9</th>\n",
       "      <td>gdp_growth_us</td>\n",
       "      <td>902Y015</td>\n",
       "      <td>9.1.4.1. 국제 주요국 경제성장률</td>\n",
       "      <td>USA</td>\n",
       "      <td>NaN</td>\n",
       "      <td>미국</td>\n",
       "      <td>Q</td>\n",
       "      <td>%</td>\n",
       "    </tr>\n",
       "    <tr>\n",
       "      <th>10</th>\n",
       "      <td>gdp_korea</td>\n",
       "      <td>902Y016</td>\n",
       "      <td>9.1.4.2. 국제 주요국 국내총생산(GDP)</td>\n",
       "      <td>KOR</td>\n",
       "      <td>NaN</td>\n",
       "      <td>한국</td>\n",
       "      <td>A</td>\n",
       "      <td>백만달러</td>\n",
       "    </tr>\n",
       "    <tr>\n",
       "      <th>11</th>\n",
       "      <td>gdp_jp</td>\n",
       "      <td>902Y016</td>\n",
       "      <td>9.1.4.2. 국제 주요국 국내총생산(GDP)</td>\n",
       "      <td>JPN</td>\n",
       "      <td>NaN</td>\n",
       "      <td>일본</td>\n",
       "      <td>A</td>\n",
       "      <td>백만달러</td>\n",
       "    </tr>\n",
       "    <tr>\n",
       "      <th>12</th>\n",
       "      <td>gdp_us</td>\n",
       "      <td>902Y016</td>\n",
       "      <td>9.1.4.2. 국제 주요국 국내총생산(GDP)</td>\n",
       "      <td>USA</td>\n",
       "      <td>NaN</td>\n",
       "      <td>미국</td>\n",
       "      <td>A</td>\n",
       "      <td>백만달러</td>\n",
       "    </tr>\n",
       "    <tr>\n",
       "      <th>13</th>\n",
       "      <td>foreign_reserves</td>\n",
       "      <td>732Y001</td>\n",
       "      <td>3.5. 외환보유액</td>\n",
       "      <td>99</td>\n",
       "      <td>NaN</td>\n",
       "      <td>합계</td>\n",
       "      <td>M</td>\n",
       "      <td>천달러</td>\n",
       "    </tr>\n",
       "    <tr>\n",
       "      <th>14</th>\n",
       "      <td>int_rate_korea</td>\n",
       "      <td>902Y023</td>\n",
       "      <td>9.1.6.1. 주요국제금리</td>\n",
       "      <td>IR3TIB</td>\n",
       "      <td>KOR</td>\n",
       "      <td>단기금리 - 한국</td>\n",
       "      <td>M</td>\n",
       "      <td>%</td>\n",
       "    </tr>\n",
       "    <tr>\n",
       "      <th>15</th>\n",
       "      <td>int_rate_jp</td>\n",
       "      <td>902Y023</td>\n",
       "      <td>9.1.6.1. 주요국제금리</td>\n",
       "      <td>IR3TIB</td>\n",
       "      <td>USA</td>\n",
       "      <td>단기금리 - 일본</td>\n",
       "      <td>M</td>\n",
       "      <td>%</td>\n",
       "    </tr>\n",
       "    <tr>\n",
       "      <th>16</th>\n",
       "      <td>int_rate_us</td>\n",
       "      <td>902Y023</td>\n",
       "      <td>9.1.6.1. 주요국제금리</td>\n",
       "      <td>IR3TIB</td>\n",
       "      <td>JPN</td>\n",
       "      <td>단기금리 - 미국</td>\n",
       "      <td>M</td>\n",
       "      <td>%</td>\n",
       "    </tr>\n",
       "  </tbody>\n",
       "</table>\n",
       "</div>"
      ],
      "text/plain": [
       "                     name STAT_CODE                   STAT_NAME ITEM_CODE  \\\n",
       "0           krw_100jpy_xr   731Y001      3.1.1.1. 주요국 통화의 대원화환율   0000002   \n",
       "1               cpi_korea   902Y008     9.1.2.2. 국제 주요국 소비자물가지수        KR   \n",
       "2                  cpi_jp   902Y008     9.1.2.2. 국제 주요국 소비자물가지수        JP   \n",
       "3                  cpi_us   902Y008     9.1.2.2. 국제 주요국 소비자물가지수        US   \n",
       "4   current_account_korea   902Y009        9.1.3.1. 국제 주요국 경상수지        KR   \n",
       "5      current_account_jp   902Y009        9.1.3.1. 국제 주요국 경상수지        JP   \n",
       "6      current_account_us   902Y009        9.1.3.1. 국제 주요국 경상수지        US   \n",
       "7        gdp_growth_korea   902Y015       9.1.4.1. 국제 주요국 경제성장률       KOR   \n",
       "8           gdp_growth_jp   902Y015       9.1.4.1. 국제 주요국 경제성장률       JPN   \n",
       "9           gdp_growth_us   902Y015       9.1.4.1. 국제 주요국 경제성장률       USA   \n",
       "10              gdp_korea   902Y016  9.1.4.2. 국제 주요국 국내총생산(GDP)       KOR   \n",
       "11                 gdp_jp   902Y016  9.1.4.2. 국제 주요국 국내총생산(GDP)       JPN   \n",
       "12                 gdp_us   902Y016  9.1.4.2. 국제 주요국 국내총생산(GDP)       USA   \n",
       "13       foreign_reserves   732Y001                  3.5. 외환보유액        99   \n",
       "14         int_rate_korea   902Y023             9.1.6.1. 주요국제금리    IR3TIB   \n",
       "15            int_rate_jp   902Y023             9.1.6.1. 주요국제금리    IR3TIB   \n",
       "16            int_rate_us   902Y023             9.1.6.1. 주요국제금리    IR3TIB   \n",
       "\n",
       "   ITEM_CODE2    ITEM_NAME CYCLE UNIT_NAME  \n",
       "0         NaN  원/일본엔(100엔)     D        원   \n",
       "1         NaN           한국     M  2010=100  \n",
       "2         NaN           일본     M  2010=100  \n",
       "3         NaN           미국     M  2010=100  \n",
       "4         NaN           한국     Q      백만달러  \n",
       "5         NaN           일본     Q      백만달러  \n",
       "6         NaN           미국     Q      백만달러  \n",
       "7         NaN           한국     Q        %   \n",
       "8         NaN           일본     Q        %   \n",
       "9         NaN           미국     Q        %   \n",
       "10        NaN           한국     A      백만달러  \n",
       "11        NaN           일본     A      백만달러  \n",
       "12        NaN           미국     A      백만달러  \n",
       "13        NaN           합계     M      천달러   \n",
       "14        KOR    단기금리 - 한국     M        %   \n",
       "15        USA    단기금리 - 일본     M        %   \n",
       "16        JPN    단기금리 - 미국     M        %   "
      ]
     },
     "execution_count": 62,
     "metadata": {},
     "output_type": "execute_result"
    }
   ],
   "source": [
    "data_download_list"
   ]
  },
  {
   "cell_type": "code",
   "execution_count": 63,
   "metadata": {},
   "outputs": [
    {
     "name": "stdout",
     "output_type": "stream",
     "text": [
      "Downloading krw_100jpy_xr...\n",
      "https://ecos.bok.or.kr/api/StatisticSearch/W2HQL3IHAD2LKU409JDH/json/kr/1/100000/731Y001/D/19770401/20240809/0000002\n",
      "Downloading cpi_korea...\n",
      "https://ecos.bok.or.kr/api/StatisticSearch/W2HQL3IHAD2LKU409JDH/json/kr/1/100000/902Y008/M/195108/202406/KR\n",
      "Downloading cpi_jp...\n",
      "https://ecos.bok.or.kr/api/StatisticSearch/W2HQL3IHAD2LKU409JDH/json/kr/1/100000/902Y008/M/195501/202406/JP\n",
      "Downloading cpi_us...\n",
      "https://ecos.bok.or.kr/api/StatisticSearch/W2HQL3IHAD2LKU409JDH/json/kr/1/100000/902Y008/M/195501/202406/US\n",
      "Downloading current_account_korea...\n",
      "https://ecos.bok.or.kr/api/StatisticSearch/W2HQL3IHAD2LKU409JDH/json/kr/1/100000/902Y009/Q/1976Q1/2024Q1/KR\n",
      "Downloading current_account_jp...\n",
      "https://ecos.bok.or.kr/api/StatisticSearch/W2HQL3IHAD2LKU409JDH/json/kr/1/100000/902Y009/Q/1996Q1/2024Q1/JP\n",
      "Downloading current_account_us...\n",
      "https://ecos.bok.or.kr/api/StatisticSearch/W2HQL3IHAD2LKU409JDH/json/kr/1/100000/902Y009/Q/1973Q1/2024Q1/US\n",
      "Downloading gdp_growth_korea...\n",
      "https://ecos.bok.or.kr/api/StatisticSearch/W2HQL3IHAD2LKU409JDH/json/kr/1/100000/902Y015/Q/1960Q2/2024Q2/KOR\n",
      "Downloading gdp_growth_jp...\n",
      "https://ecos.bok.or.kr/api/StatisticSearch/W2HQL3IHAD2LKU409JDH/json/kr/1/100000/902Y015/Q/1960Q2/2024Q1/JPN\n",
      "Downloading gdp_growth_us...\n",
      "https://ecos.bok.or.kr/api/StatisticSearch/W2HQL3IHAD2LKU409JDH/json/kr/1/100000/902Y015/Q/1947Q2/2024Q2/USA\n",
      "Downloading gdp_korea...\n",
      "https://ecos.bok.or.kr/api/StatisticSearch/W2HQL3IHAD2LKU409JDH/json/kr/1/100000/902Y016/A/1953/2023/KOR\n",
      "Downloading gdp_jp...\n",
      "https://ecos.bok.or.kr/api/StatisticSearch/W2HQL3IHAD2LKU409JDH/json/kr/1/100000/902Y016/A/1970/2023/JPN\n",
      "Downloading gdp_us...\n",
      "https://ecos.bok.or.kr/api/StatisticSearch/W2HQL3IHAD2LKU409JDH/json/kr/1/100000/902Y016/A/1970/2023/USA\n",
      "Downloading foreign_reserves...\n",
      "https://ecos.bok.or.kr/api/StatisticSearch/W2HQL3IHAD2LKU409JDH/json/kr/1/100000/732Y001/M/197101/202407/99\n",
      "Downloading int_rate_korea...\n",
      "https://ecos.bok.or.kr/api/StatisticSearch/W2HQL3IHAD2LKU409JDH/json/kr/1/100000/902Y023/M/195601/202406/IR3TIB/KOR\n",
      "Downloading int_rate_jp...\n",
      "https://ecos.bok.or.kr/api/StatisticSearch/W2HQL3IHAD2LKU409JDH/json/kr/1/100000/902Y023/M/195601/202406/IR3TIB/USA\n",
      "Downloading int_rate_us...\n",
      "https://ecos.bok.or.kr/api/StatisticSearch/W2HQL3IHAD2LKU409JDH/json/kr/1/100000/902Y023/M/195601/202406/IR3TIB/JPN\n",
      "** Completed!! **\n"
     ]
    }
   ],
   "source": [
    "#iterate over row\n",
    "for idx, row in data_download_list.iterrows():\n",
    "    name = row['name']\n",
    "    print(f\"Downloading {name}...\")\n",
    "    \n",
    "    idx = (row.STAT_CODE, row.ITEM_CODE, row.CYCLE)\n",
    "    item = df_item_codes.loc[idx]\n",
    "    item ={**item, **row}\n",
    "    \n",
    "    df = fetch_bok_data('StatisticSearch', item=item)\n",
    "    df = df[['TIME', 'DATA_VALUE']]\n",
    "    \n",
    "    if row['CYCLE'] == 'D':\n",
    "        df['date'] = pd.to_datetime(df['TIME'])\n",
    "    \n",
    "    elif row['CYCLE'] == 'M':\n",
    "        df['date'] = pd.to_datetime(df['TIME'], format='%Y%m') + MonthEnd()\n",
    "    \n",
    "    elif row['CYCLE'] == 'Q':\n",
    "        df['year'] = df['TIME'].str[:4]\n",
    "        df['month'] = df['TIME'].str[-1].astype(int) * 3\n",
    "        df['day'] = 1\n",
    "        df['date'] = pd.to_datetime(df[['year', 'month', 'day']]) + MonthEnd()\n",
    "    \n",
    "    elif row['CYCLE'] == 'A':\n",
    "        df['date'] = pd.to_datetime(df['TIME']) + YearEnd()\n",
    "    \n",
    "    else:\n",
    "        raise RuntimeError()\n",
    "        \n",
    "    df = df[['date','DATA_VALUE']]\n",
    "    df = df.rename(columns={'DATA_VALUE': name, })\n",
    "    \n",
    "    df[name] = df[name].astype(float)\n",
    "    \n",
    "    df.to_excel(Path(f\"data/{name}.xlsx\"), index=False)\n",
    "    \n",
    "print('** Completed!! **')"
   ]
  },
  {
   "cell_type": "markdown",
   "metadata": {},
   "source": [
    "## BOK 파일 불러오기"
   ]
  },
  {
   "cell_type": "code",
   "execution_count": 64,
   "metadata": {},
   "outputs": [],
   "source": [
    "filenames = [\n",
    "    'krw_jpy_xr',\n",
    "    'current_account_korea',\n",
    "    'current_account_us',\n",
    "    'current_account_jp',\n",
    "    'gdp_korea',\n",
    "    'gdp_us',\n",
    "    'gdp_jp',\n",
    "    'gdp_growth_korea',\n",
    "    'gdp_growth_jp',\n",
    "    'gdp_growth_us',\n",
    "    'cpi_korea',\n",
    "    'cpi_jp',\n",
    "    'cpi_us',\n",
    "    'int_rate_korea',\n",
    "    'int_rate_jp',\n",
    "    'int_rate_us',\n",
    "    'foreign_reserves',\n",
    "]"
   ]
  },
  {
   "cell_type": "code",
   "execution_count": 65,
   "metadata": {},
   "outputs": [
    {
     "name": "stdout",
     "output_type": "stream",
     "text": [
      "Loding krw_jpy_xr....\n",
      "Loding current_account_korea....\n",
      "Loding current_account_us....\n",
      "Loding current_account_jp....\n",
      "Loding gdp_korea....\n",
      "Loding gdp_us....\n",
      "Loding gdp_jp....\n",
      "Loding gdp_growth_korea....\n",
      "Loding gdp_growth_jp....\n",
      "Loding gdp_growth_us....\n",
      "Loding cpi_korea....\n",
      "Loding cpi_jp....\n",
      "Loding cpi_us....\n",
      "Loding int_rate_korea....\n",
      "Loding int_rate_jp....\n",
      "Loding int_rate_us....\n",
      "Loding foreign_reserves....\n",
      "** Completed **\n"
     ]
    }
   ],
   "source": [
    "dfs = []\n",
    "\n",
    "for fname in filenames:\n",
    "    print(f\"Loding {fname}....\")\n",
    "    \n",
    "    df = pd.read_excel(Path(f\"data/{fname}.xlsx\"))\n",
    "    df = df.set_index('date')\n",
    "    \n",
    "    if fname in ['gdp_growth_korea',\n",
    "        'gdp_growth_jp',\n",
    "        'gdp_growth_us',\n",
    "        'current_account_us',\n",
    "        'current_account_jp',\n",
    "        'current_account_korea',\n",
    "                ]:\n",
    "        df[fname] = df[fname].rolling(4).sum()\n",
    "    \n",
    "    dfs.append(df)\n",
    "    \n",
    "print('** Completed **')"
   ]
  },
  {
   "cell_type": "markdown",
   "metadata": {},
   "source": [
    "### World Bank 데이터로 계산했었던 KOR/100JPY PPP XR 불러오기"
   ]
  },
  {
   "cell_type": "code",
   "execution_count": 66,
   "metadata": {},
   "outputs": [],
   "source": [
    "dfs.append(df_ppp_xr)"
   ]
  },
  {
   "cell_type": "markdown",
   "metadata": {},
   "source": [
    "## Merge the datasets"
   ]
  },
  {
   "cell_type": "code",
   "execution_count": 68,
   "metadata": {},
   "outputs": [
    {
     "data": {
      "text/html": [
       "<div>\n",
       "<style scoped>\n",
       "    .dataframe tbody tr th:only-of-type {\n",
       "        vertical-align: middle;\n",
       "    }\n",
       "\n",
       "    .dataframe tbody tr th {\n",
       "        vertical-align: top;\n",
       "    }\n",
       "\n",
       "    .dataframe thead th {\n",
       "        text-align: right;\n",
       "    }\n",
       "</style>\n",
       "<table border=\"1\" class=\"dataframe\">\n",
       "  <thead>\n",
       "    <tr style=\"text-align: right;\">\n",
       "      <th></th>\n",
       "      <th>KRW/JPY</th>\n",
       "      <th>current_account_korea</th>\n",
       "      <th>current_account_us</th>\n",
       "      <th>current_account_jp</th>\n",
       "      <th>gdp_korea</th>\n",
       "      <th>gdp_us</th>\n",
       "      <th>gdp_jp</th>\n",
       "      <th>gdp_growth_korea</th>\n",
       "      <th>gdp_growth_jp</th>\n",
       "      <th>gdp_growth_us</th>\n",
       "      <th>cpi_korea</th>\n",
       "      <th>cpi_jp</th>\n",
       "      <th>cpi_us</th>\n",
       "      <th>int_rate_korea</th>\n",
       "      <th>int_rate_jp</th>\n",
       "      <th>int_rate_us</th>\n",
       "      <th>foreign_reserves</th>\n",
       "      <th>KRW/100JPY PPP XR</th>\n",
       "    </tr>\n",
       "    <tr>\n",
       "      <th>date</th>\n",
       "      <th></th>\n",
       "      <th></th>\n",
       "      <th></th>\n",
       "      <th></th>\n",
       "      <th></th>\n",
       "      <th></th>\n",
       "      <th></th>\n",
       "      <th></th>\n",
       "      <th></th>\n",
       "      <th></th>\n",
       "      <th></th>\n",
       "      <th></th>\n",
       "      <th></th>\n",
       "      <th></th>\n",
       "      <th></th>\n",
       "      <th></th>\n",
       "      <th></th>\n",
       "      <th></th>\n",
       "    </tr>\n",
       "  </thead>\n",
       "  <tbody>\n",
       "    <tr>\n",
       "      <th>2010-01-31</th>\n",
       "      <td>1287.00</td>\n",
       "      <td>33087.6</td>\n",
       "      <td>-379736.0</td>\n",
       "      <td>145677.71</td>\n",
       "      <td>943708.5</td>\n",
       "      <td>14478067.0</td>\n",
       "      <td>5289493.7</td>\n",
       "      <td>5.399</td>\n",
       "      <td>-1.661</td>\n",
       "      <td>0.118</td>\n",
       "      <td>98.82</td>\n",
       "      <td>100.09</td>\n",
       "      <td>99.37</td>\n",
       "      <td>2.88</td>\n",
       "      <td>0.20</td>\n",
       "      <td>0.45</td>\n",
       "      <td>273693584.0</td>\n",
       "      <td>0.0719</td>\n",
       "    </tr>\n",
       "    <tr>\n",
       "      <th>2010-02-28</th>\n",
       "      <td>1299.31</td>\n",
       "      <td>33087.6</td>\n",
       "      <td>-379736.0</td>\n",
       "      <td>145677.71</td>\n",
       "      <td>943708.5</td>\n",
       "      <td>14478067.0</td>\n",
       "      <td>5289493.7</td>\n",
       "      <td>5.399</td>\n",
       "      <td>-1.661</td>\n",
       "      <td>0.118</td>\n",
       "      <td>99.02</td>\n",
       "      <td>100.09</td>\n",
       "      <td>99.40</td>\n",
       "      <td>2.88</td>\n",
       "      <td>0.19</td>\n",
       "      <td>0.44</td>\n",
       "      <td>270659721.0</td>\n",
       "      <td>0.0719</td>\n",
       "    </tr>\n",
       "    <tr>\n",
       "      <th>2010-03-31</th>\n",
       "      <td>1217.68</td>\n",
       "      <td>20931.1</td>\n",
       "      <td>-382885.0</td>\n",
       "      <td>181383.81</td>\n",
       "      <td>943708.5</td>\n",
       "      <td>14478067.0</td>\n",
       "      <td>5289493.7</td>\n",
       "      <td>7.478</td>\n",
       "      <td>4.205</td>\n",
       "      <td>1.738</td>\n",
       "      <td>99.22</td>\n",
       "      <td>100.30</td>\n",
       "      <td>99.81</td>\n",
       "      <td>2.83</td>\n",
       "      <td>0.23</td>\n",
       "      <td>0.43</td>\n",
       "      <td>272331061.0</td>\n",
       "      <td>0.0719</td>\n",
       "    </tr>\n",
       "    <tr>\n",
       "      <th>2010-04-30</th>\n",
       "      <td>1186.77</td>\n",
       "      <td>20931.1</td>\n",
       "      <td>-382885.0</td>\n",
       "      <td>181383.81</td>\n",
       "      <td>943708.5</td>\n",
       "      <td>14478067.0</td>\n",
       "      <td>5289493.7</td>\n",
       "      <td>7.478</td>\n",
       "      <td>4.205</td>\n",
       "      <td>1.738</td>\n",
       "      <td>99.62</td>\n",
       "      <td>100.30</td>\n",
       "      <td>99.98</td>\n",
       "      <td>2.51</td>\n",
       "      <td>0.30</td>\n",
       "      <td>0.40</td>\n",
       "      <td>278873477.0</td>\n",
       "      <td>0.0719</td>\n",
       "    </tr>\n",
       "    <tr>\n",
       "      <th>2010-05-31</th>\n",
       "      <td>1318.54</td>\n",
       "      <td>20931.1</td>\n",
       "      <td>-382885.0</td>\n",
       "      <td>181383.81</td>\n",
       "      <td>943708.5</td>\n",
       "      <td>14478067.0</td>\n",
       "      <td>5289493.7</td>\n",
       "      <td>7.478</td>\n",
       "      <td>4.205</td>\n",
       "      <td>1.738</td>\n",
       "      <td>99.72</td>\n",
       "      <td>100.30</td>\n",
       "      <td>100.06</td>\n",
       "      <td>2.45</td>\n",
       "      <td>0.45</td>\n",
       "      <td>0.39</td>\n",
       "      <td>270221038.0</td>\n",
       "      <td>0.0719</td>\n",
       "    </tr>\n",
       "  </tbody>\n",
       "</table>\n",
       "</div>"
      ],
      "text/plain": [
       "            KRW/JPY  current_account_korea  current_account_us  \\\n",
       "date                                                             \n",
       "2010-01-31  1287.00                33087.6           -379736.0   \n",
       "2010-02-28  1299.31                33087.6           -379736.0   \n",
       "2010-03-31  1217.68                20931.1           -382885.0   \n",
       "2010-04-30  1186.77                20931.1           -382885.0   \n",
       "2010-05-31  1318.54                20931.1           -382885.0   \n",
       "\n",
       "            current_account_jp  gdp_korea      gdp_us     gdp_jp  \\\n",
       "date                                                               \n",
       "2010-01-31           145677.71   943708.5  14478067.0  5289493.7   \n",
       "2010-02-28           145677.71   943708.5  14478067.0  5289493.7   \n",
       "2010-03-31           181383.81   943708.5  14478067.0  5289493.7   \n",
       "2010-04-30           181383.81   943708.5  14478067.0  5289493.7   \n",
       "2010-05-31           181383.81   943708.5  14478067.0  5289493.7   \n",
       "\n",
       "            gdp_growth_korea  gdp_growth_jp  gdp_growth_us  cpi_korea  cpi_jp  \\\n",
       "date                                                                            \n",
       "2010-01-31             5.399         -1.661          0.118      98.82  100.09   \n",
       "2010-02-28             5.399         -1.661          0.118      99.02  100.09   \n",
       "2010-03-31             7.478          4.205          1.738      99.22  100.30   \n",
       "2010-04-30             7.478          4.205          1.738      99.62  100.30   \n",
       "2010-05-31             7.478          4.205          1.738      99.72  100.30   \n",
       "\n",
       "            cpi_us  int_rate_korea  int_rate_jp  int_rate_us  \\\n",
       "date                                                           \n",
       "2010-01-31   99.37            2.88         0.20         0.45   \n",
       "2010-02-28   99.40            2.88         0.19         0.44   \n",
       "2010-03-31   99.81            2.83         0.23         0.43   \n",
       "2010-04-30   99.98            2.51         0.30         0.40   \n",
       "2010-05-31  100.06            2.45         0.45         0.39   \n",
       "\n",
       "            foreign_reserves  KRW/100JPY PPP XR  \n",
       "date                                             \n",
       "2010-01-31       273693584.0             0.0719  \n",
       "2010-02-28       270659721.0             0.0719  \n",
       "2010-03-31       272331061.0             0.0719  \n",
       "2010-04-30       278873477.0             0.0719  \n",
       "2010-05-31       270221038.0             0.0719  "
      ]
     },
     "execution_count": 68,
     "metadata": {},
     "output_type": "execute_result"
    }
   ],
   "source": [
    "df_merged = pd.concat(dfs, axis = 1)\n",
    "df_merged = df_merged.resample('ME').last()\n",
    "df_merged = df_merged.ffill()\n",
    "df_merged.loc['2010-01-01':].head()"
   ]
  },
  {
   "cell_type": "code",
   "execution_count": null,
   "metadata": {},
   "outputs": [],
   "source": []
  },
  {
   "cell_type": "code",
   "execution_count": null,
   "metadata": {},
   "outputs": [],
   "source": []
  },
  {
   "cell_type": "markdown",
   "metadata": {},
   "source": [
    "# >>반영할 수 있는 지표들"
   ]
  },
  {
   "cell_type": "markdown",
   "metadata": {},
   "source": [
    "### 환율 수익률"
   ]
  },
  {
   "cell_type": "code",
   "execution_count": 69,
   "metadata": {},
   "outputs": [],
   "source": [
    "df_merged['ann_ret'] = df_merged['KRW/JPY'].pct_change(periods = 12) * 100\n",
    "df_merged['F12.ann_ret'] = df_merged['ann_ret'].shift(-12)"
   ]
  },
  {
   "cell_type": "markdown",
   "metadata": {},
   "source": [
    "### Real XR"
   ]
  },
  {
   "cell_type": "code",
   "execution_count": 70,
   "metadata": {},
   "outputs": [],
   "source": [
    "df_merged['real_xr'] = df_merged['KRW/100JPY PPP XR'] / df_merged['KRW/JPY']"
   ]
  },
  {
   "cell_type": "markdown",
   "metadata": {},
   "source": [
    "### Current accounts(경상수지) relative to GDP"
   ]
  },
  {
   "cell_type": "code",
   "execution_count": 71,
   "metadata": {},
   "outputs": [],
   "source": [
    "df_merged['ca_gdp_korea'] = df_merged['current_account_korea'] / df_merged['gdp_korea'] * 100\n",
    "df_merged['ca_gdp_jp'] = df_merged['current_account_jp'] / df_merged['gdp_jp'] * 100"
   ]
  },
  {
   "cell_type": "code",
   "execution_count": 73,
   "metadata": {},
   "outputs": [
    {
     "data": {
      "text/html": [
       "<div>\n",
       "<style scoped>\n",
       "    .dataframe tbody tr th:only-of-type {\n",
       "        vertical-align: middle;\n",
       "    }\n",
       "\n",
       "    .dataframe tbody tr th {\n",
       "        vertical-align: top;\n",
       "    }\n",
       "\n",
       "    .dataframe thead th {\n",
       "        text-align: right;\n",
       "    }\n",
       "</style>\n",
       "<table border=\"1\" class=\"dataframe\">\n",
       "  <thead>\n",
       "    <tr style=\"text-align: right;\">\n",
       "      <th></th>\n",
       "      <th>ca_gdp_korea</th>\n",
       "      <th>ca_gdp_jp</th>\n",
       "    </tr>\n",
       "    <tr>\n",
       "      <th>date</th>\n",
       "      <th></th>\n",
       "      <th></th>\n",
       "    </tr>\n",
       "  </thead>\n",
       "  <tbody>\n",
       "    <tr>\n",
       "      <th>2012-12-31</th>\n",
       "      <td>3.817592</td>\n",
       "      <td>0.958443</td>\n",
       "    </tr>\n",
       "    <tr>\n",
       "      <th>2013-01-31</th>\n",
       "      <td>3.817592</td>\n",
       "      <td>0.958443</td>\n",
       "    </tr>\n",
       "    <tr>\n",
       "      <th>2013-02-28</th>\n",
       "      <td>3.817592</td>\n",
       "      <td>0.958443</td>\n",
       "    </tr>\n",
       "  </tbody>\n",
       "</table>\n",
       "</div>"
      ],
      "text/plain": [
       "            ca_gdp_korea  ca_gdp_jp\n",
       "date                               \n",
       "2012-12-31      3.817592   0.958443\n",
       "2013-01-31      3.817592   0.958443\n",
       "2013-02-28      3.817592   0.958443"
      ]
     },
     "execution_count": 73,
     "metadata": {},
     "output_type": "execute_result"
    }
   ],
   "source": [
    "df_merged.loc['2012-12-26':][['ca_gdp_korea', 'ca_gdp_jp']].head(3)"
   ]
  },
  {
   "cell_type": "code",
   "execution_count": null,
   "metadata": {},
   "outputs": [],
   "source": []
  },
  {
   "cell_type": "code",
   "execution_count": 74,
   "metadata": {},
   "outputs": [
    {
     "data": {
      "image/png": "[encoded data removed]",
      "text/plain": [
       "<Figure size 1000x400 with 1 Axes>"
      ]
     },
     "metadata": {},
     "output_type": "display_data"
    }
   ],
   "source": [
    "#stationary process\n",
    "\n",
    "plt.plot(df_merged['ca_gdp_korea'])\n",
    "plt.plot(df_merged['ca_gdp_jp'])\n",
    "plt.show()"
   ]
  },
  {
   "cell_type": "markdown",
   "metadata": {},
   "source": [
    "### GDP Growth"
   ]
  },
  {
   "cell_type": "code",
   "execution_count": 75,
   "metadata": {},
   "outputs": [],
   "source": [
    "df_merged['gdp_growth_korea2'] = df_merged['gdp_korea'].pct_change(periods=12) * 100\n",
    "df_merged['gdp_growth_jp2'] = df_merged['gdp_jp'].pct_change(periods=12) * 100"
   ]
  },
  {
   "cell_type": "code",
   "execution_count": 76,
   "metadata": {},
   "outputs": [
    {
     "data": {
      "text/html": [
       "<div>\n",
       "<style scoped>\n",
       "    .dataframe tbody tr th:only-of-type {\n",
       "        vertical-align: middle;\n",
       "    }\n",
       "\n",
       "    .dataframe tbody tr th {\n",
       "        vertical-align: top;\n",
       "    }\n",
       "\n",
       "    .dataframe thead th {\n",
       "        text-align: right;\n",
       "    }\n",
       "</style>\n",
       "<table border=\"1\" class=\"dataframe\">\n",
       "  <thead>\n",
       "    <tr style=\"text-align: right;\">\n",
       "      <th></th>\n",
       "      <th>gdp_jp</th>\n",
       "      <th>gdp_growth_jp</th>\n",
       "      <th>gdp_growth_jp2</th>\n",
       "    </tr>\n",
       "    <tr>\n",
       "      <th>date</th>\n",
       "      <th></th>\n",
       "      <th></th>\n",
       "      <th></th>\n",
       "    </tr>\n",
       "  </thead>\n",
       "  <tbody>\n",
       "    <tr>\n",
       "      <th>2018-12-31</th>\n",
       "      <td>5040880.9</td>\n",
       "      <td>-0.271</td>\n",
       "      <td>2.231741</td>\n",
       "    </tr>\n",
       "    <tr>\n",
       "      <th>2019-12-31</th>\n",
       "      <td>5117993.9</td>\n",
       "      <td>-2.006</td>\n",
       "      <td>1.529752</td>\n",
       "    </tr>\n",
       "  </tbody>\n",
       "</table>\n",
       "</div>"
      ],
      "text/plain": [
       "               gdp_jp  gdp_growth_jp  gdp_growth_jp2\n",
       "date                                                \n",
       "2018-12-31  5040880.9         -0.271        2.231741\n",
       "2019-12-31  5117993.9         -2.006        1.529752"
      ]
     },
     "execution_count": 76,
     "metadata": {},
     "output_type": "execute_result"
    }
   ],
   "source": [
    "df_merged.loc[['2018-12-31', '2019-12-31']][['gdp_jp', 'gdp_growth_jp', 'gdp_growth_jp2']]"
   ]
  },
  {
   "cell_type": "markdown",
   "metadata": {},
   "source": [
    "### Inflation (YoY, Y/Y)"
   ]
  },
  {
   "cell_type": "code",
   "execution_count": 77,
   "metadata": {},
   "outputs": [],
   "source": [
    "df_merged['infl_korea'] = df_merged['cpi_korea'].pct_change(periods=12) * 100\n",
    "df_merged['infl_jp'] = df_merged['cpi_jp'].pct_change(periods=12) * 100"
   ]
  },
  {
   "cell_type": "markdown",
   "metadata": {},
   "source": [
    "### 상대적 인플레이션 & 금리 차이"
   ]
  },
  {
   "cell_type": "code",
   "execution_count": 78,
   "metadata": {},
   "outputs": [],
   "source": [
    "df_merged['infl_diff'] = df_merged['infl_korea'] - df_merged['infl_jp']\n",
    "df_merged['int_rate_diff'] = df_merged['int_rate_korea'] - df_merged['int_rate_jp']"
   ]
  },
  {
   "cell_type": "markdown",
   "metadata": {},
   "source": [
    "### GDP 대비 외환보유액 및 증가율"
   ]
  },
  {
   "cell_type": "code",
   "execution_count": 79,
   "metadata": {},
   "outputs": [],
   "source": [
    "df_merged['reserves_to_gdp'] = df_merged['foreign_reserves'] / df_merged['gdp_korea'] /1000 * 100\n",
    "df_merged['reserves_growth'] = df_merged['foreign_reserves'].pct_change(periods=12) * 100"
   ]
  },
  {
   "cell_type": "markdown",
   "metadata": {},
   "source": [
    "### 필요한 컬럼만 남김"
   ]
  },
  {
   "cell_type": "code",
   "execution_count": 80,
   "metadata": {},
   "outputs": [],
   "source": [
    "df_sample = df_merged[[\n",
    "    'F12.ann_ret', 'real_xr',\n",
    "    'ca_gdp_korea', 'ca_gdp_jp',\n",
    "    'gdp_growth_korea', 'gdp_growth_jp',\n",
    "    'infl_diff', 'int_rate_diff',\n",
    "    'reserves_to_gdp', 'reserves_growth'\n",
    "]]"
   ]
  },
  {
   "cell_type": "code",
   "execution_count": 82,
   "metadata": {},
   "outputs": [],
   "source": [
    "df_sample = df_sample.dropna()\n",
    "df_sample = df_sample.loc['1998-12-31':]"
   ]
  },
  {
   "cell_type": "code",
   "execution_count": 83,
   "metadata": {},
   "outputs": [
    {
     "data": {
      "text/html": [
       "<div>\n",
       "<style scoped>\n",
       "    .dataframe tbody tr th:only-of-type {\n",
       "        vertical-align: middle;\n",
       "    }\n",
       "\n",
       "    .dataframe tbody tr th {\n",
       "        vertical-align: top;\n",
       "    }\n",
       "\n",
       "    .dataframe thead th {\n",
       "        text-align: right;\n",
       "    }\n",
       "</style>\n",
       "<table border=\"1\" class=\"dataframe\">\n",
       "  <thead>\n",
       "    <tr style=\"text-align: right;\">\n",
       "      <th></th>\n",
       "      <th>F12.ann_ret</th>\n",
       "      <th>real_xr</th>\n",
       "      <th>ca_gdp_korea</th>\n",
       "      <th>ca_gdp_jp</th>\n",
       "      <th>gdp_growth_korea</th>\n",
       "      <th>gdp_growth_jp</th>\n",
       "      <th>infl_diff</th>\n",
       "      <th>int_rate_diff</th>\n",
       "      <th>reserves_to_gdp</th>\n",
       "      <th>reserves_growth</th>\n",
       "    </tr>\n",
       "    <tr>\n",
       "      <th>date</th>\n",
       "      <th></th>\n",
       "      <th></th>\n",
       "      <th></th>\n",
       "      <th></th>\n",
       "      <th></th>\n",
       "      <th></th>\n",
       "      <th></th>\n",
       "      <th></th>\n",
       "      <th></th>\n",
       "      <th></th>\n",
       "    </tr>\n",
       "  </thead>\n",
       "  <tbody>\n",
       "    <tr>\n",
       "      <th>1998-12-31</th>\n",
       "      <td>6.489981</td>\n",
       "      <td>0.000044</td>\n",
       "      <td>10.477291</td>\n",
       "      <td>2.798314</td>\n",
       "      <td>-3.383</td>\n",
       "      <td>-0.676</td>\n",
       "      <td>3.367014</td>\n",
       "      <td>2.56</td>\n",
       "      <td>13.592840</td>\n",
       "      <td>155.033859</td>\n",
       "    </tr>\n",
       "    <tr>\n",
       "      <th>1999-01-31</th>\n",
       "      <td>3.873215</td>\n",
       "      <td>0.000046</td>\n",
       "      <td>10.477291</td>\n",
       "      <td>2.798314</td>\n",
       "      <td>-3.383</td>\n",
       "      <td>-0.676</td>\n",
       "      <td>1.269399</td>\n",
       "      <td>2.11</td>\n",
       "      <td>13.999523</td>\n",
       "      <td>127.925687</td>\n",
       "    </tr>\n",
       "    <tr>\n",
       "      <th>1999-02-28</th>\n",
       "      <td>0.651967</td>\n",
       "      <td>0.000045</td>\n",
       "      <td>10.477291</td>\n",
       "      <td>2.798314</td>\n",
       "      <td>-3.383</td>\n",
       "      <td>-0.676</td>\n",
       "      <td>0.265566</td>\n",
       "      <td>1.80</td>\n",
       "      <td>14.485070</td>\n",
       "      <td>107.584787</td>\n",
       "    </tr>\n",
       "  </tbody>\n",
       "</table>\n",
       "</div>"
      ],
      "text/plain": [
       "            F12.ann_ret   real_xr  ca_gdp_korea  ca_gdp_jp  gdp_growth_korea  \\\n",
       "date                                                                           \n",
       "1998-12-31     6.489981  0.000044     10.477291   2.798314            -3.383   \n",
       "1999-01-31     3.873215  0.000046     10.477291   2.798314            -3.383   \n",
       "1999-02-28     0.651967  0.000045     10.477291   2.798314            -3.383   \n",
       "\n",
       "            gdp_growth_jp  infl_diff  int_rate_diff  reserves_to_gdp  \\\n",
       "date                                                                   \n",
       "1998-12-31         -0.676   3.367014           2.56        13.592840   \n",
       "1999-01-31         -0.676   1.269399           2.11        13.999523   \n",
       "1999-02-28         -0.676   0.265566           1.80        14.485070   \n",
       "\n",
       "            reserves_growth  \n",
       "date                         \n",
       "1998-12-31       155.033859  \n",
       "1999-01-31       127.925687  \n",
       "1999-02-28       107.584787  "
      ]
     },
     "execution_count": 83,
     "metadata": {},
     "output_type": "execute_result"
    }
   ],
   "source": [
    "df_sample.head(3)"
   ]
  },
  {
   "cell_type": "code",
   "execution_count": 84,
   "metadata": {},
   "outputs": [
    {
     "data": {
      "text/plain": [
       "<Axes: >"
      ]
     },
     "execution_count": 84,
     "metadata": {},
     "output_type": "execute_result"
    },
    {
     "data": {
      "image/png": "[encoded data removed]",
      "text/plain": [
       "<Figure size 1000x400 with 2 Axes>"
      ]
     },
     "metadata": {},
     "output_type": "display_data"
    }
   ],
   "source": [
    "corr = df_sample.corr()\n",
    "sns.heatmap(corr)"
   ]
  },
  {
   "cell_type": "code",
   "execution_count": 87,
   "metadata": {},
   "outputs": [],
   "source": [
    "# triu = upper triangle\n",
    "mask = np.triu(np.ones_like(corr))"
   ]
  },
  {
   "cell_type": "code",
   "execution_count": 88,
   "metadata": {},
   "outputs": [],
   "source": [
    "cmap = sns.diverging_palette(230, 20, as_cmap=True)"
   ]
  },
  {
   "cell_type": "code",
   "execution_count": 89,
   "metadata": {},
   "outputs": [
    {
     "data": {
      "text/plain": [
       "<Axes: >"
      ]
     },
     "execution_count": 89,
     "metadata": {},
     "output_type": "execute_result"
    },
    {
     "data": {
      "image/png": "[encoded data removed]",
      "text/plain": [
       "<Figure size 1000x400 with 2 Axes>"
      ]
     },
     "metadata": {},
     "output_type": "display_data"
    }
   ],
   "source": [
    "sns.heatmap(corr, cmap=cmap, mask=mask, vmin=-1, vmax=1)"
   ]
  },
  {
   "cell_type": "code",
   "execution_count": null,
   "metadata": {},
   "outputs": [],
   "source": []
  },
  {
   "cell_type": "code",
   "execution_count": 90,
   "metadata": {},
   "outputs": [
    {
     "data": {
      "text/html": [
       "<div>\n",
       "<style scoped>\n",
       "    .dataframe tbody tr th:only-of-type {\n",
       "        vertical-align: middle;\n",
       "    }\n",
       "\n",
       "    .dataframe tbody tr th {\n",
       "        vertical-align: top;\n",
       "    }\n",
       "\n",
       "    .dataframe thead th {\n",
       "        text-align: right;\n",
       "    }\n",
       "</style>\n",
       "<table border=\"1\" class=\"dataframe\">\n",
       "  <thead>\n",
       "    <tr style=\"text-align: right;\">\n",
       "      <th></th>\n",
       "      <th>F12.ann_ret</th>\n",
       "      <th>real_xr</th>\n",
       "      <th>ca_gdp_korea</th>\n",
       "      <th>ca_gdp_jp</th>\n",
       "      <th>gdp_growth_korea</th>\n",
       "      <th>gdp_growth_jp</th>\n",
       "      <th>infl_diff</th>\n",
       "      <th>int_rate_diff</th>\n",
       "      <th>reserves_to_gdp</th>\n",
       "      <th>reserves_growth</th>\n",
       "    </tr>\n",
       "    <tr>\n",
       "      <th>date</th>\n",
       "      <th></th>\n",
       "      <th></th>\n",
       "      <th></th>\n",
       "      <th></th>\n",
       "      <th></th>\n",
       "      <th></th>\n",
       "      <th></th>\n",
       "      <th></th>\n",
       "      <th></th>\n",
       "      <th></th>\n",
       "    </tr>\n",
       "  </thead>\n",
       "  <tbody>\n",
       "    <tr>\n",
       "      <th>1998-12-31</th>\n",
       "      <td>6.489981</td>\n",
       "      <td>0.000044</td>\n",
       "      <td>10.477291</td>\n",
       "      <td>2.798314</td>\n",
       "      <td>-3.383</td>\n",
       "      <td>-0.676</td>\n",
       "      <td>3.367014</td>\n",
       "      <td>2.56</td>\n",
       "      <td>13.592840</td>\n",
       "      <td>155.033859</td>\n",
       "    </tr>\n",
       "    <tr>\n",
       "      <th>1999-01-31</th>\n",
       "      <td>3.873215</td>\n",
       "      <td>0.000046</td>\n",
       "      <td>10.477291</td>\n",
       "      <td>2.798314</td>\n",
       "      <td>-3.383</td>\n",
       "      <td>-0.676</td>\n",
       "      <td>1.269399</td>\n",
       "      <td>2.11</td>\n",
       "      <td>13.999523</td>\n",
       "      <td>127.925687</td>\n",
       "    </tr>\n",
       "    <tr>\n",
       "      <th>1999-02-28</th>\n",
       "      <td>0.651967</td>\n",
       "      <td>0.000045</td>\n",
       "      <td>10.477291</td>\n",
       "      <td>2.798314</td>\n",
       "      <td>-3.383</td>\n",
       "      <td>-0.676</td>\n",
       "      <td>0.265566</td>\n",
       "      <td>1.80</td>\n",
       "      <td>14.485070</td>\n",
       "      <td>107.584787</td>\n",
       "    </tr>\n",
       "    <tr>\n",
       "      <th>1999-03-31</th>\n",
       "      <td>3.053360</td>\n",
       "      <td>0.000046</td>\n",
       "      <td>8.936132</td>\n",
       "      <td>2.731757</td>\n",
       "      <td>6.470</td>\n",
       "      <td>-0.827</td>\n",
       "      <td>0.912194</td>\n",
       "      <td>1.65</td>\n",
       "      <td>15.005900</td>\n",
       "      <td>93.118709</td>\n",
       "    </tr>\n",
       "    <tr>\n",
       "      <th>1999-04-30</th>\n",
       "      <td>4.126127</td>\n",
       "      <td>0.000047</td>\n",
       "      <td>8.936132</td>\n",
       "      <td>2.731757</td>\n",
       "      <td>6.470</td>\n",
       "      <td>-0.827</td>\n",
       "      <td>0.526887</td>\n",
       "      <td>1.28</td>\n",
       "      <td>15.479473</td>\n",
       "      <td>66.733513</td>\n",
       "    </tr>\n",
       "    <tr>\n",
       "      <th>...</th>\n",
       "      <td>...</td>\n",
       "      <td>...</td>\n",
       "      <td>...</td>\n",
       "      <td>...</td>\n",
       "      <td>...</td>\n",
       "      <td>...</td>\n",
       "      <td>...</td>\n",
       "      <td>...</td>\n",
       "      <td>...</td>\n",
       "      <td>...</td>\n",
       "    </tr>\n",
       "    <tr>\n",
       "      <th>2023-04-30</th>\n",
       "      <td>-11.787574</td>\n",
       "      <td>0.000085</td>\n",
       "      <td>0.352616</td>\n",
       "      <td>1.579321</td>\n",
       "      <td>1.176</td>\n",
       "      <td>2.433</td>\n",
       "      <td>0.145276</td>\n",
       "      <td>-1.53</td>\n",
       "      <td>25.490139</td>\n",
       "      <td>-5.033205</td>\n",
       "    </tr>\n",
       "    <tr>\n",
       "      <th>2023-05-31</th>\n",
       "      <td>-7.203112</td>\n",
       "      <td>0.000090</td>\n",
       "      <td>0.352616</td>\n",
       "      <td>1.579321</td>\n",
       "      <td>1.176</td>\n",
       "      <td>2.433</td>\n",
       "      <td>0.133449</td>\n",
       "      <td>-1.51</td>\n",
       "      <td>25.149604</td>\n",
       "      <td>-5.969863</td>\n",
       "    </tr>\n",
       "    <tr>\n",
       "      <th>2023-06-30</th>\n",
       "      <td>-4.703573</td>\n",
       "      <td>0.000094</td>\n",
       "      <td>0.149446</td>\n",
       "      <td>2.093027</td>\n",
       "      <td>0.929</td>\n",
       "      <td>2.204</td>\n",
       "      <td>-0.604380</td>\n",
       "      <td>-1.47</td>\n",
       "      <td>25.177715</td>\n",
       "      <td>-3.838753</td>\n",
       "    </tr>\n",
       "    <tr>\n",
       "      <th>2023-07-31</th>\n",
       "      <td>-0.312679</td>\n",
       "      <td>0.000094</td>\n",
       "      <td>0.149446</td>\n",
       "      <td>2.093027</td>\n",
       "      <td>0.929</td>\n",
       "      <td>2.204</td>\n",
       "      <td>-0.968073</td>\n",
       "      <td>-1.60</td>\n",
       "      <td>25.198617</td>\n",
       "      <td>-3.830678</td>\n",
       "    </tr>\n",
       "    <tr>\n",
       "      <th>2023-08-31</th>\n",
       "      <td>3.231794</td>\n",
       "      <td>0.000094</td>\n",
       "      <td>0.149446</td>\n",
       "      <td>2.093027</td>\n",
       "      <td>0.929</td>\n",
       "      <td>2.204</td>\n",
       "      <td>0.234659</td>\n",
       "      <td>-1.74</td>\n",
       "      <td>24.989364</td>\n",
       "      <td>-4.154381</td>\n",
       "    </tr>\n",
       "  </tbody>\n",
       "</table>\n",
       "<p>297 rows × 10 columns</p>\n",
       "</div>"
      ],
      "text/plain": [
       "            F12.ann_ret   real_xr  ca_gdp_korea  ca_gdp_jp  gdp_growth_korea  \\\n",
       "date                                                                           \n",
       "1998-12-31     6.489981  0.000044     10.477291   2.798314            -3.383   \n",
       "1999-01-31     3.873215  0.000046     10.477291   2.798314            -3.383   \n",
       "1999-02-28     0.651967  0.000045     10.477291   2.798314            -3.383   \n",
       "1999-03-31     3.053360  0.000046      8.936132   2.731757             6.470   \n",
       "1999-04-30     4.126127  0.000047      8.936132   2.731757             6.470   \n",
       "...                 ...       ...           ...        ...               ...   \n",
       "2023-04-30   -11.787574  0.000085      0.352616   1.579321             1.176   \n",
       "2023-05-31    -7.203112  0.000090      0.352616   1.579321             1.176   \n",
       "2023-06-30    -4.703573  0.000094      0.149446   2.093027             0.929   \n",
       "2023-07-31    -0.312679  0.000094      0.149446   2.093027             0.929   \n",
       "2023-08-31     3.231794  0.000094      0.149446   2.093027             0.929   \n",
       "\n",
       "            gdp_growth_jp  infl_diff  int_rate_diff  reserves_to_gdp  \\\n",
       "date                                                                   \n",
       "1998-12-31         -0.676   3.367014           2.56        13.592840   \n",
       "1999-01-31         -0.676   1.269399           2.11        13.999523   \n",
       "1999-02-28         -0.676   0.265566           1.80        14.485070   \n",
       "1999-03-31         -0.827   0.912194           1.65        15.005900   \n",
       "1999-04-30         -0.827   0.526887           1.28        15.479473   \n",
       "...                   ...        ...            ...              ...   \n",
       "2023-04-30          2.433   0.145276          -1.53        25.490139   \n",
       "2023-05-31          2.433   0.133449          -1.51        25.149604   \n",
       "2023-06-30          2.204  -0.604380          -1.47        25.177715   \n",
       "2023-07-31          2.204  -0.968073          -1.60        25.198617   \n",
       "2023-08-31          2.204   0.234659          -1.74        24.989364   \n",
       "\n",
       "            reserves_growth  \n",
       "date                         \n",
       "1998-12-31       155.033859  \n",
       "1999-01-31       127.925687  \n",
       "1999-02-28       107.584787  \n",
       "1999-03-31        93.118709  \n",
       "1999-04-30        66.733513  \n",
       "...                     ...  \n",
       "2023-04-30        -5.033205  \n",
       "2023-05-31        -5.969863  \n",
       "2023-06-30        -3.838753  \n",
       "2023-07-31        -3.830678  \n",
       "2023-08-31        -4.154381  \n",
       "\n",
       "[297 rows x 10 columns]"
      ]
     },
     "execution_count": 90,
     "metadata": {},
     "output_type": "execute_result"
    }
   ],
   "source": [
    "df_sample"
   ]
  },
  {
   "cell_type": "code",
   "execution_count": 91,
   "metadata": {},
   "outputs": [],
   "source": [
    "X = df_sample\n",
    "X = sm.add_constant(X)\n",
    "Y = df_sample['F12.ann_ret']"
   ]
  },
  {
   "cell_type": "code",
   "execution_count": 92,
   "metadata": {},
   "outputs": [
    {
     "data": {
      "text/html": [
       "<table class=\"simpletable\">\n",
       "<caption>OLS Regression Results</caption>\n",
       "<tr>\n",
       "  <th>Dep. Variable:</th>       <td>F12.ann_ret</td>   <th>  R-squared:         </th>  <td>   1.000</td> \n",
       "</tr>\n",
       "<tr>\n",
       "  <th>Model:</th>                   <td>OLS</td>       <th>  Adj. R-squared:    </th>  <td>   1.000</td> \n",
       "</tr>\n",
       "<tr>\n",
       "  <th>Method:</th>             <td>Least Squares</td>  <th>  F-statistic:       </th>  <td>1.476e+32</td>\n",
       "</tr>\n",
       "<tr>\n",
       "  <th>Date:</th>             <td>Sat, 10 Aug 2024</td> <th>  Prob (F-statistic):</th>   <td>  0.00</td>  \n",
       "</tr>\n",
       "<tr>\n",
       "  <th>Time:</th>                 <td>14:44:02</td>     <th>  Log-Likelihood:    </th>  <td>  9282.4</td> \n",
       "</tr>\n",
       "<tr>\n",
       "  <th>No. Observations:</th>      <td>   297</td>      <th>  AIC:               </th> <td>-1.854e+04</td>\n",
       "</tr>\n",
       "<tr>\n",
       "  <th>Df Residuals:</th>          <td>   286</td>      <th>  BIC:               </th> <td>-1.850e+04</td>\n",
       "</tr>\n",
       "<tr>\n",
       "  <th>Df Model:</th>              <td>    10</td>      <th>                     </th>      <td> </td>    \n",
       "</tr>\n",
       "<tr>\n",
       "  <th>Covariance Type:</th>      <td>nonrobust</td>    <th>                     </th>      <td> </td>    \n",
       "</tr>\n",
       "</table>\n",
       "<table class=\"simpletable\">\n",
       "<tr>\n",
       "          <td></td>            <th>coef</th>     <th>std err</th>      <th>t</th>      <th>P>|t|</th>  <th>[0.025</th>    <th>0.975]</th>  \n",
       "</tr>\n",
       "<tr>\n",
       "  <th>const</th>            <td> 7.105e-15</td> <td>  5.3e-15</td> <td>    1.342</td> <td> 0.181</td> <td>-3.32e-15</td> <td> 1.75e-14</td>\n",
       "</tr>\n",
       "<tr>\n",
       "  <th>F12.ann_ret</th>      <td>    1.0000</td> <td> 3.79e-17</td> <td> 2.64e+16</td> <td> 0.000</td> <td>    1.000</td> <td>    1.000</td>\n",
       "</tr>\n",
       "<tr>\n",
       "  <th>real_xr</th>          <td>-1.455e-11</td> <td> 6.68e-11</td> <td>   -0.218</td> <td> 0.828</td> <td>-1.46e-10</td> <td> 1.17e-10</td>\n",
       "</tr>\n",
       "<tr>\n",
       "  <th>ca_gdp_korea</th>     <td>-1.249e-16</td> <td> 2.41e-16</td> <td>   -0.519</td> <td> 0.604</td> <td>-5.98e-16</td> <td> 3.49e-16</td>\n",
       "</tr>\n",
       "<tr>\n",
       "  <th>ca_gdp_jp</th>        <td> 3.521e-16</td> <td> 5.72e-16</td> <td>    0.615</td> <td> 0.539</td> <td>-7.74e-16</td> <td> 1.48e-15</td>\n",
       "</tr>\n",
       "<tr>\n",
       "  <th>gdp_growth_korea</th> <td> 5.135e-16</td> <td>  1.9e-16</td> <td>    2.697</td> <td> 0.007</td> <td> 1.39e-16</td> <td> 8.88e-16</td>\n",
       "</tr>\n",
       "<tr>\n",
       "  <th>gdp_growth_jp</th>    <td>-6.939e-16</td> <td> 2.12e-16</td> <td>   -3.269</td> <td> 0.001</td> <td>-1.11e-15</td> <td>-2.76e-16</td>\n",
       "</tr>\n",
       "<tr>\n",
       "  <th>infl_diff</th>        <td>  2.22e-16</td> <td> 4.07e-16</td> <td>    0.546</td> <td> 0.586</td> <td>-5.79e-16</td> <td> 1.02e-15</td>\n",
       "</tr>\n",
       "<tr>\n",
       "  <th>int_rate_diff</th>    <td>-3.331e-16</td> <td> 4.86e-16</td> <td>   -0.686</td> <td> 0.494</td> <td>-1.29e-15</td> <td> 6.23e-16</td>\n",
       "</tr>\n",
       "<tr>\n",
       "  <th>reserves_to_gdp</th>  <td>-3.747e-16</td> <td> 1.66e-16</td> <td>   -2.253</td> <td> 0.025</td> <td>-7.02e-16</td> <td>-4.74e-17</td>\n",
       "</tr>\n",
       "<tr>\n",
       "  <th>reserves_growth</th>  <td>-1.475e-16</td> <td> 3.05e-17</td> <td>   -4.833</td> <td> 0.000</td> <td>-2.08e-16</td> <td>-8.74e-17</td>\n",
       "</tr>\n",
       "</table>\n",
       "<table class=\"simpletable\">\n",
       "<tr>\n",
       "  <th>Omnibus:</th>       <td>109.152</td> <th>  Durbin-Watson:     </th> <td>   0.149</td> \n",
       "</tr>\n",
       "<tr>\n",
       "  <th>Prob(Omnibus):</th> <td> 0.000</td>  <th>  Jarque-Bera (JB):  </th> <td> 503.307</td> \n",
       "</tr>\n",
       "<tr>\n",
       "  <th>Skew:</th>          <td> 1.470</td>  <th>  Prob(JB):          </th> <td>5.11e-110</td>\n",
       "</tr>\n",
       "<tr>\n",
       "  <th>Kurtosis:</th>      <td> 8.659</td>  <th>  Cond. No.          </th> <td>5.04e+06</td> \n",
       "</tr>\n",
       "</table><br/><br/>Notes:<br/>[1] Standard Errors assume that the covariance matrix of the errors is correctly specified.<br/>[2] The condition number is large, 5.04e+06. This might indicate that there are<br/>strong multicollinearity or other numerical problems."
      ],
      "text/latex": [
       "\\begin{center}\n",
       "\\begin{tabular}{lclc}\n",
       "\\toprule\n",
       "\\textbf{Dep. Variable:}     &   F12.ann\\_ret   & \\textbf{  R-squared:         } &     1.000   \\\\\n",
       "\\textbf{Model:}             &       OLS        & \\textbf{  Adj. R-squared:    } &     1.000   \\\\\n",
       "\\textbf{Method:}            &  Least Squares   & \\textbf{  F-statistic:       } & 1.476e+32   \\\\\n",
       "\\textbf{Date:}              & Sat, 10 Aug 2024 & \\textbf{  Prob (F-statistic):} &     0.00    \\\\\n",
       "\\textbf{Time:}              &     14:44:02     & \\textbf{  Log-Likelihood:    } &    9282.4   \\\\\n",
       "\\textbf{No. Observations:}  &         297      & \\textbf{  AIC:               } & -1.854e+04  \\\\\n",
       "\\textbf{Df Residuals:}      &         286      & \\textbf{  BIC:               } & -1.850e+04  \\\\\n",
       "\\textbf{Df Model:}          &          10      & \\textbf{                     } &             \\\\\n",
       "\\textbf{Covariance Type:}   &    nonrobust     & \\textbf{                     } &             \\\\\n",
       "\\bottomrule\n",
       "\\end{tabular}\n",
       "\\begin{tabular}{lcccccc}\n",
       "                            & \\textbf{coef} & \\textbf{std err} & \\textbf{t} & \\textbf{P$> |$t$|$} & \\textbf{[0.025} & \\textbf{0.975]}  \\\\\n",
       "\\midrule\n",
       "\\textbf{const}              &    7.105e-15  &      5.3e-15     &     1.342  &         0.181        &    -3.32e-15    &     1.75e-14     \\\\\n",
       "\\textbf{F12.ann\\_ret}       &       1.0000  &     3.79e-17     &  2.64e+16  &         0.000        &        1.000    &        1.000     \\\\\n",
       "\\textbf{real\\_xr}           &   -1.455e-11  &     6.68e-11     &    -0.218  &         0.828        &    -1.46e-10    &     1.17e-10     \\\\\n",
       "\\textbf{ca\\_gdp\\_korea}     &   -1.249e-16  &     2.41e-16     &    -0.519  &         0.604        &    -5.98e-16    &     3.49e-16     \\\\\n",
       "\\textbf{ca\\_gdp\\_jp}        &    3.521e-16  &     5.72e-16     &     0.615  &         0.539        &    -7.74e-16    &     1.48e-15     \\\\\n",
       "\\textbf{gdp\\_growth\\_korea} &    5.135e-16  &      1.9e-16     &     2.697  &         0.007        &     1.39e-16    &     8.88e-16     \\\\\n",
       "\\textbf{gdp\\_growth\\_jp}    &   -6.939e-16  &     2.12e-16     &    -3.269  &         0.001        &    -1.11e-15    &    -2.76e-16     \\\\\n",
       "\\textbf{infl\\_diff}         &     2.22e-16  &     4.07e-16     &     0.546  &         0.586        &    -5.79e-16    &     1.02e-15     \\\\\n",
       "\\textbf{int\\_rate\\_diff}    &   -3.331e-16  &     4.86e-16     &    -0.686  &         0.494        &    -1.29e-15    &     6.23e-16     \\\\\n",
       "\\textbf{reserves\\_to\\_gdp}  &   -3.747e-16  &     1.66e-16     &    -2.253  &         0.025        &    -7.02e-16    &    -4.74e-17     \\\\\n",
       "\\textbf{reserves\\_growth}   &   -1.475e-16  &     3.05e-17     &    -4.833  &         0.000        &    -2.08e-16    &    -8.74e-17     \\\\\n",
       "\\bottomrule\n",
       "\\end{tabular}\n",
       "\\begin{tabular}{lclc}\n",
       "\\textbf{Omnibus:}       & 109.152 & \\textbf{  Durbin-Watson:     } &     0.149  \\\\\n",
       "\\textbf{Prob(Omnibus):} &   0.000 & \\textbf{  Jarque-Bera (JB):  } &   503.307  \\\\\n",
       "\\textbf{Skew:}          &   1.470 & \\textbf{  Prob(JB):          } & 5.11e-110  \\\\\n",
       "\\textbf{Kurtosis:}      &   8.659 & \\textbf{  Cond. No.          } &  5.04e+06  \\\\\n",
       "\\bottomrule\n",
       "\\end{tabular}\n",
       "%\\caption{OLS Regression Results}\n",
       "\\end{center}\n",
       "\n",
       "Notes: \\newline\n",
       " [1] Standard Errors assume that the covariance matrix of the errors is correctly specified. \\newline\n",
       " [2] The condition number is large, 5.04e+06. This might indicate that there are \\newline\n",
       " strong multicollinearity or other numerical problems."
      ],
      "text/plain": [
       "<class 'statsmodels.iolib.summary.Summary'>\n",
       "\"\"\"\n",
       "                            OLS Regression Results                            \n",
       "==============================================================================\n",
       "Dep. Variable:            F12.ann_ret   R-squared:                       1.000\n",
       "Model:                            OLS   Adj. R-squared:                  1.000\n",
       "Method:                 Least Squares   F-statistic:                 1.476e+32\n",
       "Date:                Sat, 10 Aug 2024   Prob (F-statistic):               0.00\n",
       "Time:                        14:44:02   Log-Likelihood:                 9282.4\n",
       "No. Observations:                 297   AIC:                        -1.854e+04\n",
       "Df Residuals:                     286   BIC:                        -1.850e+04\n",
       "Df Model:                          10                                         \n",
       "Covariance Type:            nonrobust                                         \n",
       "====================================================================================\n",
       "                       coef    std err          t      P>|t|      [0.025      0.975]\n",
       "------------------------------------------------------------------------------------\n",
       "const             7.105e-15    5.3e-15      1.342      0.181   -3.32e-15    1.75e-14\n",
       "F12.ann_ret          1.0000   3.79e-17   2.64e+16      0.000       1.000       1.000\n",
       "real_xr          -1.455e-11   6.68e-11     -0.218      0.828   -1.46e-10    1.17e-10\n",
       "ca_gdp_korea     -1.249e-16   2.41e-16     -0.519      0.604   -5.98e-16    3.49e-16\n",
       "ca_gdp_jp         3.521e-16   5.72e-16      0.615      0.539   -7.74e-16    1.48e-15\n",
       "gdp_growth_korea  5.135e-16    1.9e-16      2.697      0.007    1.39e-16    8.88e-16\n",
       "gdp_growth_jp    -6.939e-16   2.12e-16     -3.269      0.001   -1.11e-15   -2.76e-16\n",
       "infl_diff          2.22e-16   4.07e-16      0.546      0.586   -5.79e-16    1.02e-15\n",
       "int_rate_diff    -3.331e-16   4.86e-16     -0.686      0.494   -1.29e-15    6.23e-16\n",
       "reserves_to_gdp  -3.747e-16   1.66e-16     -2.253      0.025   -7.02e-16   -4.74e-17\n",
       "reserves_growth  -1.475e-16   3.05e-17     -4.833      0.000   -2.08e-16   -8.74e-17\n",
       "==============================================================================\n",
       "Omnibus:                      109.152   Durbin-Watson:                   0.149\n",
       "Prob(Omnibus):                  0.000   Jarque-Bera (JB):              503.307\n",
       "Skew:                           1.470   Prob(JB):                    5.11e-110\n",
       "Kurtosis:                       8.659   Cond. No.                     5.04e+06\n",
       "==============================================================================\n",
       "\n",
       "Notes:\n",
       "[1] Standard Errors assume that the covariance matrix of the errors is correctly specified.\n",
       "[2] The condition number is large, 5.04e+06. This might indicate that there are\n",
       "strong multicollinearity or other numerical problems.\n",
       "\"\"\""
      ]
     },
     "execution_count": 92,
     "metadata": {},
     "output_type": "execute_result"
    }
   ],
   "source": [
    "model = sm.OLS(Y,X)\n",
    "results = model.fit()\n",
    "results.summary()"
   ]
  },
  {
   "cell_type": "code",
   "execution_count": null,
   "metadata": {},
   "outputs": [],
   "source": []
  },
  {
   "cell_type": "code",
   "execution_count": null,
   "metadata": {},
   "outputs": [],
   "source": []
  },
  {
   "cell_type": "code",
   "execution_count": null,
   "metadata": {},
   "outputs": [],
   "source": []
  },
  {
   "cell_type": "code",
   "execution_count": null,
   "metadata": {},
   "outputs": [],
   "source": []
  },
  {
   "cell_type": "code",
   "execution_count": null,
   "metadata": {},
   "outputs": [],
   "source": []
  },
  {
   "cell_type": "code",
   "execution_count": null,
   "metadata": {},
   "outputs": [],
   "source": []
  },
  {
   "cell_type": "code",
   "execution_count": null,
   "metadata": {},
   "outputs": [],
   "source": []
  },
  {
   "cell_type": "code",
   "execution_count": null,
   "metadata": {},
   "outputs": [],
   "source": []
  },
  {
   "cell_type": "code",
   "execution_count": null,
   "metadata": {},
   "outputs": [],
   "source": []
  },
  {
   "cell_type": "code",
   "execution_count": null,
   "metadata": {},
   "outputs": [],
   "source": []
  },
  {
   "cell_type": "code",
   "execution_count": null,
   "metadata": {},
   "outputs": [],
   "source": []
  },
  {
   "cell_type": "code",
   "execution_count": null,
   "metadata": {},
   "outputs": [],
   "source": []
  },
  {
   "cell_type": "code",
   "execution_count": null,
   "metadata": {},
   "outputs": [],
   "source": []
  },
  {
   "cell_type": "code",
   "execution_count": null,
   "metadata": {},
   "outputs": [],
   "source": []
  },
  {
   "cell_type": "code",
   "execution_count": null,
   "metadata": {},
   "outputs": [],
   "source": []
  },
  {
   "cell_type": "code",
   "execution_count": null,
   "metadata": {},
   "outputs": [],
   "source": []
  }
 ],
 "metadata": {
  "kernelspec": {
   "display_name": "Python 3",
   "language": "python",
   "name": "python3"
  },
  "language_info": {
   "codemirror_mode": {
    "name": "ipython",
    "version": 3
   },
   "file_extension": ".py",
   "mimetype": "text/x-python",
   "name": "python",
   "nbconvert_exporter": "python",
   "pygments_lexer": "ipython3",
   "version": "3.10.14"
  }
 },
 "nbformat": 4,
 "nbformat_minor": 2
}
